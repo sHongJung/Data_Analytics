{
 "cells": [
  {
   "cell_type": "code",
   "execution_count": 1,
   "metadata": {
    "collapsed": false
   },
   "outputs": [
    {
     "ename": "TypeError",
     "evalue": "unsupported operand type(s) for -: 'str' and 'str'",
     "traceback": [
      "\u001b[0;31m---------------------------------------------------------------------------\u001b[0m",
      "\u001b[0;31mTypeError\u001b[0m                                 Traceback (most recent call last)",
      "\u001b[0;32m<ipython-input-1-9a9da0af92be>\u001b[0m in \u001b[0;36m<module>\u001b[0;34m()\u001b[0m\n\u001b[1;32m      2\u001b[0m \u001b[0mtime_str2\u001b[0m \u001b[0;34m=\u001b[0m \u001b[0;34m\"Thu Jul 27 02:50:06 +0000 2017\"\u001b[0m\u001b[0;34m\u001b[0m\u001b[0m\n\u001b[1;32m      3\u001b[0m \u001b[0;34m\u001b[0m\u001b[0m\n\u001b[0;32m----> 4\u001b[0;31m \u001b[0mprint\u001b[0m\u001b[0;34m(\u001b[0m\u001b[0mtime_str\u001b[0m \u001b[0;34m-\u001b[0m \u001b[0mtime_str2\u001b[0m\u001b[0;34m)\u001b[0m\u001b[0;34m\u001b[0m\u001b[0m\n\u001b[0m",
      "\u001b[0;31mTypeError\u001b[0m: unsupported operand type(s) for -: 'str' and 'str'"
     ],
     "output_type": "error"
    }
   ],
   "source": [
    "time_str = \"Thu Jul 27 03:05:06 +0000 2017\"\n",
    "time_str2 = \"Thu Jul 27 02:50:06 +0000 2017\"\n",
    "\n",
    "print(time_str - time_str2)\n"
   ]
  },
  {
   "cell_type": "code",
   "execution_count": 23,
   "metadata": {
    "collapsed": false
   },
   "outputs": [
    {
     "name": "stdout",
     "output_type": "stream",
     "text": [
      "2017-07-27 03:05:06+00:00\n",
      "2017-07-27 02:50:06+00:00\n",
      "0:15:00\n",
      "900 seconds\n"
     ]
    }
   ],
   "source": [
    "from datetime import datetime\n",
    "\n",
    "time_str1 = \"Thu Jul 27 03:05:06 +0000 2017\"\n",
    "time_str2 = \"Thu Jul 27 02:50:06 +0000 2017\"\n",
    "\n",
    "# Convert datetime strings into datetime objects\n",
    "# https://docs.python.org/3/library/datetime.html#strftime-and-strptime-behavior\n",
    "converted_time1 = datetime.strptime(time_str1, \"%a %b %d %H:%M:%S %z %Y\")\n",
    "converted_time2 = datetime.strptime(time_str2, \"%a %b %d %H:%M:%S %z %Y\")\n",
    "\n",
    "print(converted_time1)\n",
    "print(converted_time2)\n",
    "\n",
    "# Subtract a datetime object from another\n",
    "diff = converted_time1 - converted_time2\n",
    "print(diff)\n",
    "print(diff.seconds, \"seconds\")"
   ]
  },
  {
   "cell_type": "code",
   "execution_count": null,
   "metadata": {
    "collapsed": false
   },
   "outputs": [],
   "source": []
  },
  {
   "cell_type": "code",
   "execution_count": null,
   "metadata": {
    "collapsed": true
   },
   "outputs": [],
   "source": []
  }
 ],
 "metadata": {
  "kernelspec": {
   "display_name": "Python 3",
   "language": "python",
   "name": "python3"
  },
  "language_info": {
   "codemirror_mode": {
    "name": "ipython",
    "version": 3
   },
   "file_extension": ".py",
   "mimetype": "text/x-python",
   "name": "python",
   "nbconvert_exporter": "python",
   "pygments_lexer": "ipython3",
   "version": "3.6.0"
  }
 },
 "nbformat": 4,
 "nbformat_minor": 2
}
