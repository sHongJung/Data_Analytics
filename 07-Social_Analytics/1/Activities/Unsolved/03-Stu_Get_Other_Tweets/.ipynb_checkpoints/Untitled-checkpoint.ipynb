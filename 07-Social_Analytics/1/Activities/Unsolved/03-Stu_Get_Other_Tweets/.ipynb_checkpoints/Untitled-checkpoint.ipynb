{
 "cells": [
  {
   "cell_type": "code",
   "execution_count": 15,
   "metadata": {
    "collapsed": true
   },
   "outputs": [],
   "source": [
    "import tweepy\n",
    "import json\n",
    "from pprint import pprint\n",
    "import twitter_api as ta"
   ]
  },
  {
   "cell_type": "code",
   "execution_count": 16,
   "metadata": {},
   "outputs": [],
   "source": [
    "consumer_key = ta.consumer_key\n",
    "consumer_secret = ta.consumer_secret\n",
    "access_token = ta.access_token\n",
    "access_token_secret = ta.access_token_secret \n",
    "\n",
    "auth = tweepy.OAuthHandler(consumer_key, consumer_secret)\n",
    "auth.set_access_token(access_token, access_token_secret)\n",
    "api = tweepy.API(auth, parser=tweepy.parsers.JSONParser())"
   ]
  },
  {
   "cell_type": "code",
   "execution_count": 21,
   "metadata": {},
   "outputs": [],
   "source": [
    "user_tweets = api.user_timeline(screen_name='nytimes', count=50)"
   ]
  },
  {
   "cell_type": "code",
   "execution_count": 22,
   "metadata": {},
   "outputs": [
    {
     "name": "stdout",
     "output_type": "stream",
     "text": [
      "('RT @NYTScience: When wolves were reintroduced at Yellowstone and in Idaho, '\n",
      " 'it created many positive ripple effects. That could hold lessons…')\n",
      "('Florida International University has a center devoted to accelerated bridge '\n",
      " 'construction. That engineering method w… https://t.co/5Kv2wFhoZk')\n",
      "('Extremists have embraced Viking symbols, reflecting a darker side of the '\n",
      " 'Viking cultural renaissance taking hold ac… https://t.co/U9mxVluHFI')\n",
      "('RT @nytopinion: In this piece, first published shortly after Donald Trump '\n",
      " 'was elected president, writer McKenzie Funk challenged Facebook t…')\n",
      "('After Rex Tillerson was fired by President Trump in a tweet, we asked '\n",
      " 'historians and other experts to name the most… https://t.co/fpMeuaplPe')\n",
      "('The crack on the Florida bridge was discussed in a meeting hours before the '\n",
      " \"bridge's collapse. The engineering comp… https://t.co/V097lHgfvg\")\n",
      "'RT @NYTSports: Sup, @UMBCAthletics. https://t.co/kZyzyh0t8R'\n",
      "('On the book’s cover, a stony-faced Hitler is featured alongside Gandhi, '\n",
      " 'Nelson Mandela and Barack Obama https://t.co/VHXWOs9hn3')\n",
      "('RT @jonathanweisman: An amazing story detailing how the Mercers and '\n",
      " 'Cambridge Analytica duped Facebook, mined our personal information, and…')\n",
      "('This study may find that moderate drinking is healthy. The alcohol industry '\n",
      " 'was asked to pay for it. https://t.co/lL17Qf7N2w')\n",
      "('“Everybody was keenly aware that it was too white and too male,” said the '\n",
      " 'organizer of a Stanford history conference https://t.co/PcAtV14rei')\n",
      "('Have you been brushing up on relative clauses? Subject-verb agreement? Test '\n",
      " 'your skills in our copy editing quiz. https://t.co/822r4zT04J')\n",
      "('“Gerry’s shoes cannot be filled, but I have my shoes, Michelle’s got her '\n",
      " 'boots and you’re all going to need your sn… https://t.co/pXFw0gpO3X')\n",
      "('Russia ordered 23 British diplomats to leave the country, escalating a '\n",
      " 'diplomatic crisis after a Russian ex-spy and… https://t.co/PzqRMSGkFf')\n",
      "('RT @AKannapell: What We’re Reading: @columlynch/@ForeignPolicy on Nikki '\n",
      " 'Haley’s presidential positioning (via @Max_Fisher); @belltown1/@col…')\n",
      "('A lawyer for President Trump called for an end to the Russia investigation, '\n",
      " 'saying it was \"manufactured\" by the FBI https://t.co/pitaR0DK3r')\n",
      "(\"The week's 10 most notable new songs and videos, chosen by @nytimesmusic \"\n",
      " 'critics https://t.co/9a9Dk0MA6W')\n",
      "('RT @AllMattNYT: “Rules don’t matter:\" The inside story of how a Trump-linked '\n",
      " 'data firm harvested 50+ mil Facebook profiles -- and how Faceb…')\n",
      "('Virginia’s 74-54 defeat at the hands of UMBC was a long time coming '\n",
      " 'https://t.co/c7HPYmc29W')\n",
      "('An Alaska Airlines pilot has sued the airline, alleging she was drugged and '\n",
      " 'raped by another pilot during a layover… https://t.co/cnkNRgrhTs')\n",
      "('The monks of Mepkin Abbey are getting old. One has been at the monastery for '\n",
      " '73 years and the youngest member is 60… https://t.co/NReajwBbt7')\n",
      "('Andrew McCabe was fired Friday. President Trump had heaped scorn on the '\n",
      " 'ex-FBI deputy, who was set to retire Sunday… https://t.co/QMUBT9MvkE')\n",
      "('Modern Love: He was struggling with an obscure neurological illness. Before '\n",
      " 'he died in January, she was his world. https://t.co/Z1nxJvGQvJ')\n",
      "(\"President Trump's lawyers say in court papers that Stormy Daniels could be \"\n",
      " 'liable for $20 million in damages for vi… https://t.co/aUiFi39x1l')\n",
      "('This soda bread is is best eaten still steaming from the oven, slathered '\n",
      " 'with salted Irish butter… https://t.co/CHz1nDRnuj')\n",
      "('RT @nickconfessore: BREAKING: New documents tell the inside story of how a '\n",
      " 'Trump-linked data firm obtained private info from more than 50 m…')\n",
      "('A firm closely tied to the Trump campaign exploited data from 50 million '\n",
      " 'Facebook users, The New York Times found.… https://t.co/ei3yqFlZWe')\n",
      "('“My body will not allow me\\n'\n",
      " 'To mingle with the men\\n'\n",
      " 'But my heart is far braver\\n'\n",
      " 'Than that of a man.”\\n'\n",
      " 'https://t.co/bEyeqROzuB')\n",
      "'Opinion: Grab a Pillow: Weekend Reads From Opinion https://t.co/WzUN3Dl3gx'\n",
      "('How Trump Consultants Exploited the Facebook Data of Millions '\n",
      " 'https://t.co/Og2VCZx7J7')\n",
      "('\"I have trouble settling down, and he\\'s got very rhythmic breathing,” said '\n",
      " 'a woman of her dog. \"It\\'s almost like wh… https://t.co/I9Ievi7jGP')\n",
      "('\"The Irish were slaves, too,\" the memes often say. But they\\'re not true.\\n'\n",
      " 'From 2017: https://t.co/4a12V4QQoG')\n",
      "\"Here's the 2018 election calendar https://t.co/5JIb1S2Lzk\"\n",
      "'How to stop eating sugar https://t.co/taOj6iNXNT https://t.co/V1UvWZnE5v'\n",
      "('Fatal collapse: A look at how the Florida bridge was built '\n",
      " 'https://t.co/3kq7YW4KHk')\n",
      "('The number of homeless students in New York City public schools climbed to '\n",
      " '111,500 last school year https://t.co/q6muKeDCYD')\n",
      "('How exercise can keep aging muscles and immune systems \"young\" '\n",
      " 'https://t.co/aBf803nXA5')\n",
      "('All “doors-off” helicopter flights have been halted in the U.S. while '\n",
      " 'regulators investigate a crash that killed 5… https://t.co/dJzvsFqLra')\n",
      "('Diagnosis: Why Was This Teenager Bleeding So Excessively? '\n",
      " 'https://t.co/aCNCKLZdfD')\n",
      "('He supplies coffee to Starbucks. He owns much of Ethiopia. Where is Mohammed '\n",
      " 'Hussein Al Amoudi? https://t.co/7ADtUzqvNO')\n",
      "('RT @nytimesbusiness: As a teacher, Ryan Frailich was happy just to have a '\n",
      " 'retirement plan. But then he looked closer at how the money was i…')\n",
      "('RT @nytimesarts: A new program at Juilliard furnishes opera students with '\n",
      " 'designer gowns for their auditions and performances, donated by M…')\n",
      "('Russia Expels 23 British Diplomats, Escalating Row Over Ex-Spy’s Poisoning '\n",
      " 'https://t.co/YQXGttFTyW')\n",
      "('With her passion for wine, swords and bomb making, Qiu Jin was unlike most '\n",
      " 'women born in late 19th-century China. T… https://t.co/gDhW04t0OU')\n",
      "('RT @NYTHealth: The dangers of sleep aids and anti-anxiety medicines for '\n",
      " 'older people. https://t.co/50aDfdHkUL')\n",
      "('The tech industry’s stereotypical accessory used to be the hoodie. Today, it '\n",
      " 'might as well be the Baby Bjorn. https://t.co/5chK3RtwM5')\n",
      "'Your weekend playlist has arrived https://t.co/ouKnmfvsHM'\n",
      "('Tracy Morgan, on life after his accident: “I have to ask myself, because of '\n",
      " 'what I’ve been through, was I better th… https://t.co/vkhFI4k8WE')\n",
      "'Why the tax law might make your car payments go up\\nhttps://t.co/WwH0YWqhXN'\n",
      "('The Workologist: When a Good Friend Becomes a Terrible Colleague '\n",
      " 'https://t.co/XXK0HbA0sx')\n"
     ]
    }
   ],
   "source": [
    "for tweet in user_tweets:\n",
    "    pprint(tweet['text'])"
   ]
  },
  {
   "cell_type": "code",
   "execution_count": null,
   "metadata": {
    "collapsed": true
   },
   "outputs": [],
   "source": []
  }
 ],
 "metadata": {
  "kernelspec": {
   "display_name": "Python [conda env:Anaconda3]",
   "language": "python",
   "name": "conda-env-Anaconda3-py"
  },
  "language_info": {
   "codemirror_mode": {
    "name": "ipython",
    "version": 3
   },
   "file_extension": ".py",
   "mimetype": "text/x-python",
   "name": "python",
   "nbconvert_exporter": "python",
   "pygments_lexer": "ipython3",
   "version": "3.6.3"
  }
 },
 "nbformat": 4,
 "nbformat_minor": 2
}
