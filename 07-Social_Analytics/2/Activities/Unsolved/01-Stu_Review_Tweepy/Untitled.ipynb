{
 "cells": [
  {
   "cell_type": "code",
   "execution_count": 6,
   "metadata": {
    "collapsed": true
   },
   "outputs": [],
   "source": [
    "# Dependencies\n",
    "import tweepy\n",
    "import twitter_api as ta\n",
    "import json"
   ]
  },
  {
   "cell_type": "code",
   "execution_count": 7,
   "metadata": {
    "collapsed": true
   },
   "outputs": [],
   "source": [
    "# Twitter API Keys\n",
    "consumer_key = ta.consumer_key\n",
    "consumer_secret = ta.consumer_secret\n",
    "access_token = ta.access_token\n",
    "access_token_secret = ta.access_token_secret"
   ]
  },
  {
   "cell_type": "code",
   "execution_count": 8,
   "metadata": {
    "collapsed": true
   },
   "outputs": [],
   "source": [
    "# Setup Tweepy API Authentication\n",
    "auth = tweepy.OAuthHandler(consumer_key, consumer_secret)\n",
    "auth.set_access_token(access_token, access_token_secret)\n",
    "api = tweepy.API(auth, parser=tweepy.parsers.JSONParser())"
   ]
  },
  {
   "cell_type": "code",
   "execution_count": 9,
   "metadata": {
    "collapsed": true
   },
   "outputs": [],
   "source": [
    "# Target User Account\n",
    "target_user = \"@Stress_tips123\""
   ]
  },
  {
   "cell_type": "code",
   "execution_count": 10,
   "metadata": {
    "collapsed": true
   },
   "outputs": [],
   "source": [
    "# Counter\n",
    "counter = 1\n"
   ]
  },
  {
   "cell_type": "code",
   "execution_count": 11,
   "metadata": {
    "collapsed": true
   },
   "outputs": [],
   "source": [
    "# @TODO: UNCOMMENT THE FOLLOWING BLOCK AND COMPLETE THE CODE\n",
    "# # Loop through 5 pages of tweets (total 100 tweets)\n",
    "# for x in range(5):\n",
    "\n",
    "#     # Get all tweets from home feed\n",
    "#     # YOUR CODE HERE\n",
    "\n",
    "#     # Loop through all tweets\n",
    "#     for tweet in public_tweets:\n",
    "\n",
    "#         # Utilize JSON dumps to generate a pretty-printed json\n",
    "#         # print(json.dumps(\n",
    "#         #     tweet, sort_keys=True, indent=4, separators=(',', ': ')))\n",
    "\n",
    "#         # Print Tweets\n",
    "#         # YOUR CODE HERE\n",
    "#  \n",
    "\n",
    "#         # Add to Counter\n",
    "#         # YOUR CODE HERE"
   ]
  },
  {
   "cell_type": "code",
   "execution_count": null,
   "metadata": {
    "collapsed": true
   },
   "outputs": [],
   "source": []
  }
 ],
 "metadata": {
  "kernelspec": {
   "display_name": "Python [conda env:Anaconda3]",
   "language": "python",
   "name": "conda-env-Anaconda3-py"
  },
  "language_info": {
   "codemirror_mode": {
    "name": "ipython",
    "version": 3
   },
   "file_extension": ".py",
   "mimetype": "text/x-python",
   "name": "python",
   "nbconvert_exporter": "python",
   "pygments_lexer": "ipython3",
   "version": "3.6.3"
  }
 },
 "nbformat": 4,
 "nbformat_minor": 2
}
