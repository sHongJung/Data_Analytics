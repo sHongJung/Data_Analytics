{
 "cells": [
  {
   "cell_type": "code",
   "execution_count": null,
   "metadata": {
    "collapsed": true
   },
   "outputs": [],
   "source": [
    "# %load PassageReader_Solved.py\n",
    "# Import and Initialize Sentiment Analyzer\n",
    "from vaderSentiment.vaderSentiment import SentimentIntensityAnalyzer\n",
    "analyzer = SentimentIntensityAnalyzer()\n",
    "\n",
    "# Placeholder for strings\n",
    "Sample1 = \"\"\n",
    "Sample2 = \"\"\n",
    "Sample3 = \"\"\n",
    "\n",
    "# Open each of the samples\n",
    "with open(\"Sample1.txt\") as sample:\n",
    "    Sample1 = sample.read()\n",
    "\n",
    "with open(\"Sample2.txt\") as sample:\n",
    "    Sample2 = sample.read()\n",
    "\n",
    "with open(\"Sample3.txt\") as sample:\n",
    "    Sample3 = sample.read()\n",
    "\n",
    "# Run Vader Sentiment Analysis on Each of the Samples\n",
    "samples = (Sample1, Sample2, Sample3)\n",
    "\n",
    "# Loop through Each Sample\n",
    "for sample in samples:\n",
    "\n",
    "    # Run Vader Analysis on each Sample\n",
    "    compound = analyzer.polarity_scores(sample)[\"compound\"]\n",
    "    pos = analyzer.polarity_scores(sample)[\"pos\"]\n",
    "    neu = analyzer.polarity_scores(sample)[\"neu\"]\n",
    "    neg = analyzer.polarity_scores(sample)[\"neg\"]\n",
    "\n",
    "    # Print Samples and Analysis\n",
    "    print(sample)\n",
    "    print(\"Compound Score: %s\" % compound)\n",
    "    print(\"Positive Score: %s\" % pos)\n",
    "    print(\"Neutral Score: %s\" % neu)\n",
    "    print(\"Negative Score: %s\" % neg)\n",
    "    print(\"\")\n"
   ]
  },
  {
   "cell_type": "code",
   "execution_count": null,
   "metadata": {
    "collapsed": true
   },
   "outputs": [],
   "source": []
  }
 ],
 "metadata": {
  "kernelspec": {
   "display_name": "Python [default]",
   "language": "python",
   "name": "python3"
  },
  "language_info": {
   "codemirror_mode": {
    "name": "ipython",
    "version": 3
   },
   "file_extension": ".py",
   "mimetype": "text/x-python",
   "name": "python",
   "nbconvert_exporter": "python",
   "pygments_lexer": "ipython3",
   "version": "3.6.1"
  }
 },
 "nbformat": 4,
 "nbformat_minor": 2
}
