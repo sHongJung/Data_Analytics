{
 "cells": [
  {
   "cell_type": "code",
   "execution_count": 13,
   "metadata": {},
   "outputs": [],
   "source": [
    "# import session\n",
    "from pyspark.sql import SparkSession\n",
    "from pyspark.ml.feature import Tokenizer, NGram"
   ]
  },
  {
   "cell_type": "code",
   "execution_count": 14,
   "metadata": {},
   "outputs": [],
   "source": [
    "# create spark app\n",
    "spark = SparkSession.builder.appName('ngrams').getOrCreate()"
   ]
  },
  {
   "cell_type": "code",
   "execution_count": 15,
   "metadata": {},
   "outputs": [
    {
     "name": "stdout",
     "output_type": "stream",
     "text": [
      "+--------------------+\n",
      "|         Sample Text|\n",
      "+--------------------+\n",
      "|The dog barks at ...|\n",
      "+--------------------+\n",
      "\n"
     ]
    }
   ],
   "source": [
    "# create word dataframe\n",
    "dataframe = spark.read.format(\"csv\").option(\"header\", \"true\").load(\"sampleText.csv\")\n",
    "dataframe.show()"
   ]
  },
  {
   "cell_type": "code",
   "execution_count": 16,
   "metadata": {},
   "outputs": [
    {
     "name": "stdout",
     "output_type": "stream",
     "text": [
      "+--------------------+--------------------+\n",
      "|         Sample Text|           tokenized|\n",
      "+--------------------+--------------------+\n",
      "|The dog barks at ...|[the, dog, barks,...|\n",
      "+--------------------+--------------------+\n",
      "\n"
     ]
    }
   ],
   "source": [
    "# Tokenize dataframe\n",
    "token_data = Tokenizer(inputCol=\"Sample Text\", outputCol=\"tokenized\")\n",
    "reviewed = token_data.transform(dataframe)\n",
    "reviewed.show()"
   ]
  },
  {
   "cell_type": "code",
   "execution_count": 17,
   "metadata": {},
   "outputs": [],
   "source": [
    "# Create an bigram with n set to 2\n",
    "ngram = NGram(n=2, inputCol=\"tokenized\", outputCol=\"ngrams\")"
   ]
  },
  {
   "cell_type": "code",
   "execution_count": 18,
   "metadata": {},
   "outputs": [],
   "source": [
    "# Transform the data frame\n",
    "ngramDataFrame = ngram.transform(reviewed)"
   ]
  },
  {
   "cell_type": "code",
   "execution_count": 19,
   "metadata": {},
   "outputs": [
    {
     "name": "stdout",
     "output_type": "stream",
     "text": [
      "+----------------------------------------------------------------------------------------------------------------------------------------------+\n",
      "|ngrams                                                                                                                                        |\n",
      "+----------------------------------------------------------------------------------------------------------------------------------------------+\n",
      "|[the dog, dog barks, barks at, at the, the nearby, nearby neighbor, neighbor and, and the, the dog, dog barks, barks at, at the, the mailman.]|\n",
      "+----------------------------------------------------------------------------------------------------------------------------------------------+\n",
      "\n"
     ]
    }
   ],
   "source": [
    "# Show N gram results\n",
    "ngramDataFrame.select(\"ngrams\").show(truncate=False)"
   ]
  },
  {
   "cell_type": "code",
   "execution_count": 10,
   "metadata": {
    "collapsed": true
   },
   "outputs": [],
   "source": [
    "spark.stop()"
   ]
  }
 ],
 "metadata": {
  "kernelspec": {
   "display_name": "Python 3",
   "language": "python",
   "name": "python3"
  },
  "language_info": {
   "codemirror_mode": {
    "name": "ipython",
    "version": 3
   },
   "file_extension": ".py",
   "mimetype": "text/x-python",
   "name": "python",
   "nbconvert_exporter": "python",
   "pygments_lexer": "ipython3",
   "version": "3.6.5"
  }
 },
 "nbformat": 4,
 "nbformat_minor": 2
}
