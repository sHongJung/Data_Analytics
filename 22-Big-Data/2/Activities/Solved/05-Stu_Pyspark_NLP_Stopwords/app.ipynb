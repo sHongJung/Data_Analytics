{
 "cells": [
  {
   "cell_type": "code",
   "execution_count": 1,
   "metadata": {
    "collapsed": true
   },
   "outputs": [],
   "source": [
    "from pyspark.sql import SparkSession\n",
    "from pyspark.ml.feature import Tokenizer, StopWordsRemover"
   ]
  },
  {
   "cell_type": "code",
   "execution_count": 2,
   "metadata": {
    "collapsed": true
   },
   "outputs": [],
   "source": [
    "# create your spark app and session\n",
    "spark = SparkSession.builder.appName('stopwords').getOrCreate()"
   ]
  },
  {
   "cell_type": "code",
   "execution_count": 3,
   "metadata": {},
   "outputs": [
    {
     "name": "stdout",
     "output_type": "stream",
     "text": [
      "+--------------------+\n",
      "|             Reviews|\n",
      "+--------------------+\n",
      "|The pasta was a d...|\n",
      "|We ate the fish i...|\n",
      "|My family did not...|\n",
      "|The girl even tri...|\n",
      "|this is his job a...|\n",
      "|I'm always greete...|\n",
      "+--------------------+\n",
      "\n"
     ]
    }
   ],
   "source": [
    "# Import csv into a dataframe\n",
    "dataframe = spark.read.format(\"csv\").option(\"header\", \"true\").load(\"food_reviews.csv\")\n",
    "dataframe.show()"
   ]
  },
  {
   "cell_type": "code",
   "execution_count": 4,
   "metadata": {
    "collapsed": true
   },
   "outputs": [],
   "source": [
    "# Tokenize dataframe\n",
    "review_data = Tokenizer(inputCol=\"Reviews\", outputCol=\"Words\")"
   ]
  },
  {
   "cell_type": "code",
   "execution_count": 5,
   "metadata": {},
   "outputs": [
    {
     "name": "stdout",
     "output_type": "stream",
     "text": [
      "+--------------------+--------------------+\n",
      "|             Reviews|               Words|\n",
      "+--------------------+--------------------+\n",
      "|The pasta was a d...|[the, pasta, was,...|\n",
      "|We ate the fish i...|[we, ate, the, fi...|\n",
      "|My family did not...|[my, family, did,...|\n",
      "|The girl even tri...|[the, girl, even,...|\n",
      "|this is his job a...|[this, is, his, j...|\n",
      "|I'm always greete...|[i'm, always, gre...|\n",
      "+--------------------+--------------------+\n",
      "\n"
     ]
    }
   ],
   "source": [
    "# Transform dataframe\n",
    "reviewed = review_data.transform(dataframe)\n",
    "reviewed.show()"
   ]
  },
  {
   "cell_type": "code",
   "execution_count": 6,
   "metadata": {
    "collapsed": true
   },
   "outputs": [],
   "source": [
    "# Remove stop words\n",
    "remover = StopWordsRemover(inputCol=\"Words\", outputCol=\"filtered\")"
   ]
  },
  {
   "cell_type": "code",
   "execution_count": 7,
   "metadata": {},
   "outputs": [
    {
     "name": "stdout",
     "output_type": "stream",
     "text": [
      "+--------------------+--------------------+--------------------+\n",
      "|             Reviews|               Words|            filtered|\n",
      "+--------------------+--------------------+--------------------+\n",
      "|The pasta was a d...|[the, pasta, was,...|       [pasta, dish]|\n",
      "|We ate the fish i...|[we, ate, the, fi...|  [ate, fish, tasty]|\n",
      "|My family did not...|[my, family, did,...|[family, like, food]|\n",
      "|The girl even tri...|[the, girl, even,...|[girl, even, trie...|\n",
      "|this is his job a...|[this, is, his, j...|[job, since, prob...|\n",
      "|I'm always greete...|[i'm, always, gre...|[always, greeted,...|\n",
      "+--------------------+--------------------+--------------------+\n",
      "\n"
     ]
    }
   ],
   "source": [
    "# Transform new dataframe\n",
    "newFrame = remover.transform(reviewed)\n",
    "newFrame.show()"
   ]
  },
  {
   "cell_type": "code",
   "execution_count": 8,
   "metadata": {},
   "outputs": [
    {
     "name": "stdout",
     "output_type": "stream",
     "text": [
      "+-----------------------------------------------------------------------------------------------------------------------------------------------------------------------------+\n",
      "|filtered                                                                                                                                                                     |\n",
      "+-----------------------------------------------------------------------------------------------------------------------------------------------------------------------------+\n",
      "|[pasta, dish]                                                                                                                                                                |\n",
      "|[ate, fish, tasty]                                                                                                                                                           |\n",
      "|[family, like, food]                                                                                                                                                         |\n",
      "|[girl, even, tried, spread, half, cover, roll.]                                                                                                                              |\n",
      "|[job, since, probably, slowest, time, day, least, expect, take, order, put, sandwich, through., course, apology., wait, woman, finish, couple, came, finally, got, sandwich.]|\n",
      "|[always, greeted, , employees, always, seem, eager, help.]                                                                                                                   |\n",
      "+-----------------------------------------------------------------------------------------------------------------------------------------------------------------------------+\n",
      "\n"
     ]
    }
   ],
   "source": [
    "# Show simplified review\n",
    "newFrame.select(\"filtered\").show(truncate=False)"
   ]
  },
  {
   "cell_type": "code",
   "execution_count": 9,
   "metadata": {
    "collapsed": true
   },
   "outputs": [],
   "source": [
    "# Stop Spark\n",
    "spark.stop()"
   ]
  }
 ],
 "metadata": {
  "kernelspec": {
   "display_name": "Python [default]",
   "language": "python",
   "name": "python3"
  },
  "language_info": {
   "codemirror_mode": {
    "name": "ipython",
    "version": 3
   },
   "file_extension": ".py",
   "mimetype": "text/x-python",
   "name": "python",
   "nbconvert_exporter": "python",
   "pygments_lexer": "ipython3",
   "version": "3.6.1"
  }
 },
 "nbformat": 4,
 "nbformat_minor": 2
}
