{
 "cells": [
  {
   "cell_type": "markdown",
   "metadata": {},
   "source": [
    "### Dates"
   ]
  },
  {
   "cell_type": "code",
   "execution_count": 1,
   "metadata": {
    "collapsed": true
   },
   "outputs": [],
   "source": [
    "from pyspark.sql import SparkSession\n",
    "spark = SparkSession.builder.appName(\"dates\").getOrCreate()"
   ]
  },
  {
   "cell_type": "code",
   "execution_count": 2,
   "metadata": {
    "collapsed": true
   },
   "outputs": [],
   "source": [
    "# Read in data and store in dataframe\n",
    "df = spark.read.csv(\"rainfall.csv\", header=True, inferSchema=True)"
   ]
  },
  {
   "cell_type": "code",
   "execution_count": 3,
   "metadata": {},
   "outputs": [
    {
     "name": "stdout",
     "output_type": "stream",
     "text": [
      "+-----------+-------------------+----+----+\n",
      "|    station|               date|prcp|tobs|\n",
      "+-----------+-------------------+----+----+\n",
      "|USC00519397|2010-01-01 00:00:00|0.08|  65|\n",
      "|USC00519397|2010-01-02 00:00:00| 0.0|  63|\n",
      "|USC00519397|2010-01-03 00:00:00| 0.0|  74|\n",
      "|USC00519397|2010-01-04 00:00:00| 0.0|  76|\n",
      "|USC00519397|2010-01-06 00:00:00|null|  73|\n",
      "|USC00519397|2010-01-07 00:00:00|0.06|  70|\n",
      "|USC00519397|2010-01-08 00:00:00| 0.0|  64|\n",
      "|USC00519397|2010-01-09 00:00:00| 0.0|  68|\n",
      "|USC00519397|2010-01-10 00:00:00| 0.0|  73|\n",
      "|USC00519397|2010-01-11 00:00:00|0.01|  64|\n",
      "|USC00519397|2010-01-12 00:00:00| 0.0|  61|\n",
      "|USC00519397|2010-01-14 00:00:00| 0.0|  66|\n",
      "|USC00519397|2010-01-15 00:00:00| 0.0|  65|\n",
      "|USC00519397|2010-01-16 00:00:00| 0.0|  68|\n",
      "|USC00519397|2010-01-17 00:00:00| 0.0|  64|\n",
      "|USC00519397|2010-01-18 00:00:00| 0.0|  72|\n",
      "|USC00519397|2010-01-19 00:00:00| 0.0|  66|\n",
      "|USC00519397|2010-01-20 00:00:00| 0.0|  66|\n",
      "|USC00519397|2010-01-21 00:00:00| 0.0|  69|\n",
      "|USC00519397|2010-01-22 00:00:00| 0.0|  67|\n",
      "+-----------+-------------------+----+----+\n",
      "only showing top 20 rows\n",
      "\n"
     ]
    }
   ],
   "source": [
    "# Show dataframe\n",
    "df.show()"
   ]
  },
  {
   "cell_type": "code",
   "execution_count": 4,
   "metadata": {
    "collapsed": true
   },
   "outputs": [],
   "source": [
    "# Import date time functions\n",
    "from pyspark.sql.functions import year"
   ]
  },
  {
   "cell_type": "code",
   "execution_count": 5,
   "metadata": {},
   "outputs": [
    {
     "name": "stdout",
     "output_type": "stream",
     "text": [
      "+----------+\n",
      "|year(date)|\n",
      "+----------+\n",
      "|      2010|\n",
      "|      2010|\n",
      "|      2010|\n",
      "|      2010|\n",
      "|      2010|\n",
      "|      2010|\n",
      "|      2010|\n",
      "|      2010|\n",
      "|      2010|\n",
      "|      2010|\n",
      "|      2010|\n",
      "|      2010|\n",
      "|      2010|\n",
      "|      2010|\n",
      "|      2010|\n",
      "|      2010|\n",
      "|      2010|\n",
      "|      2010|\n",
      "|      2010|\n",
      "|      2010|\n",
      "+----------+\n",
      "only showing top 20 rows\n",
      "\n"
     ]
    }
   ],
   "source": [
    "# Show the year for the date column\n",
    "df.select(year(df[\"date\"])).show()"
   ]
  },
  {
   "cell_type": "code",
   "execution_count": 6,
   "metadata": {},
   "outputs": [
    {
     "name": "stdout",
     "output_type": "stream",
     "text": [
      "+-----------+-------------------+----+----+----+\n",
      "|    station|               date|prcp|tobs|year|\n",
      "+-----------+-------------------+----+----+----+\n",
      "|USC00519397|2010-01-01 00:00:00|0.08|  65|2010|\n",
      "|USC00519397|2010-01-02 00:00:00| 0.0|  63|2010|\n",
      "|USC00519397|2010-01-03 00:00:00| 0.0|  74|2010|\n",
      "|USC00519397|2010-01-04 00:00:00| 0.0|  76|2010|\n",
      "|USC00519397|2010-01-06 00:00:00|null|  73|2010|\n",
      "|USC00519397|2010-01-07 00:00:00|0.06|  70|2010|\n",
      "|USC00519397|2010-01-08 00:00:00| 0.0|  64|2010|\n",
      "|USC00519397|2010-01-09 00:00:00| 0.0|  68|2010|\n",
      "|USC00519397|2010-01-10 00:00:00| 0.0|  73|2010|\n",
      "|USC00519397|2010-01-11 00:00:00|0.01|  64|2010|\n",
      "|USC00519397|2010-01-12 00:00:00| 0.0|  61|2010|\n",
      "|USC00519397|2010-01-14 00:00:00| 0.0|  66|2010|\n",
      "|USC00519397|2010-01-15 00:00:00| 0.0|  65|2010|\n",
      "|USC00519397|2010-01-16 00:00:00| 0.0|  68|2010|\n",
      "|USC00519397|2010-01-17 00:00:00| 0.0|  64|2010|\n",
      "|USC00519397|2010-01-18 00:00:00| 0.0|  72|2010|\n",
      "|USC00519397|2010-01-19 00:00:00| 0.0|  66|2010|\n",
      "|USC00519397|2010-01-20 00:00:00| 0.0|  66|2010|\n",
      "|USC00519397|2010-01-21 00:00:00| 0.0|  69|2010|\n",
      "|USC00519397|2010-01-22 00:00:00| 0.0|  67|2010|\n",
      "+-----------+-------------------+----+----+----+\n",
      "only showing top 20 rows\n",
      "\n"
     ]
    }
   ],
   "source": [
    "# Save the year as a new column\n",
    "df = df.withColumn(\"year\", year(df['date']))\n",
    "df.show()"
   ]
  },
  {
   "cell_type": "code",
   "execution_count": 7,
   "metadata": {},
   "outputs": [
    {
     "name": "stdout",
     "output_type": "stream",
     "text": [
      "+----+-------------------+\n",
      "|year|          avg(prcp)|\n",
      "+----+-------------------+\n",
      "|2010|0.13852293920179035|\n",
      "|2011| 0.1637348927875241|\n",
      "|2012| 0.1163805668016194|\n",
      "|2013|0.15554567502020986|\n",
      "|2014|0.17855953372189803|\n",
      "|2015|0.19919999999999985|\n",
      "|2016|0.17984533591106822|\n",
      "|2017|0.16592738752959774|\n",
      "+----+-------------------+\n",
      "\n"
     ]
    }
   ],
   "source": [
    "# Find the average precipitation per year\n",
    "averages = df.groupBy(\"year\").avg()\n",
    "averages.orderBy(\"year\").select(\"year\", \"avg(prcp)\").show()"
   ]
  },
  {
   "cell_type": "code",
   "execution_count": 8,
   "metadata": {},
   "outputs": [
    {
     "name": "stdout",
     "output_type": "stream",
     "text": [
      "+-----------+\n",
      "|month(Date)|\n",
      "+-----------+\n",
      "|          1|\n",
      "|          1|\n",
      "|          1|\n",
      "|          1|\n",
      "|          1|\n",
      "|          1|\n",
      "|          1|\n",
      "|          1|\n",
      "|          1|\n",
      "|          1|\n",
      "|          1|\n",
      "|          1|\n",
      "|          1|\n",
      "|          1|\n",
      "|          1|\n",
      "|          1|\n",
      "|          1|\n",
      "|          1|\n",
      "|          1|\n",
      "|          1|\n",
      "+-----------+\n",
      "only showing top 20 rows\n",
      "\n"
     ]
    }
   ],
   "source": [
    "from pyspark.sql.functions import month\n",
    "df.select(month(df['Date'])).show()"
   ]
  },
  {
   "cell_type": "code",
   "execution_count": 9,
   "metadata": {},
   "outputs": [
    {
     "data": {
      "text/plain": [
       "Row(station='USC00519397', date=datetime.datetime(2010, 1, 1, 0, 0), prcp=0.08, tobs=65, year=2010, month=1)"
      ]
     },
     "execution_count": 9,
     "metadata": {},
     "output_type": "execute_result"
    }
   ],
   "source": [
    "df = df.withColumn(\"month\", month(df['date']))\n",
    "df.head()"
   ]
  },
  {
   "cell_type": "code",
   "execution_count": 10,
   "metadata": {},
   "outputs": [
    {
     "name": "stdout",
     "output_type": "stream",
     "text": [
      "+-----+---------+\n",
      "|month|max(prcp)|\n",
      "+-----+---------+\n",
      "|    1|     8.81|\n",
      "|    2|     5.04|\n",
      "|    3|     6.38|\n",
      "|    4|     6.25|\n",
      "|    5|     4.07|\n",
      "|    6|     4.43|\n",
      "|    7|    11.53|\n",
      "|    8|     4.81|\n",
      "|    9|     6.83|\n",
      "|   10|     4.47|\n",
      "|   11|     8.06|\n",
      "|   12|     6.42|\n",
      "+-----+---------+\n",
      "\n"
     ]
    }
   ],
   "source": [
    "averages = df.groupBy(\"month\").max()\n",
    "averages.orderBy(\"month\").select(\"month\", \"max(prcp)\").show()"
   ]
  },
  {
   "cell_type": "code",
   "execution_count": 11,
   "metadata": {
    "collapsed": true
   },
   "outputs": [],
   "source": [
    "# Import the summarized data to a pandas dataframe for plotting\n",
    "# Note: If your summarized data is still too big for your local memory then your notebook may crash\n",
    "import pandas as pd\n",
    "pandas_df = averages.orderBy(\"month\").select(\"month\", \"max(prcp)\").toPandas()"
   ]
  },
  {
   "cell_type": "code",
   "execution_count": 12,
   "metadata": {},
   "outputs": [
    {
     "data": {
      "text/plain": [
       "<matplotlib.axes._subplots.AxesSubplot at 0x115b953c8>"
      ]
     },
     "execution_count": 12,
     "metadata": {},
     "output_type": "execute_result"
    },
    {
     "data": {
      "image/png": "[encoded data removed]",
      "text/plain": [
       "<matplotlib.figure.Figure at 0x115b058d0>"
      ]
     },
     "metadata": {},
     "output_type": "display_data"
    }
   ],
   "source": [
    "%matplotlib inline\n",
    "pandas_df.plot(\"month\", \"max(prcp)\", kind=\"bar\")"
   ]
  },
  {
   "cell_type": "code",
   "execution_count": 13,
   "metadata": {},
   "outputs": [
    {
     "name": "stdout",
     "output_type": "stream",
     "text": [
      "root\n",
      " |-- station: string (nullable = true)\n",
      " |-- date: timestamp (nullable = true)\n",
      " |-- prcp: double (nullable = true)\n",
      " |-- tobs: integer (nullable = true)\n",
      " |-- year: integer (nullable = true)\n",
      " |-- month: integer (nullable = true)\n",
      "\n"
     ]
    }
   ],
   "source": [
    "df.printSchema()"
   ]
  },
  {
   "cell_type": "code",
   "execution_count": null,
   "metadata": {
    "collapsed": true
   },
   "outputs": [],
   "source": []
  }
 ],
 "metadata": {
  "anaconda-cloud": {},
  "kernelspec": {
   "display_name": "Python 3",
   "language": "python",
   "name": "python3"
  },
  "language_info": {
   "codemirror_mode": {
    "name": "ipython",
    "version": 3
   },
   "file_extension": ".py",
   "mimetype": "text/x-python",
   "name": "python",
   "nbconvert_exporter": "python",
   "pygments_lexer": "ipython3",
   "version": "3.6.1"
  },
  "varInspector": {
   "cols": {
    "lenName": 16,
    "lenType": 16,
    "lenVar": 40
   },
   "kernels_config": {
    "python": {
     "delete_cmd_postfix": "",
     "delete_cmd_prefix": "del ",
     "library": "var_list.py",
     "varRefreshCmd": "print(var_dic_list())"
    },
    "r": {
     "delete_cmd_postfix": ") ",
     "delete_cmd_prefix": "rm(",
     "library": "var_list.r",
     "varRefreshCmd": "cat(var_dic_list()) "
    }
   },
   "types_to_exclude": [
    "module",
    "function",
    "builtin_function_or_method",
    "instance",
    "_Feature"
   ],
   "window_display": false
  }
 },
 "nbformat": 4,
 "nbformat_minor": 1
}
