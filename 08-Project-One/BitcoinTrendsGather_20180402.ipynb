{
 "cells": [
  {
   "cell_type": "code",
   "execution_count": 5,
   "metadata": {},
   "outputs": [
    {
     "ename": "ModuleNotFoundError",
     "evalue": "No module named 'scipy._lib._ccallback'",
     "output_type": "error",
     "traceback": [
      "\u001b[1;31m---------------------------------------------------------------------------\u001b[0m",
      "\u001b[1;31mModuleNotFoundError\u001b[0m                       Traceback (most recent call last)",
      "\u001b[1;32m<ipython-input-5-92c4dc26b148>\u001b[0m in \u001b[0;36m<module>\u001b[1;34m()\u001b[0m\n\u001b[0;32m      6\u001b[0m \u001b[1;32mimport\u001b[0m \u001b[0mrequests\u001b[0m \u001b[1;32mas\u001b[0m \u001b[0mrq\u001b[0m\u001b[1;33m\u001b[0m\u001b[0m\n\u001b[0;32m      7\u001b[0m \u001b[1;32mimport\u001b[0m \u001b[0mmatplotlib\u001b[0m\u001b[1;33m.\u001b[0m\u001b[0mpyplot\u001b[0m \u001b[1;32mas\u001b[0m \u001b[0mplt\u001b[0m\u001b[1;33m\u001b[0m\u001b[0m\n\u001b[1;32m----> 8\u001b[1;33m \u001b[1;32mimport\u001b[0m \u001b[0mscipy\u001b[0m\u001b[1;33m\u001b[0m\u001b[0m\n\u001b[0m\u001b[0;32m      9\u001b[0m \u001b[1;32mfrom\u001b[0m \u001b[0mpprint\u001b[0m \u001b[1;32mimport\u001b[0m \u001b[0mpprint\u001b[0m\u001b[1;33m\u001b[0m\u001b[0m\n\u001b[0;32m     10\u001b[0m \u001b[1;33m\u001b[0m\u001b[0m\n",
      "\u001b[1;32m~\\Anaconda3\\lib\\site-packages\\scipy\\__init__.py\u001b[0m in \u001b[0;36m<module>\u001b[1;34m()\u001b[0m\n\u001b[0;32m    116\u001b[0m     \u001b[1;32mdel\u001b[0m \u001b[0m_NumpyVersion\u001b[0m\u001b[1;33m\u001b[0m\u001b[0m\n\u001b[0;32m    117\u001b[0m \u001b[1;33m\u001b[0m\u001b[0m\n\u001b[1;32m--> 118\u001b[1;33m     \u001b[1;32mfrom\u001b[0m \u001b[0mscipy\u001b[0m\u001b[1;33m.\u001b[0m\u001b[0m_lib\u001b[0m\u001b[1;33m.\u001b[0m\u001b[0m_ccallback\u001b[0m \u001b[1;32mimport\u001b[0m \u001b[0mLowLevelCallable\u001b[0m\u001b[1;33m\u001b[0m\u001b[0m\n\u001b[0m\u001b[0;32m    119\u001b[0m \u001b[1;33m\u001b[0m\u001b[0m\n\u001b[0;32m    120\u001b[0m     \u001b[1;32mfrom\u001b[0m \u001b[0mscipy\u001b[0m\u001b[1;33m.\u001b[0m\u001b[0m_lib\u001b[0m\u001b[1;33m.\u001b[0m\u001b[0m_testutils\u001b[0m \u001b[1;32mimport\u001b[0m \u001b[0mPytestTester\u001b[0m\u001b[1;33m\u001b[0m\u001b[0m\n",
      "\u001b[1;31mModuleNotFoundError\u001b[0m: No module named 'scipy._lib._ccallback'"
     ]
    }
   ],
   "source": [
    "import json\n",
    "import pandas as pd\n",
    "import numpy as np\n",
    "import datetime\n",
    "import time\n",
    "import requests as rq\n",
    "import matplotlib.pyplot as plt\n",
    "import scipy\n",
    "from pprint import pprint\n",
    "\n",
    "url = \"https://min-api.cryptocompare.com/data/histoday\"\n",
    "\n",
    "parameters = {\"fsym\":\"BTC\",\"tsym\":\"USD\",\"limit\":\"196\"}\n",
    "\n",
    "btc_json = rq.get(url, params=parameters).json()\n",
    "\n",
    "btc_price=[]\n",
    "delta_price=[]\n",
    "btc_volume=[]\n",
    "btc_timestamp=[]\n",
    "btc_date=[]\n",
    "\n",
    "for data in btc_json['Data']:\n",
    "    btc_price.append(data['close'])\n",
    "    btc_volume.append(data['volumefrom'])\n",
    "   #date = datetime.datetime.fromtimestamp(data['time']).isoformat()\n",
    "    date = datetime.datetime.fromtimestamp(int(data['time'])).strftime('%Y-%m-%d')\n",
    "    btc_date.append(date)\n",
    "    btc_timestamp.append(data['time'])\n",
    "\n",
    "x_axis = btc_date\n",
    "y_axis = btc_price\n",
    "\n",
    "df = pd.DataFrame({\"Date\":btc_date, \"price\":btc_price, \"volume\":btc_volume})\n",
    "df['delta_price'] = df['price'].diff(1)\n",
    "df['Abs_delta_price'] = df['delta_price'].abs()\n",
    "df.head()"
   ]
  },
  {
   "cell_type": "code",
   "execution_count": 6,
   "metadata": {},
   "outputs": [
    {
     "ename": "NameError",
     "evalue": "name 'sns' is not defined",
     "output_type": "error",
     "traceback": [
      "\u001b[1;31m---------------------------------------------------------------------------\u001b[0m",
      "\u001b[1;31mNameError\u001b[0m                                 Traceback (most recent call last)",
      "\u001b[1;32m<ipython-input-6-1216c025810d>\u001b[0m in \u001b[0;36m<module>\u001b[1;34m()\u001b[0m\n\u001b[0;32m     34\u001b[0m \u001b[1;33m\u001b[0m\u001b[0m\n\u001b[0;32m     35\u001b[0m \u001b[0mplt\u001b[0m\u001b[1;33m.\u001b[0m\u001b[0msubplot\u001b[0m\u001b[1;33m(\u001b[0m\u001b[1;36m3\u001b[0m\u001b[1;33m,\u001b[0m\u001b[1;36m2\u001b[0m\u001b[1;33m,\u001b[0m\u001b[1;36m6\u001b[0m\u001b[1;33m)\u001b[0m\u001b[1;33m\u001b[0m\u001b[0m\n\u001b[1;32m---> 36\u001b[1;33m \u001b[0msns\u001b[0m\u001b[1;33m.\u001b[0m\u001b[0mregplot\u001b[0m\u001b[1;33m(\u001b[0m\u001b[0mx\u001b[0m\u001b[1;33m=\u001b[0m\u001b[1;34m'Abs_delta_price'\u001b[0m\u001b[1;33m,\u001b[0m \u001b[0my\u001b[0m\u001b[1;33m=\u001b[0m\u001b[1;34m'volume'\u001b[0m\u001b[1;33m,\u001b[0m \u001b[0mdata\u001b[0m\u001b[1;33m=\u001b[0m\u001b[0mdf\u001b[0m\u001b[1;33m)\u001b[0m\u001b[1;33m\u001b[0m\u001b[0m\n\u001b[0m\u001b[0;32m     37\u001b[0m \u001b[0mplt\u001b[0m\u001b[1;33m.\u001b[0m\u001b[0mxlabel\u001b[0m\u001b[1;33m(\u001b[0m\u001b[1;34m'Absolute Delta Price(USD)'\u001b[0m\u001b[1;33m,\u001b[0m \u001b[0mfontsize\u001b[0m\u001b[1;33m=\u001b[0m\u001b[1;36m14\u001b[0m\u001b[1;33m,\u001b[0m \u001b[0mfontweight\u001b[0m\u001b[1;33m=\u001b[0m\u001b[1;34m'bold'\u001b[0m\u001b[1;33m)\u001b[0m\u001b[1;33m\u001b[0m\u001b[0m\n\u001b[0;32m     38\u001b[0m \u001b[0mplt\u001b[0m\u001b[1;33m.\u001b[0m\u001b[0mylabel\u001b[0m\u001b[1;33m(\u001b[0m\u001b[1;34m'Trading Volume'\u001b[0m\u001b[1;33m,\u001b[0m \u001b[0mfontsize\u001b[0m\u001b[1;33m=\u001b[0m\u001b[1;36m13\u001b[0m\u001b[1;33m,\u001b[0m \u001b[0mfontweight\u001b[0m\u001b[1;33m=\u001b[0m\u001b[1;34m'bold'\u001b[0m\u001b[1;33m)\u001b[0m\u001b[1;33m\u001b[0m\u001b[0m\n",
      "\u001b[1;31mNameError\u001b[0m: name 'sns' is not defined"
     ]
    }
   ],
   "source": [
    "# Export file as a CSV, without the Pandas index, but with the header\n",
    "df.to_csv(\"Bitcoin_Price&Volume.csv\", index=False, header=True)\n",
    "\n",
    "fig = plt.figure(figsize=(20, 20)) \n",
    "\n",
    "plt.subplot(3,2,1)\n",
    "plt.plot(x_axis, y_axis)\n",
    "plt.xlabel('Date', fontsize=14, fontweight='bold')\n",
    "plt.ylabel('Bitcoin Price (USD)', fontsize=13, fontweight='bold')\n",
    "plt.xticks(np.arange(0,181,  step = 30), [btc_date[i] for i in np.arange(0,181,  step = 30)], rotation=30)\n",
    "\n",
    "plt.subplot(3,2,2)\n",
    "plt.plot(x_axis, btc_volume)\n",
    "plt.xlabel('Date', fontsize=14, fontweight='bold')\n",
    "plt.ylabel('Trading Volume', fontsize=13, fontweight='bold')\n",
    "plt.xticks(np.arange(0,181,  step = 30), [btc_date[i] for i in np.arange(0,181,  step = 30)], rotation=30)\n",
    "\n",
    "plt.subplot(3,2,3)\n",
    "plt.plot(btc_price, btc_volume, linewidth=0, marker='o')\n",
    "plt.xlabel('Bicoin Price(USD)', fontsize=14, fontweight='bold')\n",
    "plt.ylabel('Trading Volume', fontsize=13, fontweight='bold')\n",
    "\n",
    "plt.subplot(3,2,4)\n",
    "vert_line = 0\n",
    "plt.vlines(x=vert_line, ymin=0, ymax=max(df['volume']), color='red', zorder=2)\n",
    "plt.plot(df['delta_price'], df['volume'],linewidth=0, marker='o')\n",
    "plt.xlabel('Delta Price(USD)', fontsize=14, fontweight='bold')\n",
    "plt.ylabel('Trading Volume', fontsize=13, fontweight='bold')\n",
    "\n",
    "plt.subplot(3,2,5)\n",
    "plt.plot(df['Abs_delta_price'], df['volume'],linewidth=0, marker='o')\n",
    "plt.xlabel('Absolute Delta Price(USD)', fontsize=14, fontweight='bold')\n",
    "plt.ylabel('Trading Volume', fontsize=13, fontweight='bold')\n",
    "\n",
    "plt.subplot(3,2,6)\n",
    "sns.regplot(x='Abs_delta_price', y='volume', data=df)\n",
    "plt.xlabel('Absolute Delta Price(USD)', fontsize=14, fontweight='bold')\n",
    "plt.ylabel('Trading Volume', fontsize=13, fontweight='bold')\n",
    "\n",
    "plt.show()"
   ]
  },
  {
   "cell_type": "code",
   "execution_count": null,
   "metadata": {
    "collapsed": true
   },
   "outputs": [],
   "source": [
    "plt.plot(x_axis, y_axis)\n",
    "plt.xlabel('Date', fontsize=14, fontweight='bold')\n",
    "plt.ylabel('Bitcoin Price (USD)', fontsize=13, fontweight='bold')\n",
    "plt.xticks(np.arange(0,181,  step = 30), [btc_date[i] for i in np.arange(0,181,  step = 30)], rotation=30)\n",
    "plt.show()"
   ]
  },
  {
   "cell_type": "code",
   "execution_count": null,
   "metadata": {
    "collapsed": true
   },
   "outputs": [],
   "source": [
    "plt.plot(x_axis, btc_volume)\n",
    "plt.xlabel('Date', fontsize=14, fontweight='bold')\n",
    "plt.ylabel('Trading Volume', fontsize=13, fontweight='bold')\n",
    "plt.xticks(np.arange(0,181,  step = 30), [btc_date[i] for i in np.arange(0,181,  step = 30)], rotation=30)\n",
    "plt.show()"
   ]
  },
  {
   "cell_type": "code",
   "execution_count": null,
   "metadata": {
    "collapsed": true
   },
   "outputs": [],
   "source": [
    "plt.plot(btc_price, btc_volume, linewidth=0, marker='o')\n",
    "plt.xlabel('Bicoin Price(USD)', fontsize=14, fontweight='bold')\n",
    "plt.ylabel('Trading Volume', fontsize=13, fontweight='bold')\n",
    "plt.show()"
   ]
  },
  {
   "cell_type": "code",
   "execution_count": null,
   "metadata": {
    "collapsed": true
   },
   "outputs": [],
   "source": [
    "vert_line = 0\n",
    "plt.vlines(x=vert_line, ymin=0, ymax=max(df['volume']), color='red', zorder=2)\n",
    "plt.plot(df['delta_price'], df['volume'],linewidth=0, marker='o')\n",
    "plt.xlabel('Delta Price(USD)', fontsize=14, fontweight='bold')\n",
    "plt.ylabel('Trading Volume', fontsize=13, fontweight='bold')\n",
    "plt.show()"
   ]
  },
  {
   "cell_type": "code",
   "execution_count": null,
   "metadata": {
    "collapsed": true
   },
   "outputs": [],
   "source": [
    "plt.plot(df['Abs_delta_price'], df['volume'],linewidth=0, marker='o')\n",
    "plt.xlabel('Absolute Delta Price(USD)', fontsize=14, fontweight='bold')\n",
    "plt.ylabel('Trading Volume', fontsize=13, fontweight='bold')\n",
    "plt.show()"
   ]
  },
  {
   "cell_type": "code",
   "execution_count": null,
   "metadata": {
    "collapsed": true
   },
   "outputs": [],
   "source": [
    "sns.regplot(x='Abs_delta_price', y='volume', data=df)\n",
    "plt.xlabel('Absolute Delta Price(USD)', fontsize=14, fontweight='bold')\n",
    "plt.ylabel('Trading Volume', fontsize=13, fontweight='bold')\n",
    "\n",
    "plt.show()"
   ]
  }
 ],
 "metadata": {
  "kernelspec": {
   "display_name": "Python [conda env:Anaconda3]",
   "language": "python",
   "name": "conda-env-Anaconda3-py"
  },
  "language_info": {
   "codemirror_mode": {
    "name": "ipython",
    "version": 3
   },
   "file_extension": ".py",
   "mimetype": "text/x-python",
   "name": "python",
   "nbconvert_exporter": "python",
   "pygments_lexer": "ipython3",
   "version": "3.6.3"
  }
 },
 "nbformat": 4,
 "nbformat_minor": 2
}
