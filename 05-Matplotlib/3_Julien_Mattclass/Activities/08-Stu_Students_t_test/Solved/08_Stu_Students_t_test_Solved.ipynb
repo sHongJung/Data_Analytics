{
 "cells": [
  {
   "cell_type": "code",
   "execution_count": 1,
   "metadata": {
    "collapsed": true
   },
   "outputs": [],
   "source": [
    "# Imports\n",
    "import matplotlib.pyplot as plt\n",
    "import numpy as np\n",
    "import pandas as pd\n",
    "import os\n",
    "from scipy import stats"
   ]
  },
  {
   "cell_type": "code",
   "execution_count": 2,
   "metadata": {},
   "outputs": [],
   "source": [
    "# Read `general_heights.csv`\n",
    "path1 = os.path.join('..', 'Resources', 'general_heights.csv')\n",
    "general_heights = pd.read_csv(path1)\n",
    "\n",
    "# Read `wba_data.csv`\n",
    "path2 = os.path.join('..', 'Resources', 'wba_data.csv')\n",
    "wba_data = pd.read_csv(path2)\n",
    "\n",
    "# Keep only the hight column for `wba_data`\n",
    "wba_heights = wba_data.iloc[:, -1]"
   ]
  },
  {
   "cell_type": "code",
   "execution_count": 3,
   "metadata": {},
   "outputs": [
    {
     "name": "stdout",
     "output_type": "stream",
     "text": [
      "The mean height of WBA players is  72.32\n",
      "The mean height of women sampled is  64.68416666666667\n"
     ]
    },
    {
     "data": {
      "image/png": "[encoded data removed]",
      "text/plain": [
       "<matplotlib.figure.Figure at 0x10c2ce390>"
      ]
     },
     "metadata": {},
     "output_type": "display_data"
    }
   ],
   "source": [
    "# Calculate the means for both samples\n",
    "means = [general_heights['height'].mean(), wba_heights.mean()]\n",
    "\n",
    "print(\"The mean height of WBA players is \", means[1])\n",
    "print(\"The mean height of women sampled is \", means[0])\n",
    "\n",
    "# Calculate the standard errors for both samples\n",
    "standard_errors = [general_heights['height'].sem(), wba_heights.sem()]\n",
    "\n",
    "# Plot means and standard errors\n",
    "x_values = np.arange(2)\n",
    "plt.errorbar(x_values, means, standard_errors, fmt='o')\n",
    "\n",
    "plt.xticks(x_values, [\"General Public\", \"WBA Players\"])\n",
    "plt.ylabel(\"Height (Inches)\")\n",
    "\n",
    "plt.show()"
   ]
  },
  {
   "cell_type": "code",
   "execution_count": 4,
   "metadata": {},
   "outputs": [
    {
     "name": "stdout",
     "output_type": "stream",
     "text": [
      "t-stat:  [-16.94119778]\n",
      "p-value:  [  3.14741363e-33]\n"
     ]
    }
   ],
   "source": [
    "# Perform t-test\n",
    "t_stat, p_value = stats.ttest_ind(general_heights, wba_heights, equal_var=False)\n",
    "\n",
    "print('t-stat: ', t_stat)\n",
    "print('p-value: ', p_value)"
   ]
  },
  {
   "cell_type": "code",
   "execution_count": null,
   "metadata": {
    "collapsed": true
   },
   "outputs": [],
   "source": []
  }
 ],
 "metadata": {
  "kernelspec": {
   "display_name": "Python [conda env:PythonData]",
   "language": "python",
   "name": "conda-env-PythonData-py"
  },
  "language_info": {
   "codemirror_mode": {
    "name": "ipython",
    "version": 3
   },
   "file_extension": ".py",
   "mimetype": "text/x-python",
   "name": "python",
   "nbconvert_exporter": "python",
   "pygments_lexer": "ipython3",
   "version": "3.6.2"
  }
 },
 "nbformat": 4,
 "nbformat_minor": 2
}
