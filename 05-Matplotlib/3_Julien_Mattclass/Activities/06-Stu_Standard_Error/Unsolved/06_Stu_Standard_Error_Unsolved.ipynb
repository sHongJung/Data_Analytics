{
 "cells": [
  {
   "cell_type": "markdown",
   "metadata": {},
   "source": [
    "## Standard error and error bars"
   ]
  },
  {
   "cell_type": "code",
   "execution_count": 2,
   "metadata": {
    "collapsed": true
   },
   "outputs": [],
   "source": [
    "# Imports\n",
    "import numpy as np\n",
    "import os\n",
    "import pandas as pd\n",
    "import matplotlib.pyplot as plt"
   ]
  },
  {
   "cell_type": "code",
   "execution_count": 3,
   "metadata": {},
   "outputs": [
    {
     "data": {
      "text/html": [
       "<div>\n",
       "<style>\n",
       "    .dataframe thead tr:only-child th {\n",
       "        text-align: right;\n",
       "    }\n",
       "\n",
       "    .dataframe thead th {\n",
       "        text-align: left;\n",
       "    }\n",
       "\n",
       "    .dataframe tbody tr th {\n",
       "        vertical-align: top;\n",
       "    }\n",
       "</style>\n",
       "<table border=\"1\" class=\"dataframe\">\n",
       "  <thead>\n",
       "    <tr style=\"text-align: right;\">\n",
       "      <th></th>\n",
       "      <th>Home Value</th>\n",
       "    </tr>\n",
       "  </thead>\n",
       "  <tbody>\n",
       "    <tr>\n",
       "      <th>0</th>\n",
       "      <td>24.0</td>\n",
       "    </tr>\n",
       "    <tr>\n",
       "      <th>1</th>\n",
       "      <td>21.6</td>\n",
       "    </tr>\n",
       "    <tr>\n",
       "      <th>2</th>\n",
       "      <td>34.7</td>\n",
       "    </tr>\n",
       "    <tr>\n",
       "      <th>3</th>\n",
       "      <td>33.4</td>\n",
       "    </tr>\n",
       "    <tr>\n",
       "      <th>4</th>\n",
       "      <td>36.2</td>\n",
       "    </tr>\n",
       "  </tbody>\n",
       "</table>\n",
       "</div>"
      ],
      "text/plain": [
       "   Home Value\n",
       "0        24.0\n",
       "1        21.6\n",
       "2        34.7\n",
       "3        33.4\n",
       "4        36.2"
      ]
     },
     "execution_count": 3,
     "metadata": {},
     "output_type": "execute_result"
    }
   ],
   "source": [
    "# Read csv file, only import column corresponding to home values\n",
    "csvpath = os.path.join('..', 'Resources', 'housing_data.csv')\n",
    "housing_data = pd.read_csv(csvpath, header=None,\n",
    "                           usecols=[13], names=['Home Value'])\n",
    "housing_data.head()"
   ]
  },
  {
   "cell_type": "code",
   "execution_count": 4,
   "metadata": {
    "scrolled": true
   },
   "outputs": [],
   "source": [
    "sample_size = 20\n",
    "number_of_samples = len(housing_data) // sample_size\n",
    "\n",
    "# Create a dictionary of samples\n",
    "samples = {}\n",
    "for j in range(number_of_samples):\n",
    "    # Create a sample using np.random.choice\n",
    "    \n",
    "    # Add to dictionary\n",
    "    \n",
    "\n",
    "# Create a DataFrame from dictionary of samples\n"
   ]
  },
  {
   "cell_type": "code",
   "execution_count": 4,
   "metadata": {},
   "outputs": [
    {
     "data": {
      "text/plain": [
       "Sample 0     22.780\n",
       "Sample 1     21.870\n",
       "Sample 10    25.130\n",
       "Sample 11    19.570\n",
       "Sample 12    22.225\n",
       "Sample 13    26.135\n",
       "Sample 14    21.910\n",
       "Sample 15    23.040\n",
       "Sample 16    25.830\n",
       "Sample 17    22.895\n",
       "Sample 18    18.965\n",
       "Sample 19    22.065\n",
       "Sample 2     28.085\n",
       "Sample 20    21.140\n",
       "Sample 21    21.365\n",
       "Sample 22    24.535\n",
       "Sample 23    24.555\n",
       "Sample 24    25.205\n",
       "Sample 3     19.930\n",
       "Sample 4     22.350\n",
       "Sample 5     21.875\n",
       "Sample 6     23.420\n",
       "Sample 7     24.030\n",
       "Sample 8     21.110\n",
       "Sample 9     20.865\n",
       "dtype: float64"
      ]
     },
     "execution_count": 4,
     "metadata": {},
     "output_type": "execute_result"
    }
   ],
   "source": [
    "# Calculate the means\n",
    "\n"
   ]
  },
  {
   "cell_type": "code",
   "execution_count": 5,
   "metadata": {},
   "outputs": [
    {
     "data": {
      "text/plain": [
       "Sample 0     2.883899\n",
       "Sample 1     2.254622\n",
       "Sample 10    2.374858\n",
       "Sample 11    1.570972\n",
       "Sample 12    2.194729\n",
       "Sample 13    1.794572\n",
       "Sample 14    2.452152\n",
       "Sample 15    2.440636\n",
       "Sample 16    2.274575\n",
       "Sample 17    1.949716\n",
       "Sample 18    1.830290\n",
       "Sample 19    1.777880\n",
       "Sample 2     2.694402\n",
       "Sample 20    1.314022\n",
       "Sample 21    1.945579\n",
       "Sample 22    2.444277\n",
       "Sample 23    3.011692\n",
       "Sample 24    1.955538\n",
       "Sample 3     1.686543\n",
       "Sample 4     1.962712\n",
       "Sample 5     1.674544\n",
       "Sample 6     2.030914\n",
       "Sample 7     2.225038\n",
       "Sample 8     2.191213\n",
       "Sample 9     1.787578\n",
       "dtype: float64"
      ]
     },
     "execution_count": 5,
     "metadata": {},
     "output_type": "execute_result"
    }
   ],
   "source": [
    "# Calculate the standard errors\n",
    "\n"
   ]
  },
  {
   "cell_type": "code",
   "execution_count": 6,
   "metadata": {},
   "outputs": [
    {
     "data": {
      "image/png": "[encoded data removed]",
      "text/plain": [
       "<matplotlib.figure.Figure at 0x110bd0be0>"
      ]
     },
     "metadata": {},
     "output_type": "display_data"
    }
   ],
   "source": [
    "# Plot the means and the standard errors\n"
   ]
  },
  {
   "cell_type": "code",
   "execution_count": null,
   "metadata": {
    "collapsed": true
   },
   "outputs": [],
   "source": []
  }
 ],
 "metadata": {
  "kernelspec": {
   "display_name": "Python [conda env:PythonData]",
   "language": "python",
   "name": "conda-env-PythonData-py"
  },
  "language_info": {
   "codemirror_mode": {
    "name": "ipython",
    "version": 3
   },
   "file_extension": ".py",
   "mimetype": "text/x-python",
   "name": "python",
   "nbconvert_exporter": "python",
   "pygments_lexer": "ipython3",
   "version": "3.6.2"
  }
 },
 "nbformat": 4,
 "nbformat_minor": 2
}
