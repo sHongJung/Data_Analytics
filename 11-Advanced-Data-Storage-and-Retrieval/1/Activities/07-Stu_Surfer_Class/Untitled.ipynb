{
 "cells": [
  {
   "cell_type": "code",
   "execution_count": 18,
   "metadata": {
    "collapsed": true
   },
   "outputs": [],
   "source": [
    "class Surfer():\n",
    "    def __init__ (self, name, hometown, rank):\n",
    "        self.name = name\n",
    "        self.hometown = hometown\n",
    "        self.rank = rank"
   ]
  },
  {
   "cell_type": "code",
   "execution_count": 19,
   "metadata": {},
   "outputs": [
    {
     "name": "stdout",
     "output_type": "stream",
     "text": [
      "Pyun Palo Alto 3\n"
     ]
    }
   ],
   "source": [
    "Cal_Surfer = Surfer(\"Pyun\", \"Palo Alto\", 3)\n",
    "print(Cal_Surfer.name, Cal_Surfer.hometown, Cal_Surfer.rank)"
   ]
  },
  {
   "cell_type": "code",
   "execution_count": 8,
   "metadata": {},
   "outputs": [
    {
     "name": "stdout",
     "output_type": "stream",
     "text": [
      "What is surfer's name?\n",
      "Where did the surfer come from?daff\n",
      "What is the rank?1\n",
      "Do you want to add more surfer?(yes/no)yes\n",
      "What is surfer's name?dak;ja\n",
      "Where did the surfer come from?daf\n",
      "What is the rank?3\n",
      "Do you want to add more surfer?(yes/no)yes\n",
      "What is surfer's name?afda\n",
      "Where did the surfer come from?afdasf\n",
      "What is the rank?66\n",
      "Do you want to add more surfer?(yes/no)no\n"
     ]
    }
   ],
   "source": [
    "add_surfer = True\n",
    "\n",
    "List=[]\n",
    "\n",
    "while(add_surfer):\n",
    "    name = input('What is surfer\\'s name?')\n",
    "    hometown = input('Where did the surfer come from?')\n",
    "    rank = input('What is the rank?')\n",
    "    US_Surfer = Surfer(name, hometown, rank)\n",
    "    List.append(US_Surfer)\n",
    "    more_surfer = input('Do you want to add more surfer?(yes/no)')\n",
    "    if more_surfer == 'no':\n",
    "        add_surfer = False\n",
    "    "
   ]
  },
  {
   "cell_type": "code",
   "execution_count": 9,
   "metadata": {},
   "outputs": [
    {
     "name": "stdout",
     "output_type": "stream",
     "text": [
      "[<__main__.Surfer object at 0x000001B1030233C8>, <__main__.Surfer object at 0x000001B105A54E10>, <__main__.Surfer object at 0x000001B105A54DD8>]\n"
     ]
    }
   ],
   "source": [
    "print(List)"
   ]
  },
  {
   "cell_type": "code",
   "execution_count": 17,
   "metadata": {},
   "outputs": [
    {
     "data": {
      "text/plain": [
       "'dak;ja'"
      ]
     },
     "execution_count": 17,
     "metadata": {},
     "output_type": "execute_result"
    }
   ],
   "source": [
    "List[1].name"
   ]
  },
  {
   "cell_type": "code",
   "execution_count": null,
   "metadata": {
    "collapsed": true
   },
   "outputs": [],
   "source": []
  }
 ],
 "metadata": {
  "kernelspec": {
   "display_name": "Python [conda env:Anaconda3]",
   "language": "python",
   "name": "conda-env-Anaconda3-py"
  },
  "language_info": {
   "codemirror_mode": {
    "name": "ipython",
    "version": 3
   },
   "file_extension": ".py",
   "mimetype": "text/x-python",
   "name": "python",
   "nbconvert_exporter": "python",
   "pygments_lexer": "ipython3",
   "version": "3.6.3"
  }
 },
 "nbformat": 4,
 "nbformat_minor": 2
}
