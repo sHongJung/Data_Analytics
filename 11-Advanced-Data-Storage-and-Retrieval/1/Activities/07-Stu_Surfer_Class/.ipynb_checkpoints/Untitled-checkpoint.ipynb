{
 "cells": [
  {
   "cell_type": "code",
   "execution_count": 5,
   "metadata": {
    "collapsed": true
   },
   "outputs": [],
   "source": [
    "class Surfer():\n",
    "    def __init__ (self, name, hometown, rank):\n",
    "        self.name = name\n",
    "        self.hometown = hometown\n",
    "        self.rank = rank"
   ]
  },
  {
   "cell_type": "code",
   "execution_count": 6,
   "metadata": {},
   "outputs": [
    {
     "name": "stdout",
     "output_type": "stream",
     "text": [
      "Pyun Palo Alto 3\n"
     ]
    }
   ],
   "source": [
    "Cal_Surfer = Surfer(\"Pyun\", \"Palo Alto\", \"3\")\n",
    "print(Cal_Surfer.name, Cal_Surfer.hometown, Cal_Surfer.rank)"
   ]
  },
  {
   "cell_type": "code",
   "execution_count": null,
   "metadata": {},
   "outputs": [
    {
     "name": "stdout",
     "output_type": "stream",
     "text": [
      "What is surfer's name?Joe\n",
      "Where did the surfer come from?ppp\n",
      "What is the rank?33\n",
      "Do you want to add more surfer?(yes/no)yes\n",
      "What is surfer's name?elk;j\n",
      "Where did the surfer come from?;lja\n",
      "What is the rank?44\n"
     ]
    }
   ],
   "source": [
    "add_surfer = True\n",
    "\n",
    "List=[]\n",
    "\n",
    "while(add_surfer):\n",
    "    name = input('What is surfer\\'s name?')\n",
    "    hometown = input('Where did the surfer come from?')\n",
    "    rank = input('What is the rank?')\n",
    "    US_Surfer = Surfer(name, hometown, rank)\n",
    "    List.append(US_Surfer)\n",
    "    more_surfer = input('Do you want to add more surfer?(yes/no)')\n",
    "    if more_surfer == 'no':\n",
    "        add_surfer = False\n",
    "    "
   ]
  },
  {
   "cell_type": "code",
   "execution_count": 4,
   "metadata": {},
   "outputs": [
    {
     "name": "stdout",
     "output_type": "stream",
     "text": [
      "[]\n"
     ]
    }
   ],
   "source": [
    "print(List)"
   ]
  },
  {
   "cell_type": "code",
   "execution_count": null,
   "metadata": {
    "collapsed": true
   },
   "outputs": [],
   "source": []
  }
 ],
 "metadata": {
  "kernelspec": {
   "display_name": "Python [conda env:Anaconda3]",
   "language": "python",
   "name": "conda-env-Anaconda3-py"
  },
  "language_info": {
   "codemirror_mode": {
    "name": "ipython",
    "version": 3
   },
   "file_extension": ".py",
   "mimetype": "text/x-python",
   "name": "python",
   "nbconvert_exporter": "python",
   "pygments_lexer": "ipython3",
   "version": "3.6.3"
  }
 },
 "nbformat": 4,
 "nbformat_minor": 2
}
