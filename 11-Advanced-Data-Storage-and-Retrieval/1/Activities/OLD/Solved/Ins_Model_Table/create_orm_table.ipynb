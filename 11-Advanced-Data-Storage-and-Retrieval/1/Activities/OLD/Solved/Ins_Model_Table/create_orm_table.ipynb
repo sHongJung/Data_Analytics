{
  "cells": [
    {
      "cell_type": "markdown",
      "source": [
        "## Creating a table in ORM"
      ],
      "metadata": {
        "collapsed": false,
        "inputHidden": false,
        "outputHidden": false
      }
    },
    {
      "cell_type": "code",
      "source": [
        "# Import SQLAlchemy's declarative_base module, based upon which new classes are created\n",
        "from sqlalchemy.ext.declarative import declarative_base\n",
        "# Base is akin to a template for creating classes\n",
        "Base = declarative_base()"
      ],
      "outputs": [],
      "execution_count": 1,
      "metadata": {
        "collapsed": false,
        "inputHidden": false,
        "outputHidden": false
      }
    },
    {
      "cell_type": "code",
      "source": [
        "# Modules necessary to declare columns and column data types\n",
        "from sqlalchemy import Column, Integer, String\n"
      ],
      "outputs": [],
      "execution_count": 2,
      "metadata": {
        "collapsed": false,
        "inputHidden": false,
        "outputHidden": false
      }
    },
    {
      "cell_type": "code",
      "source": [
        "# Declare Student as a class\n",
        "class Student(Base):\n",
        "    __tablename__ = 'bootcamp_student'\n",
        "    \n",
        "    id = Column(Integer, primary_key=True)\n",
        "    first_name = Column(String)\n",
        "    last_name = Column(String)\n",
        "    favorite_python_library = Column(String)\n",
        "    \n",
        "    def __repr__(self):\n",
        "        return \"<User(%r, %r)>\" % (self.first_name, self.last_name)"
      ],
      "outputs": [],
      "execution_count": 3,
      "metadata": {
        "collapsed": false,
        "inputHidden": false,
        "outputHidden": false
      }
    },
    {
      "cell_type": "code",
      "source": [
        "# Display the schema of the table we just created\n",
        "Student.__table__"
      ],
      "outputs": [
        {
          "output_type": "execute_result",
          "execution_count": 4,
          "data": {
            "text/plain": [
              "Table('bootcamp_student', MetaData(bind=None), Column('id', Integer(), table=<bootcamp_student>, primary_key=True, nullable=False), Column('first_name', String(), table=<bootcamp_student>), Column('last_name', String(), table=<bootcamp_student>), Column('favorite_python_library', String(), table=<bootcamp_student>), schema=None)"
            ]
          },
          "metadata": {}
        }
      ],
      "execution_count": 4,
      "metadata": {
        "collapsed": false,
        "inputHidden": false,
        "outputHidden": false
      }
    },
    {
      "cell_type": "code",
      "source": [
        "# Create a Python object whose information will be used to create a table row\n",
        "matt_g = Student(first_name='Matthew', last_name='Giordanella', favorite_python_library='pandas')"
      ],
      "outputs": [],
      "execution_count": 5,
      "metadata": {
        "collapsed": false,
        "inputHidden": false,
        "outputHidden": false
      }
    },
    {
      "cell_type": "code",
      "source": [
        "# Print the new object\n",
        "print(matt_g)"
      ],
      "outputs": [
        {
          "output_type": "stream",
          "name": "stdout",
          "text": [
            "<User('Matthew', 'Giordanella')>\n"
          ]
        }
      ],
      "execution_count": 6,
      "metadata": {
        "collapsed": false,
        "inputHidden": false,
        "outputHidden": false
      }
    },
    {
      "cell_type": "code",
      "source": [
        "# The object does not have an id yet!\n",
        "print(matt_g.id)"
      ],
      "outputs": [
        {
          "output_type": "stream",
          "name": "stdout",
          "text": [
            "None\n"
          ]
        }
      ],
      "execution_count": 7,
      "metadata": {
        "collapsed": false,
        "inputHidden": false,
        "outputHidden": false
      }
    },
    {
      "cell_type": "code",
      "source": [
        "# Create an engine, which enables Python to communicate with SQL\n",
        "from sqlalchemy import create_engine\n",
        "# The database file we create will be called bootcamp_student.sqlite\n",
        "engine = create_engine('sqlite:///bootcamp_student.sqlite')\n",
        "Base.metadata.create_all(engine)\n"
      ],
      "outputs": [],
      "execution_count": 8,
      "metadata": {
        "collapsed": false,
        "inputHidden": false,
        "outputHidden": false
      }
    },
    {
      "cell_type": "code",
      "source": [
        "# To persist Student objects into, and load from, the database, we use a Session object\n",
        "# A session is akin to a conversation between Python and SQL\n",
        "from sqlalchemy.orm import Session\n",
        "# Declare a session\n",
        "session = Session(bind=engine)"
      ],
      "outputs": [],
      "execution_count": 9,
      "metadata": {
        "collapsed": false,
        "inputHidden": false,
        "outputHidden": false
      }
    },
    {
      "cell_type": "code",
      "source": [
        "# Add a Student object to session\n",
        "session.add(matt_g)"
      ],
      "outputs": [],
      "execution_count": 10,
      "metadata": {
        "collapsed": false,
        "inputHidden": false,
        "outputHidden": false
      }
    },
    {
      "cell_type": "code",
      "source": [
        "# Display changes made to session\n",
        "session.new"
      ],
      "outputs": [
        {
          "output_type": "execute_result",
          "execution_count": 11,
          "data": {
            "text/plain": [
              "IdentitySet([<User('Matthew', 'Giordanella')>])"
            ]
          },
          "metadata": {}
        }
      ],
      "execution_count": 11,
      "metadata": {
        "collapsed": false,
        "outputHidden": false,
        "inputHidden": false
      }
    },
    {
      "cell_type": "code",
      "source": [
        "# Use session to make a query\n",
        "student = session.query(Student).filter_by(first_name='Matthew').first()\n",
        "print(student)"
      ],
      "outputs": [
        {
          "output_type": "stream",
          "name": "stdout",
          "text": [
            "<User('Matthew', 'Giordanella')>\n"
          ]
        }
      ],
      "execution_count": 11,
      "metadata": {
        "collapsed": false,
        "inputHidden": false,
        "outputHidden": false
      }
    },
    {
      "cell_type": "code",
      "source": [
        "# Access a Student object's information\n",
        "student.favorite_python_library"
      ],
      "outputs": [
        {
          "output_type": "execute_result",
          "execution_count": 28,
          "data": {
            "text/plain": [
              "'pandas'"
            ]
          },
          "metadata": {}
        }
      ],
      "execution_count": 28,
      "metadata": {
        "collapsed": false,
        "inputHidden": false,
        "outputHidden": false
      }
    },
    {
      "cell_type": "code",
      "source": [
        "# Add multiple Student objects to the database\n",
        "# 'Jacob Deming' has not listed a favorite Python library\n",
        "session.add_all([\n",
        "    Student(first_name='Bruce', last_name='Lee', favorite_python_library='request'),\n",
        "    Student(first_name='Jacob', last_name='Deming')\n",
        "])"
      ],
      "outputs": [],
      "execution_count": 29,
      "metadata": {
        "collapsed": false,
        "inputHidden": false,
        "outputHidden": false
      }
    },
    {
      "cell_type": "code",
      "source": [
        "# Add multiple Student objects to the database\n",
        "sean_slavin = Student(first_name='Sean', last_name='Slavin', favorite_python_library='matplotlib')\n",
        "lizette_leano = Student(first_name='Lizette', last_name='Leano', favorite_python_library='tweepy')\n",
        "session.add_all([sean_slavin, lizette_leano])"
      ],
      "outputs": [],
      "execution_count": 14,
      "metadata": {
        "collapsed": true
      }
    },
    {
      "cell_type": "code",
      "source": [
        "# Save information to the database\n",
        "session.commit()"
      ],
      "outputs": [],
      "execution_count": 15,
      "metadata": {
        "collapsed": false,
        "inputHidden": false,
        "outputHidden": false
      }
    },
    {
      "cell_type": "code",
      "source": [
        "# Make a query to verify addition of Student object\n",
        "session.query(Student).filter_by(first_name='Jacob').first()"
      ],
      "outputs": [
        {
          "output_type": "execute_result",
          "execution_count": 16,
          "data": {
            "text/plain": [
              "<User('Jacob', 'Deming')>"
            ]
          },
          "metadata": {}
        }
      ],
      "execution_count": 16,
      "metadata": {
        "collapsed": false,
        "inputHidden": false,
        "outputHidden": false
      }
    },
    {
      "cell_type": "code",
      "source": [],
      "outputs": [],
      "execution_count": null,
      "metadata": {
        "collapsed": true
      }
    }
  ],
  "metadata": {
    "kernel_info": {
      "name": "python3"
    },
    "kernelspec": {
      "name": "python3",
      "language": "python",
      "display_name": "Python 3"
    },
    "language_info": {
      "name": "python",
      "version": "3.6.0",
      "mimetype": "text/x-python",
      "codemirror_mode": {
        "name": "ipython",
        "version": 3
      },
      "pygments_lexer": "ipython3",
      "nbconvert_exporter": "python",
      "file_extension": ".py"
    },
    "nteract": {
      "version": "0.2.0"
    }
  },
  "nbformat": 4,
  "nbformat_minor": 4
}