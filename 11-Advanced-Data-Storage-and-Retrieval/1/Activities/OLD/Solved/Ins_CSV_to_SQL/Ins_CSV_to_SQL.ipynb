{
 "cells": [
  {
   "cell_type": "code",
   "execution_count": 1,
   "metadata": {
    "collapsed": true
   },
   "outputs": [],
   "source": [
    "# Dependencies\n",
    "import pandas as pd\n",
    "import numpy as np\n",
    "import os"
   ]
  },
  {
   "cell_type": "code",
   "execution_count": 2,
   "metadata": {
    "collapsed": true
   },
   "outputs": [],
   "source": [
    "# Path of the CSV file\n",
    "csvfile = \"customers.csv\"\n"
   ]
  },
  {
   "cell_type": "code",
   "execution_count": 3,
   "metadata": {
    "collapsed": true
   },
   "outputs": [],
   "source": [
    "# Read CSV file into a pandas DataFrame\n",
    "df = pd.read_csv(csvfile, dtype=object)"
   ]
  },
  {
   "cell_type": "code",
   "execution_count": 4,
   "metadata": {},
   "outputs": [
    {
     "data": {
      "text/html": [
       "<div>\n",
       "<table border=\"1\" class=\"dataframe\">\n",
       "  <thead>\n",
       "    <tr style=\"text-align: right;\">\n",
       "      <th></th>\n",
       "      <th>id</th>\n",
       "      <th>first_name</th>\n",
       "      <th>last_name</th>\n",
       "      <th>email</th>\n",
       "      <th>gender</th>\n",
       "    </tr>\n",
       "  </thead>\n",
       "  <tbody>\n",
       "    <tr>\n",
       "      <th>0</th>\n",
       "      <td>1</td>\n",
       "      <td>David</td>\n",
       "      <td>Jordan</td>\n",
       "      <td>djordan0@home.pl</td>\n",
       "      <td>Male</td>\n",
       "    </tr>\n",
       "    <tr>\n",
       "      <th>1</th>\n",
       "      <td>2</td>\n",
       "      <td>Stephen</td>\n",
       "      <td>Riley</td>\n",
       "      <td>sriley1@hugedomains.com</td>\n",
       "      <td>Male</td>\n",
       "    </tr>\n",
       "    <tr>\n",
       "      <th>2</th>\n",
       "      <td>3</td>\n",
       "      <td>Evelyn</td>\n",
       "      <td>Grant</td>\n",
       "      <td>egrant2@livejournal.com</td>\n",
       "      <td>Female</td>\n",
       "    </tr>\n",
       "    <tr>\n",
       "      <th>3</th>\n",
       "      <td>4</td>\n",
       "      <td>Joe</td>\n",
       "      <td>Mendoza</td>\n",
       "      <td>jmendoza3@un.org</td>\n",
       "      <td>Male</td>\n",
       "    </tr>\n",
       "    <tr>\n",
       "      <th>4</th>\n",
       "      <td>5</td>\n",
       "      <td>Benjamin</td>\n",
       "      <td>Rodriguez</td>\n",
       "      <td>brodriguez4@elpais.com</td>\n",
       "      <td>Male</td>\n",
       "    </tr>\n",
       "  </tbody>\n",
       "</table>\n",
       "</div>"
      ],
      "text/plain": [
       "  id first_name  last_name                    email  gender\n",
       "0  1      David     Jordan         djordan0@home.pl    Male\n",
       "1  2    Stephen      Riley  sriley1@hugedomains.com    Male\n",
       "2  3     Evelyn      Grant  egrant2@livejournal.com  Female\n",
       "3  4        Joe    Mendoza         jmendoza3@un.org    Male\n",
       "4  5   Benjamin  Rodriguez   brodriguez4@elpais.com    Male"
      ]
     },
     "execution_count": 4,
     "metadata": {},
     "output_type": "execute_result"
    }
   ],
   "source": [
    "# Preview DataFrame\n",
    "# Note that some rows are missing gender\n",
    "df.head()"
   ]
  },
  {
   "cell_type": "code",
   "execution_count": 5,
   "metadata": {},
   "outputs": [
    {
     "data": {
      "text/html": [
       "<div>\n",
       "<table border=\"1\" class=\"dataframe\">\n",
       "  <thead>\n",
       "    <tr style=\"text-align: right;\">\n",
       "      <th></th>\n",
       "      <th>id</th>\n",
       "      <th>first_name</th>\n",
       "      <th>last_name</th>\n",
       "      <th>email</th>\n",
       "      <th>gender</th>\n",
       "    </tr>\n",
       "  </thead>\n",
       "  <tbody>\n",
       "    <tr>\n",
       "      <th>0</th>\n",
       "      <td>1</td>\n",
       "      <td>David</td>\n",
       "      <td>Jordan</td>\n",
       "      <td>djordan0@home.pl</td>\n",
       "      <td>Male</td>\n",
       "    </tr>\n",
       "    <tr>\n",
       "      <th>1</th>\n",
       "      <td>2</td>\n",
       "      <td>Stephen</td>\n",
       "      <td>Riley</td>\n",
       "      <td>sriley1@hugedomains.com</td>\n",
       "      <td>Male</td>\n",
       "    </tr>\n",
       "    <tr>\n",
       "      <th>2</th>\n",
       "      <td>3</td>\n",
       "      <td>Evelyn</td>\n",
       "      <td>Grant</td>\n",
       "      <td>egrant2@livejournal.com</td>\n",
       "      <td>Female</td>\n",
       "    </tr>\n",
       "    <tr>\n",
       "      <th>3</th>\n",
       "      <td>4</td>\n",
       "      <td>Joe</td>\n",
       "      <td>Mendoza</td>\n",
       "      <td>jmendoza3@un.org</td>\n",
       "      <td>Male</td>\n",
       "    </tr>\n",
       "    <tr>\n",
       "      <th>4</th>\n",
       "      <td>5</td>\n",
       "      <td>Benjamin</td>\n",
       "      <td>Rodriguez</td>\n",
       "      <td>brodriguez4@elpais.com</td>\n",
       "      <td>Male</td>\n",
       "    </tr>\n",
       "  </tbody>\n",
       "</table>\n",
       "</div>"
      ],
      "text/plain": [
       "  id first_name  last_name                    email  gender\n",
       "0  1      David     Jordan         djordan0@home.pl    Male\n",
       "1  2    Stephen      Riley  sriley1@hugedomains.com    Male\n",
       "2  3     Evelyn      Grant  egrant2@livejournal.com  Female\n",
       "3  4        Joe    Mendoza         jmendoza3@un.org    Male\n",
       "4  5   Benjamin  Rodriguez   brodriguez4@elpais.com    Male"
      ]
     },
     "execution_count": 5,
     "metadata": {},
     "output_type": "execute_result"
    }
   ],
   "source": [
    "# Use `dropna` to drop any rows where there is missing data\n",
    "# Notice that index has not been reset and contains a gap (0,1,2,6,7)\n",
    "df = df.dropna(axis=0)\n",
    "df.head()"
   ]
  },
  {
   "cell_type": "code",
   "execution_count": 6,
   "metadata": {},
   "outputs": [
    {
     "data": {
      "text/html": [
       "<div>\n",
       "<table border=\"1\" class=\"dataframe\">\n",
       "  <thead>\n",
       "    <tr style=\"text-align: right;\">\n",
       "      <th></th>\n",
       "      <th>id</th>\n",
       "      <th>first_name</th>\n",
       "      <th>last_name</th>\n",
       "      <th>gender</th>\n",
       "    </tr>\n",
       "  </thead>\n",
       "  <tbody>\n",
       "    <tr>\n",
       "      <th>0</th>\n",
       "      <td>1</td>\n",
       "      <td>David</td>\n",
       "      <td>Jordan</td>\n",
       "      <td>Male</td>\n",
       "    </tr>\n",
       "    <tr>\n",
       "      <th>1</th>\n",
       "      <td>2</td>\n",
       "      <td>Stephen</td>\n",
       "      <td>Riley</td>\n",
       "      <td>Male</td>\n",
       "    </tr>\n",
       "    <tr>\n",
       "      <th>2</th>\n",
       "      <td>3</td>\n",
       "      <td>Evelyn</td>\n",
       "      <td>Grant</td>\n",
       "      <td>Female</td>\n",
       "    </tr>\n",
       "    <tr>\n",
       "      <th>3</th>\n",
       "      <td>4</td>\n",
       "      <td>Joe</td>\n",
       "      <td>Mendoza</td>\n",
       "      <td>Male</td>\n",
       "    </tr>\n",
       "    <tr>\n",
       "      <th>4</th>\n",
       "      <td>5</td>\n",
       "      <td>Benjamin</td>\n",
       "      <td>Rodriguez</td>\n",
       "      <td>Male</td>\n",
       "    </tr>\n",
       "  </tbody>\n",
       "</table>\n",
       "</div>"
      ],
      "text/plain": [
       "  id first_name  last_name  gender\n",
       "0  1      David     Jordan    Male\n",
       "1  2    Stephen      Riley    Male\n",
       "2  3     Evelyn      Grant  Female\n",
       "3  4        Joe    Mendoza    Male\n",
       "4  5   Benjamin  Rodriguez    Male"
      ]
     },
     "execution_count": 6,
     "metadata": {},
     "output_type": "execute_result"
    }
   ],
   "source": [
    "# Drop the 'email' column and reset the index\n",
    "# Note that after resetting the index, the gap is gone\n",
    "df = df.drop(['email'], axis=1).reset_index(drop=True)\n",
    "df.head()"
   ]
  },
  {
   "cell_type": "code",
   "execution_count": 7,
   "metadata": {
    "collapsed": true
   },
   "outputs": [],
   "source": [
    "# Save the cleaned data to a file called `customers_cleaned.csv`\n",
    "new_csv = \"customers_cleaned.csv\"\n",
    "df.to_csv(new_csv, index=False)\n"
   ]
  },
  {
   "cell_type": "code",
   "execution_count": 8,
   "metadata": {
    "collapsed": true
   },
   "outputs": [],
   "source": [
    "# Python SQL toolkit and Object Relational Mapper\n",
    "import sqlalchemy\n",
    "from sqlalchemy import create_engine, MetaData\n",
    "from sqlalchemy.ext.declarative import declarative_base\n",
    "from sqlalchemy import Column, Integer, String, Numeric, Text, Float"
   ]
  },
  {
   "cell_type": "code",
   "execution_count": 9,
   "metadata": {
    "collapsed": true
   },
   "outputs": [],
   "source": [
    "# Create an engine to a SQLite database file called `customers.sqlite`\n",
    "engine = create_engine(\"sqlite:///customers.sqlite\")"
   ]
  },
  {
   "cell_type": "code",
   "execution_count": 10,
   "metadata": {
    "collapsed": true
   },
   "outputs": [],
   "source": [
    "# Create a connection to the engine called `conn`\n",
    "conn = engine.connect()"
   ]
  },
  {
   "cell_type": "code",
   "execution_count": 11,
   "metadata": {
    "collapsed": true
   },
   "outputs": [],
   "source": [
    "# Use `declarative_base` from SQLAlchemy to model the demographics table as an ORM class\n",
    "# Make sure to specify types for each column, e.g. Integer, Text, etc.\n",
    "# http://docs.sqlalchemy.org/en/latest/core/type_basics.html\n",
    "Base = declarative_base()\n",
    "\n",
    "class Customer(Base):\n",
    "    __tablename__ = 'customers'\n",
    "\n",
    "    id = Column(Integer, primary_key=True)\n",
    "    first_name = Column(Text)\n",
    "    last_name = Column(Text)\n",
    "    email = Column(Text)\n",
    "    gender = Column(Text)\n",
    "   \n",
    "    def __repr__(self):\n",
    "        return f\"id={self.id}, name={self.name}\"\n",
    "# More on __repr__: https://stackoverflow.com/questions/1984162/purpose-of-pythons-repr    "
   ]
  },
  {
   "cell_type": "code",
   "execution_count": 12,
   "metadata": {
    "collapsed": true
   },
   "outputs": [],
   "source": [
    "# Use `create_all` to create the customers table in the database\n",
    "Base.metadata.create_all(engine)"
   ]
  },
  {
   "cell_type": "code",
   "execution_count": 13,
   "metadata": {
    "collapsed": true
   },
   "outputs": [],
   "source": [
    "# Load the cleaned csv file into a pandas dataframe\n",
    "new_df = pd.read_csv(new_csv)\n"
   ]
  },
  {
   "cell_type": "code",
   "execution_count": 14,
   "metadata": {
    "collapsed": true
   },
   "outputs": [],
   "source": [
    "# Use Orient='records' to create a list of data to write\n",
    "# to_dict() cleans out DataFrame metadata as well\n",
    "# http://pandas-docs.github.io/pandas-docs-travis/io.html#orient-options\n",
    "data = new_df.to_dict(orient='records')"
   ]
  },
  {
   "cell_type": "code",
   "execution_count": 15,
   "metadata": {},
   "outputs": [
    {
     "name": "stdout",
     "output_type": "stream",
     "text": [
      "[{'id': 1, 'first_name': 'David', 'last_name': 'Jordan', 'gender': 'Male'}, {'id': 2, 'first_name': 'Stephen', 'last_name': 'Riley', 'gender': 'Male'}, {'id': 3, 'first_name': 'Evelyn', 'last_name': 'Grant', 'gender': 'Female'}, {'id': 4, 'first_name': 'Joe', 'last_name': 'Mendoza', 'gender': 'Male'}, {'id': 5, 'first_name': 'Benjamin', 'last_name': 'Rodriguez', 'gender': 'Male'}, {'id': 6, 'first_name': 'Kathleen', 'last_name': 'Crawford', 'gender': 'Female'}, {'id': 7, 'first_name': 'Daniel', 'last_name': 'Marshall', 'gender': 'Male'}, {'id': 8, 'first_name': 'Diana', 'last_name': 'Coleman', 'gender': 'Female'}, {'id': 9, 'first_name': 'Frances', 'last_name': 'Black', 'gender': 'Female'}, {'id': 10, 'first_name': 'Tammy', 'last_name': 'Arnold', 'gender': 'Female'}, {'id': 11, 'first_name': 'Jeffrey', 'last_name': 'Matthews', 'gender': 'Male'}, {'id': 12, 'first_name': 'Roy', 'last_name': 'Harrison', 'gender': 'Male'}, {'id': 13, 'first_name': 'Ernest', 'last_name': 'Bishop', 'gender': 'Male'}, {'id': 14, 'first_name': 'Brian', 'last_name': 'Griffin', 'gender': 'Male'}, {'id': 15, 'first_name': 'Alice', 'last_name': 'Howell', 'gender': 'Female'}, {'id': 16, 'first_name': 'Emily', 'last_name': 'Garza', 'gender': 'Female'}, {'id': 17, 'first_name': 'Sarah', 'last_name': 'Perez', 'gender': 'Female'}, {'id': 18, 'first_name': 'Earl', 'last_name': 'Harvey', 'gender': 'Male'}, {'id': 19, 'first_name': 'Larry', 'last_name': 'Watkins', 'gender': 'Male'}, {'id': 20, 'first_name': 'Timothy', 'last_name': 'Edwards', 'gender': 'Male'}, {'id': 21, 'first_name': 'Theresa', 'last_name': 'Phillips', 'gender': 'Female'}, {'id': 22, 'first_name': 'Timothy', 'last_name': 'Lawrence', 'gender': 'Male'}, {'id': 23, 'first_name': 'Gregory', 'last_name': 'Daniels', 'gender': 'Male'}, {'id': 24, 'first_name': 'Laura', 'last_name': 'Ross', 'gender': 'Female'}, {'id': 25, 'first_name': 'Martin', 'last_name': 'Burton', 'gender': 'Male'}, {'id': 26, 'first_name': 'Antonio', 'last_name': 'Chapman', 'gender': 'Male'}, {'id': 27, 'first_name': 'Tina', 'last_name': 'Lawson', 'gender': 'Female'}, {'id': 28, 'first_name': 'Heather', 'last_name': 'Wallace', 'gender': 'Female'}, {'id': 29, 'first_name': 'Mary', 'last_name': 'Stone', 'gender': 'Female'}, {'id': 30, 'first_name': 'Angela', 'last_name': 'Flores', 'gender': 'Female'}, {'id': 31, 'first_name': 'Andrew', 'last_name': 'Hudson', 'gender': 'Male'}, {'id': 32, 'first_name': 'Lillian', 'last_name': 'Boyd', 'gender': 'Female'}, {'id': 33, 'first_name': 'Julia', 'last_name': 'Hawkins', 'gender': 'Female'}, {'id': 34, 'first_name': 'Alice', 'last_name': 'Sullivan', 'gender': 'Female'}, {'id': 35, 'first_name': 'Adam', 'last_name': 'Tucker', 'gender': 'Male'}, {'id': 36, 'first_name': 'Rebecca', 'last_name': 'Fernandez', 'gender': 'Female'}, {'id': 37, 'first_name': 'Frank', 'last_name': 'Bailey', 'gender': 'Male'}, {'id': 38, 'first_name': 'Julia', 'last_name': 'Stephens', 'gender': 'Female'}, {'id': 39, 'first_name': 'Ann', 'last_name': 'Carroll', 'gender': 'Female'}, {'id': 40, 'first_name': 'Kenneth', 'last_name': 'Duncan', 'gender': 'Male'}, {'id': 41, 'first_name': 'Roy', 'last_name': 'Flores', 'gender': 'Male'}, {'id': 42, 'first_name': 'Gary', 'last_name': 'Dixon', 'gender': 'Male'}, {'id': 43, 'first_name': 'Lois', 'last_name': 'Pierce', 'gender': 'Female'}, {'id': 44, 'first_name': 'Barbara', 'last_name': 'Olson', 'gender': 'Female'}, {'id': 45, 'first_name': 'Brian', 'last_name': 'Daniels', 'gender': 'Male'}, {'id': 46, 'first_name': 'Helen', 'last_name': 'Campbell', 'gender': 'Female'}, {'id': 47, 'first_name': 'Adam', 'last_name': 'Banks', 'gender': 'Male'}, {'id': 48, 'first_name': 'Frank', 'last_name': 'Murray', 'gender': 'Male'}, {'id': 49, 'first_name': 'Christina', 'last_name': 'Edwards', 'gender': 'Female'}, {'id': 50, 'first_name': 'Stephanie', 'last_name': 'Gonzalez', 'gender': 'Female'}, {'id': 51, 'first_name': 'Steven', 'last_name': 'Peterson', 'gender': 'Male'}, {'id': 52, 'first_name': 'Robin', 'last_name': 'Sims', 'gender': 'Female'}, {'id': 53, 'first_name': 'Gerald', 'last_name': 'Dean', 'gender': 'Male'}, {'id': 54, 'first_name': 'Kimberly', 'last_name': 'Ellis', 'gender': 'Female'}, {'id': 55, 'first_name': 'Brandon', 'last_name': 'Franklin', 'gender': 'Male'}, {'id': 56, 'first_name': 'Jane', 'last_name': 'Fuller', 'gender': 'Female'}, {'id': 57, 'first_name': 'Andrew', 'last_name': 'Richardson', 'gender': 'Male'}, {'id': 58, 'first_name': 'Adam', 'last_name': 'Robertson', 'gender': 'Male'}, {'id': 59, 'first_name': 'Stephen', 'last_name': 'Hunt', 'gender': 'Male'}, {'id': 60, 'first_name': 'Amanda', 'last_name': 'Carter', 'gender': 'Female'}, {'id': 61, 'first_name': 'Elizabeth', 'last_name': 'Edwards', 'gender': 'Female'}, {'id': 62, 'first_name': 'Anna', 'last_name': 'Moreno', 'gender': 'Female'}, {'id': 63, 'first_name': 'Rebecca', 'last_name': 'Fisher', 'gender': 'Female'}, {'id': 64, 'first_name': 'Jesse', 'last_name': 'Payne', 'gender': 'Male'}, {'id': 65, 'first_name': 'Tammy', 'last_name': 'Spencer', 'gender': 'Female'}, {'id': 66, 'first_name': 'Dorothy', 'last_name': 'Thomas', 'gender': 'Female'}, {'id': 67, 'first_name': 'Gerald', 'last_name': 'Weaver', 'gender': 'Male'}, {'id': 68, 'first_name': 'Shawn', 'last_name': 'Dean', 'gender': 'Male'}, {'id': 69, 'first_name': 'Rebecca', 'last_name': 'George', 'gender': 'Female'}, {'id': 70, 'first_name': 'Gerald', 'last_name': 'Johnson', 'gender': 'Male'}, {'id': 71, 'first_name': 'Norma', 'last_name': 'Cox', 'gender': 'Female'}, {'id': 72, 'first_name': 'Juan', 'last_name': 'Woods', 'gender': 'Male'}, {'id': 73, 'first_name': 'Terry', 'last_name': 'Ramos', 'gender': 'Male'}, {'id': 74, 'first_name': 'David', 'last_name': 'Anderson', 'gender': 'Male'}, {'id': 75, 'first_name': 'Donald', 'last_name': 'Morgan', 'gender': 'Male'}, {'id': 76, 'first_name': 'Billy', 'last_name': 'Bryant', 'gender': 'Male'}, {'id': 77, 'first_name': 'Willie', 'last_name': 'Stone', 'gender': 'Male'}, {'id': 78, 'first_name': 'Terry', 'last_name': 'Porter', 'gender': 'Male'}, {'id': 79, 'first_name': 'Gloria', 'last_name': 'Edwards', 'gender': 'Female'}, {'id': 80, 'first_name': 'Janice', 'last_name': 'Payne', 'gender': 'Female'}, {'id': 81, 'first_name': 'Aaron', 'last_name': 'Black', 'gender': 'Male'}, {'id': 82, 'first_name': 'Joshua', 'last_name': 'Nichols', 'gender': 'Male'}, {'id': 83, 'first_name': 'Donna', 'last_name': 'Ramos', 'gender': 'Female'}, {'id': 84, 'first_name': 'Johnny', 'last_name': 'Romero', 'gender': 'Male'}, {'id': 85, 'first_name': 'Paula', 'last_name': 'Nelson', 'gender': 'Female'}, {'id': 86, 'first_name': 'Jack', 'last_name': 'Hamilton', 'gender': 'Male'}, {'id': 87, 'first_name': 'Howard', 'last_name': 'Hart', 'gender': 'Male'}, {'id': 88, 'first_name': 'Frank', 'last_name': 'Kim', 'gender': 'Male'}, {'id': 89, 'first_name': 'Mildred', 'last_name': 'Jenkins', 'gender': 'Female'}, {'id': 90, 'first_name': 'Betty', 'last_name': 'Dunn', 'gender': 'Female'}, {'id': 91, 'first_name': 'Anna', 'last_name': 'Porter', 'gender': 'Female'}, {'id': 92, 'first_name': 'Ann', 'last_name': 'Spencer', 'gender': 'Female'}, {'id': 93, 'first_name': 'Nicole', 'last_name': 'Cunningham', 'gender': 'Female'}, {'id': 94, 'first_name': 'Patricia', 'last_name': 'Dunn', 'gender': 'Female'}, {'id': 95, 'first_name': 'Scott', 'last_name': 'Garrett', 'gender': 'Male'}, {'id': 96, 'first_name': 'Adam', 'last_name': 'Banks', 'gender': 'Male'}, {'id': 97, 'first_name': 'Antonio', 'last_name': 'Franklin', 'gender': 'Male'}, {'id': 98, 'first_name': 'Joe', 'last_name': 'Allen', 'gender': 'Male'}, {'id': 99, 'first_name': 'Rebecca', 'last_name': 'Russell', 'gender': 'Female'}, {'id': 100, 'first_name': 'Kathy', 'last_name': 'Sanchez', 'gender': 'Female'}]\n"
     ]
    }
   ],
   "source": [
    "print(data)"
   ]
  },
  {
   "cell_type": "code",
   "execution_count": 16,
   "metadata": {
    "collapsed": true
   },
   "outputs": [],
   "source": [
    "# Use MetaData from SQLAlchemy to reflect the tables\n",
    "metadata = MetaData(bind=engine)\n",
    "metadata.reflect()"
   ]
  },
  {
   "cell_type": "code",
   "execution_count": 17,
   "metadata": {
    "collapsed": true
   },
   "outputs": [],
   "source": [
    "# Save the reference to the `customers` table as a variable called `table`\n",
    "table = sqlalchemy.Table('customers', metadata, autoload=True)"
   ]
  },
  {
   "cell_type": "code",
   "execution_count": 18,
   "metadata": {},
   "outputs": [
    {
     "data": {
      "text/plain": [
       "<sqlalchemy.engine.result.ResultProxy at 0x10d4f98d0>"
      ]
     },
     "execution_count": 18,
     "metadata": {},
     "output_type": "execute_result"
    }
   ],
   "source": [
    "# Use `table.delete()` to remove any pre-existing data.\n",
    "# Note that this is a convenience function so that you can re-run the example code multiple times.\n",
    "# You would not likely do this step in production.\n",
    "conn.execute(table.delete())"
   ]
  },
  {
   "cell_type": "code",
   "execution_count": 19,
   "metadata": {},
   "outputs": [
    {
     "data": {
      "text/plain": [
       "<sqlalchemy.engine.result.ResultProxy at 0x10d4f9a20>"
      ]
     },
     "execution_count": 19,
     "metadata": {},
     "output_type": "execute_result"
    }
   ],
   "source": [
    "# Use `table.insert()` to insert the data into the table\n",
    "# The SQL table is populated during this step\n",
    "conn.execute(table.insert(), data)"
   ]
  },
  {
   "cell_type": "code",
   "execution_count": 20,
   "metadata": {},
   "outputs": [
    {
     "data": {
      "text/plain": [
       "[(1, 'David', 'Jordan', None, 'Male'),\n",
       " (2, 'Stephen', 'Riley', None, 'Male'),\n",
       " (3, 'Evelyn', 'Grant', None, 'Female'),\n",
       " (4, 'Joe', 'Mendoza', None, 'Male'),\n",
       " (5, 'Benjamin', 'Rodriguez', None, 'Male')]"
      ]
     },
     "execution_count": 20,
     "metadata": {},
     "output_type": "execute_result"
    }
   ],
   "source": [
    "# Test that the insert works by fetching the first 5 rows. \n",
    "conn.execute(\"select * from customers limit 5\").fetchall()"
   ]
  },
  {
   "cell_type": "code",
   "execution_count": null,
   "metadata": {
    "collapsed": true
   },
   "outputs": [],
   "source": []
  },
  {
   "cell_type": "code",
   "execution_count": null,
   "metadata": {
    "collapsed": true
   },
   "outputs": [],
   "source": []
  }
 ],
 "metadata": {
  "kernelspec": {
   "display_name": "Python [conda env:py36]",
   "language": "python",
   "name": "conda-env-py36-py"
  },
  "language_info": {
   "codemirror_mode": {
    "name": "ipython",
    "version": 3
   },
   "file_extension": ".py",
   "mimetype": "text/x-python",
   "name": "python",
   "nbconvert_exporter": "python",
   "pygments_lexer": "ipython3",
   "version": "3.6.0"
  },
  "nteract": {
   "version": "0.2.0"
  }
 },
 "nbformat": 4,
 "nbformat_minor": 2
}
