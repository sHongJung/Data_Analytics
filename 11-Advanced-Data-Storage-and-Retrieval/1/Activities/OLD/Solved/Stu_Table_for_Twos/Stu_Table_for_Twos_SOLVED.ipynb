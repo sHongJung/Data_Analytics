{
 "cells": [
  {
   "cell_type": "markdown",
   "metadata": {
    "inputHidden": false,
    "nbgrader": {
     "grade": false,
     "grade_id": "cell-29ffd586902ea24a",
     "locked": true,
     "schema_version": 1,
     "solution": false
    },
    "outputHidden": false
   },
   "source": [
    "## Creating a table in ORM"
   ]
  },
  {
   "cell_type": "code",
   "execution_count": null,
   "metadata": {
    "collapsed": true,
    "inputHidden": false,
    "nbgrader": {
     "grade": false,
     "grade_id": "cell-8ceb862552959746",
     "locked": true,
     "schema_version": 1,
     "solution": false
    },
    "outputHidden": false
   },
   "outputs": [],
   "source": [
    "# Import SQLAlchemy's declarative_base module, based upon which new classes are created\n",
    "from sqlalchemy.ext.declarative import declarative_base\n",
    "# Base is akin to a template for creating classes\n",
    "Base = declarative_base()"
   ]
  },
  {
   "cell_type": "code",
   "execution_count": null,
   "metadata": {
    "collapsed": true,
    "inputHidden": false,
    "nbgrader": {
     "grade": false,
     "grade_id": "cell-a53616e931e5fb1d",
     "locked": true,
     "schema_version": 1,
     "solution": false
    },
    "outputHidden": false
   },
   "outputs": [],
   "source": [
    "# Modules necessary to declare columns and column data types\n",
    "from sqlalchemy import Column, Integer, String"
   ]
  },
  {
   "cell_type": "code",
   "execution_count": null,
   "metadata": {
    "collapsed": true,
    "inputHidden": false,
    "nbgrader": {
     "grade": false,
     "grade_id": "cell-a5bb118b7b97d7ae",
     "locked": false,
     "schema_version": 1,
     "solution": true
    },
    "outputHidden": false
   },
   "outputs": [],
   "source": [
    "# Declare a class called Duo\n",
    "# Its __tablename__ should be called 'musical_duo'\n",
    "# It should have an id column, which will be the primary key. The data type is integer.\n",
    "# It should also have partner_one, partner_two, genre, and famous_song columns. The data type is string.\n",
    "### BEGIN SOLUTION\n",
    "class Duo(Base):\n",
    "    __tablename__ = 'musical_duo'\n",
    "    \n",
    "    id = Column(Integer, primary_key=True)\n",
    "    partner_one = Column(String)\n",
    "    partner_two = Column(String)\n",
    "    genre = Column(String)\n",
    "    famous_song = Column(String)\n",
    "    \n",
    "    def __repr__(self):\n",
    "        return \"<User(%r, %r)>\" % (self.partner_one, self.partner_two)\n",
    "### END SOLUTION    "
   ]
  },
  {
   "cell_type": "code",
   "execution_count": null,
   "metadata": {
    "collapsed": true,
    "inputHidden": false,
    "nbgrader": {
     "grade": false,
     "grade_id": "cell-4558d94207bc6bd3",
     "locked": false,
     "schema_version": 1,
     "solution": true
    },
    "outputHidden": false
   },
   "outputs": [],
   "source": [
    "# Create a Duo object called 'beatles'\n",
    "# partner_one should be 'McCartney'\n",
    "# partner_two should be 'Lennon'\n",
    "# genre should be 'Rock'\n",
    "# choose a famous Beatles song for the famous_song column\n",
    "### BEGIN SOLUTION\n",
    "beatles = Duo(partner_one='McCartney', partner_two='Lennon', genre='Rock', famous_song='Hey Jude')\n",
    "### END SOLUTION    "
   ]
  },
  {
   "cell_type": "code",
   "execution_count": null,
   "metadata": {
    "collapsed": true,
    "inputHidden": false,
    "nbgrader": {
     "grade": false,
     "grade_id": "cell-d8798dbfbb6c0517",
     "locked": true,
     "schema_version": 1,
     "solution": false
    },
    "outputHidden": false
   },
   "outputs": [],
   "source": [
    "# Create an engine, which enables Python to communicate with SQL\n",
    "from sqlalchemy import create_engine\n",
    "# The database file we create will be called bootcamp_student.sqlite\n",
    "engine = create_engine('sqlite:///musical_duo.sqlite')\n",
    "Base.metadata.create_all(engine)"
   ]
  },
  {
   "cell_type": "code",
   "execution_count": null,
   "metadata": {
    "collapsed": true,
    "inputHidden": false,
    "nbgrader": {
     "grade": false,
     "grade_id": "cell-61cee825000b4bae",
     "locked": false,
     "schema_version": 1,
     "solution": true
    },
    "outputHidden": false
   },
   "outputs": [],
   "source": [
    "# To persist Student objects into, and load from, the database, we use a Session object\n",
    "# A session is akin to a conversation between Python and SQL\n",
    "# Define session\n",
    "### BEGIN SOLUTION    \n",
    "from sqlalchemy.orm import Session\n",
    "session = Session(bind=engine)\n",
    "### END SOLUTION    "
   ]
  },
  {
   "cell_type": "code",
   "execution_count": null,
   "metadata": {
    "collapsed": true,
    "inputHidden": false,
    "nbgrader": {
     "grade": false,
     "grade_id": "cell-1f6297a12fa24627",
     "locked": false,
     "schema_version": 1,
     "solution": true
    },
    "outputHidden": false
   },
   "outputs": [],
   "source": [
    "# Add the Duo object we created above ('beatles') to session\n",
    "### BEGIN SOLUTION    \n",
    "session.add(beatles)\n",
    "### END SOLUTION"
   ]
  },
  {
   "cell_type": "code",
   "execution_count": null,
   "metadata": {
    "collapsed": true,
    "inputHidden": false,
    "nbgrader": {
     "grade": false,
     "grade_id": "cell-e52a15f30f89176b",
     "locked": false,
     "schema_version": 1,
     "solution": true
    },
    "outputHidden": false
   },
   "outputs": [],
   "source": [
    "# Save information to the database\n",
    "### BEGIN SOLUTION    \n",
    "session.commit()\n",
    "### END SOLUTION"
   ]
  }
 ],
 "metadata": {
  "celltoolbar": "Create Assignment",
  "kernel_info": {
   "name": "python3"
  },
  "kernelspec": {
   "display_name": "Python 3",
   "language": "python",
   "name": "python3"
  },
  "language_info": {
   "codemirror_mode": {
    "name": "ipython",
    "version": 3
   },
   "file_extension": ".py",
   "mimetype": "text/x-python",
   "name": "python",
   "nbconvert_exporter": "python",
   "pygments_lexer": "ipython3",
   "version": "3.6.1"
  },
  "nteract": {
   "version": "0.2.0"
  }
 },
 "nbformat": 4,
 "nbformat_minor": 4
}
