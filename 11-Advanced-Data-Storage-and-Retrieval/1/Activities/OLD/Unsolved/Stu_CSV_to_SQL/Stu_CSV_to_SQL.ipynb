{
  "cells": [
    {
      "cell_type": "code",
      "source": [
        "import pandas as pd\n",
        "import numpy as np\n",
        "import os"
      ],
      "outputs": [],
      "execution_count": null,
      "metadata": {
        "deletable": false,
        "editable": false,
        "nbgrader": {
          "checksum": "25adcaea80d221ca93a5969c8afe9c84",
          "grade": false,
          "grade_id": "cell-e60bc59d72480e58",
          "locked": true,
          "schema_version": 1,
          "solution": false
        }
      }
    },
    {
      "cell_type": "code",
      "source": [
        "# Path to CSV file\n",
        "csvfile = \"demographics.csv\""
      ],
      "outputs": [],
      "execution_count": null,
      "metadata": {
        "deletable": false,
        "editable": false,
        "nbgrader": {
          "checksum": "c39ddb6f654c19064d4f91317a09a324",
          "grade": false,
          "grade_id": "cell-b58b7b11fc36aea7",
          "locked": true,
          "schema_version": 1,
          "solution": false
        }
      }
    },
    {
      "cell_type": "code",
      "source": [
        "# Read CSV file into a pandas DataFrame\n",
        "# YOUR CODE HERE\n",
        "raise NotImplementedError()"
      ],
      "outputs": [],
      "execution_count": null,
      "metadata": {
        "deletable": false,
        "nbgrader": {
          "checksum": "4d5e6f8a075bf8628fdaa78784d47fd7",
          "grade": false,
          "grade_id": "cell-1756496f1ac57a06",
          "locked": false,
          "schema_version": 1,
          "solution": true
        }
      }
    },
    {
      "cell_type": "code",
      "source": [
        "# Use `dropna` to drop any rows where there is missing data\n",
        "# YOUR CODE HERE\n",
        "raise NotImplementedError()"
      ],
      "outputs": [],
      "execution_count": null,
      "metadata": {
        "deletable": false,
        "nbgrader": {
          "checksum": "7dc3cfe1264b249786aa49aba8c6e83d",
          "grade": false,
          "grade_id": "cell-8fca0dd11221aafd",
          "locked": false,
          "schema_version": 1,
          "solution": true
        }
      }
    },
    {
      "cell_type": "code",
      "source": [
        "# Drop the `name` column and reset the index\n",
        "# YOUR CODE HERE\n",
        "raise NotImplementedError()"
      ],
      "outputs": [],
      "execution_count": null,
      "metadata": {
        "deletable": false,
        "nbgrader": {
          "checksum": "474843c856d5f071eb14d248e037e7a4",
          "grade": false,
          "grade_id": "cell-51f491a7ae7a6a50",
          "locked": false,
          "schema_version": 1,
          "solution": true
        }
      }
    },
    {
      "cell_type": "code",
      "source": [
        "# Save the cleaned data to a file called `cleaned_demographics.csv`\n",
        "# YOUR CODE HERE\n",
        "raise NotImplementedError()"
      ],
      "outputs": [],
      "execution_count": null,
      "metadata": {
        "deletable": false,
        "nbgrader": {
          "checksum": "921dc6ebe14a96dd81429a7c4ce351c9",
          "grade": false,
          "grade_id": "cell-d4d93ab46f0c4c50",
          "locked": false,
          "schema_version": 1,
          "solution": true
        }
      }
    },
    {
      "cell_type": "code",
      "source": [
        "# Python SQL toolkit and Object Relational Mapper\n",
        "import sqlalchemy\n",
        "from sqlalchemy import create_engine, MetaData\n",
        "from sqlalchemy.ext.declarative import declarative_base\n",
        "from sqlalchemy import Column, Integer, String, Numeric, Text, Float"
      ],
      "outputs": [],
      "execution_count": null,
      "metadata": {
        "deletable": false,
        "editable": false,
        "nbgrader": {
          "checksum": "9c8f4bd2441737829915e47f8f36c6dd",
          "grade": false,
          "grade_id": "cell-03f5c207a7864008",
          "locked": true,
          "schema_version": 1,
          "solution": false
        }
      }
    },
    {
      "cell_type": "code",
      "source": [
        "# Create an engine to a database file called `demographics.sqlite`\n",
        "# YOUR CODE HERE\n",
        "raise NotImplementedError()"
      ],
      "outputs": [],
      "execution_count": null,
      "metadata": {
        "deletable": false,
        "nbgrader": {
          "checksum": "b04707d6368036f91b36a06c1e3430ff",
          "grade": false,
          "grade_id": "cell-98f2e4153eb825b9",
          "locked": false,
          "schema_version": 1,
          "solution": true
        }
      }
    },
    {
      "cell_type": "code",
      "source": [
        "# Create a connection to the engine called `conn`\n",
        "# YOUR CODE HERE\n",
        "raise NotImplementedError()"
      ],
      "outputs": [],
      "execution_count": null,
      "metadata": {
        "deletable": false,
        "nbgrader": {
          "checksum": "8da32b82e2a267649b6a22a5b9a1ddb0",
          "grade": false,
          "grade_id": "cell-2ed864b6e4573e59",
          "locked": false,
          "schema_version": 1,
          "solution": true
        }
      }
    },
    {
      "cell_type": "code",
      "source": [
        "# Use `declarative_base` from SQLAlchemy to model the demographics table as an ORM class\n",
        "# Make sure to specify types for each column\n",
        "# YOUR CODE HERE\n",
        "raise NotImplementedError()"
      ],
      "outputs": [],
      "execution_count": null,
      "metadata": {
        "deletable": false,
        "nbgrader": {
          "checksum": "9dfe623f1f32d2f60d807a383fad63b1",
          "grade": false,
          "grade_id": "cell-d0a28808066c0c1b",
          "locked": false,
          "schema_version": 1,
          "solution": true
        }
      }
    },
    {
      "cell_type": "code",
      "source": [
        "# Use `create_all` to create the demographics table in the database\n",
        "# YOUR CODE HERE\n",
        "raise NotImplementedError()"
      ],
      "outputs": [],
      "execution_count": null,
      "metadata": {
        "deletable": false,
        "nbgrader": {
          "checksum": "8f864d2267d2d092102bd75fd59958bb",
          "grade": false,
          "grade_id": "cell-d59cd212c9242236",
          "locked": false,
          "schema_version": 1,
          "solution": true
        }
      }
    },
    {
      "cell_type": "code",
      "source": [
        "# Load the cleaned csv file into a pandas dataframe\n",
        "# YOUR CODE HERE\n",
        "raise NotImplementedError()"
      ],
      "outputs": [],
      "execution_count": null,
      "metadata": {
        "deletable": false,
        "nbgrader": {
          "checksum": "533af24a630ae8865ab84790272513a2",
          "grade": false,
          "grade_id": "cell-7a708f12942ebf82",
          "locked": false,
          "schema_version": 1,
          "solution": true
        }
      }
    },
    {
      "cell_type": "code",
      "source": [
        "# Use Orient='records' to create a list of data to write\n",
        "# http://pandas-docs.github.io/pandas-docs-travis/io.html#orient-options\n",
        "# YOUR CODE HERE\n",
        "raise NotImplementedError()"
      ],
      "outputs": [],
      "execution_count": null,
      "metadata": {
        "deletable": false,
        "nbgrader": {
          "checksum": "8187f7ea7fb3cab6d7814d4f5be859f3",
          "grade": false,
          "grade_id": "cell-2e4e9070e9d7731e",
          "locked": false,
          "schema_version": 1,
          "solution": true
        }
      }
    },
    {
      "cell_type": "code",
      "source": [
        "# Use MetaData from SQLAlchemy to reflect the tables\n",
        "# YOUR CODE HERE\n",
        "raise NotImplementedError()"
      ],
      "outputs": [],
      "execution_count": null,
      "metadata": {
        "deletable": false,
        "nbgrader": {
          "checksum": "6b7d3a9f6dcb6d5d629678afdfe7bf77",
          "grade": false,
          "grade_id": "cell-9a0a95e483231aff",
          "locked": false,
          "schema_version": 1,
          "solution": true
        }
      }
    },
    {
      "cell_type": "code",
      "source": [
        "# Save the reference to the `demographics` table as a variable called `table`\n",
        "# YOUR CODE HERE\n",
        "raise NotImplementedError()"
      ],
      "outputs": [],
      "execution_count": null,
      "metadata": {
        "deletable": false,
        "nbgrader": {
          "checksum": "37a2157c0fec00dfdf83872bd6003e5b",
          "grade": false,
          "grade_id": "cell-aa99bd37e7312721",
          "locked": false,
          "schema_version": 1,
          "solution": true
        }
      }
    },
    {
      "cell_type": "code",
      "source": [
        "# Use `table.delete()` to remove any existing data.\n",
        "# Note that this is a convenience function so that you can re-run the example code multiple times.\n",
        "# You would not likely do this step in production.\n",
        "# YOUR CODE HERE\n",
        "raise NotImplementedError()"
      ],
      "outputs": [],
      "execution_count": null,
      "metadata": {
        "deletable": false,
        "nbgrader": {
          "checksum": "b5d1e792b4744a6e54ff1b4c57a7a596",
          "grade": false,
          "grade_id": "cell-d14de7e133e456df",
          "locked": false,
          "schema_version": 1,
          "solution": true
        }
      }
    },
    {
      "cell_type": "code",
      "source": [
        "# Use `table.insert()` to insert the data into the table\n",
        "# YOUR CODE HERE\n",
        "raise NotImplementedError()"
      ],
      "outputs": [],
      "execution_count": null,
      "metadata": {
        "deletable": false,
        "nbgrader": {
          "checksum": "b5e933cd2d10cae590ea2b5a946f9c70",
          "grade": false,
          "grade_id": "cell-aa692b86da935657",
          "locked": false,
          "schema_version": 1,
          "solution": true
        }
      }
    },
    {
      "cell_type": "code",
      "source": [
        "# Test that the insert works by fetching the first 5 rows. \n",
        "conn.execute(\"select * from demographics limit 5\").fetchall()"
      ],
      "outputs": [],
      "execution_count": null,
      "metadata": {
        "deletable": false,
        "editable": false,
        "nbgrader": {
          "checksum": "119dbe903a7f19b7685dde2909155662",
          "grade": false,
          "grade_id": "cell-f7d7ac00590f5413",
          "locked": true,
          "schema_version": 1,
          "solution": false
        }
      }
    },
    {
      "cell_type": "code",
      "source": [
        "# Optional - Clean Intermediate Files\n",
        "os.remove(clean_data)"
      ],
      "outputs": [],
      "execution_count": null,
      "metadata": {
        "deletable": false,
        "editable": false,
        "nbgrader": {
          "checksum": "45fb0bbd3ca74dfa131c40a4c060a5d3",
          "grade": false,
          "grade_id": "cell-c3393949272d5d1d",
          "locked": true,
          "schema_version": 1,
          "solution": false
        }
      }
    },
    {
      "cell_type": "code",
      "source": [
        "# !rm demographics.sqlite"
      ],
      "outputs": [],
      "execution_count": null,
      "metadata": {
        "deletable": false,
        "editable": false,
        "nbgrader": {
          "checksum": "6880a102428110bf55f8f32542390b5c",
          "grade": false,
          "grade_id": "cell-50bf3844300d63ff",
          "locked": true,
          "schema_version": 1,
          "solution": false
        }
      }
    },
    {
      "cell_type": "code",
      "source": [
        "# !ls"
      ],
      "outputs": [],
      "execution_count": null,
      "metadata": {
        "deletable": false,
        "editable": false,
        "nbgrader": {
          "checksum": "1d34fa8fe224e9610175e582572637a0",
          "grade": false,
          "grade_id": "cell-0220ca15ce1c7a15",
          "locked": true,
          "schema_version": 1,
          "solution": false
        }
      }
    }
  ],
  "metadata": {
    "kernelspec": {
      "name": "python3",
      "language": "python",
      "display_name": "Python 3"
    },
    "language_info": {
      "mimetype": "text/x-python",
      "version": "3.5.3",
      "file_extension": ".py",
      "codemirror_mode": {
        "name": "ipython",
        "version": 3
      },
      "name": "python",
      "nbconvert_exporter": "python",
      "pygments_lexer": "ipython3"
    },
    "kernel_info": {
      "name": "python3"
    },
    "nteract": {
      "version": "0.2.0"
    }
  },
  "nbformat": 4,
  "nbformat_minor": 2
}