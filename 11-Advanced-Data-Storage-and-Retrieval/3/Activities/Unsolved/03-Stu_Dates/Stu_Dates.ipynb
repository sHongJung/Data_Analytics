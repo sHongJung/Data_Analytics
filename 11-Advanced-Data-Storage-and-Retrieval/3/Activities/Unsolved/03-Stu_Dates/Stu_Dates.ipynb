{
  "cells": [
    {
      "cell_type": "markdown",
      "source": [
        "# SQLAlchemy, Sqlite, and Dates"
      ],
      "metadata": {
        "slideshow": {
          "slide_type": "slide"
        }
      }
    },
    {
      "cell_type": "markdown",
      "source": [
        "## Setup"
      ],
      "metadata": {
        "slideshow": {
          "slide_type": "slide"
        }
      }
    },
    {
      "cell_type": "code",
      "source": [
        "import matplotlib\n",
        "matplotlib.use('nbagg')\n",
        "from matplotlib import style\n",
        "style.use('fivethirtyeight')\n",
        "import matplotlib.pyplot as plt"
      ],
      "outputs": [],
      "execution_count": 1,
      "metadata": {}
    },
    {
      "cell_type": "code",
      "source": [
        "import pandas as pd"
      ],
      "outputs": [],
      "execution_count": 2,
      "metadata": {}
    },
    {
      "cell_type": "code",
      "source": [
        "# Python SQL toolkit and Object Relational Mapper\n",
        "import sqlalchemy\n",
        "from sqlalchemy.ext.automap import automap_base\n",
        "from sqlalchemy.orm import Session\n",
        "from sqlalchemy import create_engine, inspect, func"
      ],
      "outputs": [],
      "execution_count": 3,
      "metadata": {
        "slideshow": {
          "slide_type": "subslide"
        }
      }
    },
    {
      "cell_type": "code",
      "source": [
        "engine = create_engine(\"sqlite:///dow.sqlite\", echo=False)"
      ],
      "outputs": [],
      "execution_count": 4,
      "metadata": {
        "slideshow": {
          "slide_type": "subslide"
        }
      }
    },
    {
      "cell_type": "code",
      "source": [
        "engine.execute('SELECT * FROM dow LIMIT 5').fetchall()"
      ],
      "outputs": [
        {
          "output_type": "execute_result",
          "execution_count": 5,
          "data": {
            "text/plain": [
              "[(1, 1, 'AA', '2011-01-07', 15.82, 16.72, 15.78, 16.42, 239655616, None),\n",
              " (2, 1, 'AA', '2011-01-14', 16.71, 16.71, 15.64, 15.97, 242963398, None),\n",
              " (3, 1, 'AA', '2011-01-21', 16.19, 16.38, 15.6, 15.79, 138428495, None),\n",
              " (4, 1, 'AA', '2011-01-28', 15.87, 16.63, 15.82, 16.13, 151379173, None),\n",
              " (5, 1, 'AA', '2011-02-04', 16.18, 17.39, 16.18, 17.14, 154387761, None)]"
            ]
          },
          "metadata": {}
        }
      ],
      "execution_count": 5,
      "metadata": {
        "slideshow": {
          "slide_type": "subslide"
        }
      }
    },
    {
      "cell_type": "code",
      "source": [
        "inspector = inspect(engine)\n",
        "columns = inspector.get_columns('dow')\n",
        "for c in columns:\n",
        "    print(c['name'], c[\"type\"])"
      ],
      "outputs": [
        {
          "output_type": "stream",
          "name": "stdout",
          "text": [
            "id INTEGER\n",
            "quarter INTEGER\n",
            "stock TEXT\n",
            "date TEXT\n",
            "open_price FLOAT\n",
            "high_price FLOAT\n",
            "low_price FLOAT\n",
            "close_price FLOAT\n",
            "volume INTEGER\n",
            "percent_change FLOAT\n"
          ]
        }
      ],
      "execution_count": 6,
      "metadata": {}
    },
    {
      "cell_type": "markdown",
      "source": [
        "## Reflect and query dates"
      ],
      "metadata": {
        "slideshow": {
          "slide_type": "slide"
        }
      }
    },
    {
      "cell_type": "code",
      "source": [
        "# Reflect Database into ORM class\n",
        "Base = automap_base()\n",
        "Base.prepare(engine, reflect=True)\n",
        "Dow = Base.classes.dow"
      ],
      "outputs": [],
      "execution_count": 7,
      "metadata": {
        "slideshow": {
          "slide_type": "subslide"
        }
      }
    },
    {
      "cell_type": "code",
      "source": [
        "session = Session(engine)"
      ],
      "outputs": [],
      "execution_count": 8,
      "metadata": {
        "slideshow": {
          "slide_type": "fragment"
        }
      }
    },
    {
      "cell_type": "markdown",
      "source": [
        "## Analysis"
      ],
      "metadata": {
        "slideshow": {
          "slide_type": "subslide"
        }
      }
    },
    {
      "cell_type": "markdown",
      "source": [
        "Analyze the Average prices (open, high, low, close) for all stocks in the Month of May"
      ],
      "metadata": {}
    },
    {
      "cell_type": "code",
      "source": [
        "# Query for the stock and average prices (open, high, low, close) \n",
        "# for all stock in the month of May\n",
        "# Sort the result by stock name\n",
        "# YOUR CODE HERE\n",
        "sel = [Dow.stock, \n",
        "       func.avg(Dow.open_price), \n",
        "       func.avg(Dow.high_price), \n",
        "       func.avg(Dow.low_price), \n",
        "       func.avg(Dow.close_price)]\n",
        "\nmay_averages"
      ],
      "outputs": [],
      "execution_count": null,
      "metadata": {
        "deletable": false,
        "nbgrader": {
          "checksum": "c06b2d6ed8b59a597a6f87d27bd5fe6f",
          "grade": false,
          "grade_id": "cell-a5033f5b305f26d6",
          "locked": false,
          "schema_version": 1,
          "solution": true
        }
      }
    },
    {
      "cell_type": "code",
      "source": [
        "# Plot the Results in a Matplotlib bar chart\n",
        "# YOUR CODE HERE"
      ],
      "outputs": [],
      "execution_count": null,
      "metadata": {
        "deletable": false,
        "nbgrader": {
          "checksum": "25b82936c5b5ba4f75cbf3baf547bcb8",
          "grade": false,
          "grade_id": "cell-8f14868d3f8f3f50",
          "locked": false,
          "schema_version": 1,
          "solution": true
        }
      }
    },
    {
      "cell_type": "markdown",
      "source": [
        "### Bonus\n",
        "Calculate the high-low peak-to-peak (PTP) values for `IBM` stock after `2011-05-31`. \n",
        "* Note: high-low PTP is calculated using `high_price` - `low_price`\n",
        "* Use a DateTime.date object in the query filter\n",
        "* Use a list comprehension or numpy's ravel method to unpack the query's list of tuples into a list of PTP values.\n",
        "* Use matplotlib to plot the PTP values as a boxplot"
      ],
      "metadata": {}
    },
    {
      "cell_type": "code",
      "source": [
        "# Design a query to calculate the PTP for stock `IBM` after May, 2011\n",
        "# YOUR CODE HERE\n",
        "ptps"
      ],
      "outputs": [],
      "execution_count": null,
      "metadata": {
        "deletable": false,
        "nbgrader": {
          "checksum": "fddb0cccaa58c0f7a6d7193efdb0209b",
          "grade": false,
          "grade_id": "cell-91ca80cc05b37ea7",
          "locked": false,
          "schema_version": 1,
          "solution": true
        },
        "slideshow": {
          "slide_type": "fragment"
        }
      }
    },
    {
      "cell_type": "code",
      "source": [
        "# Load the query into a dataframe, set the index to the date, and plot the ptps\n",
        "# YOUR CODE HERE"
      ],
      "outputs": [],
      "execution_count": null,
      "metadata": {
        "deletable": false,
        "nbgrader": {
          "checksum": "ef214205bd63979f0aa120accbfe6797",
          "grade": false,
          "grade_id": "cell-d0b673b76e86e46e",
          "locked": false,
          "schema_version": 1,
          "solution": true
        }
      }
    }
  ],
  "metadata": {
    "kernelspec": {
      "name": "python3",
      "language": "python",
      "display_name": "Python 3"
    },
    "language_info": {
      "pygments_lexer": "ipython3",
      "file_extension": ".py",
      "nbconvert_exporter": "python",
      "mimetype": "text/x-python",
      "version": "3.5.3",
      "codemirror_mode": {
        "version": 3,
        "name": "ipython"
      },
      "name": "python"
    },
    "varInspector": {
      "cols": {
        "lenName": 16,
        "lenType": 16,
        "lenVar": 40
      },
      "kernels_config": {
        "python": {
          "delete_cmd_postfix": "",
          "delete_cmd_prefix": "del ",
          "library": "var_list.py",
          "varRefreshCmd": "print(var_dic_list())"
        },
        "r": {
          "delete_cmd_postfix": ") ",
          "delete_cmd_prefix": "rm(",
          "library": "var_list.r",
          "varRefreshCmd": "cat(var_dic_list()) "
        }
      },
      "types_to_exclude": [
        "module",
        "function",
        "builtin_function_or_method",
        "instance",
        "_Feature"
      ],
      "window_display": false
    },
    "kernel_info": {
      "name": "python3"
    },
    "nteract": {
      "version": "0.2.0"
    }
  },
  "nbformat": 4,
  "nbformat_minor": 2
}