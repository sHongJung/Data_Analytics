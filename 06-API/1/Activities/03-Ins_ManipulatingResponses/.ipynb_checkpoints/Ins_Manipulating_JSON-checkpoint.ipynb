{
 "cells": [
  {
   "cell_type": "code",
   "execution_count": 27,
   "metadata": {
    "collapsed": true
   },
   "outputs": [],
   "source": [
    "# Dependencies\n",
    "import requests\n",
    "import json"
   ]
  },
  {
   "cell_type": "code",
   "execution_count": 32,
   "metadata": {
    "scrolled": false
   },
   "outputs": [
    {
     "name": "stdout",
     "output_type": "stream",
     "text": [
      "{\n",
      "    \"active\": false,\n",
      "    \"boosters\": 0,\n",
      "    \"company\": \"SpaceX\",\n",
      "    \"cost_per_launch\": 6700000,\n",
      "    \"country\": \"Republic of the Marshall Islands\",\n",
      "    \"description\": \"The Falcon 1 was an expendable launch system privately developed and manufactured by SpaceX during 2006-2009. On 28 September 2008, Falcon 1 became the first privately-developed liquid-fuel launch vehicle to go into orbit around the Earth.\",\n",
      "    \"diameter\": {\n",
      "        \"feet\": 5.5,\n",
      "        \"meters\": 1.68\n",
      "    },\n",
      "    \"engines\": {\n",
      "        \"engine_loss_max\": 0,\n",
      "        \"layout\": \"single\",\n",
      "        \"number\": 1,\n",
      "        \"propellant_1\": \"liquid oxygen\",\n",
      "        \"propellant_2\": \"RP-1 kerosene\",\n",
      "        \"thrust_sea_level\": {\n",
      "            \"kN\": 420,\n",
      "            \"lbf\": 94000\n",
      "        },\n",
      "        \"thrust_to_weight\": 96,\n",
      "        \"thrust_vacuum\": {\n",
      "            \"kN\": 480,\n",
      "            \"lbf\": 110000\n",
      "        },\n",
      "        \"type\": \"merlin\",\n",
      "        \"version\": \"1C\"\n",
      "    },\n",
      "    \"first_flight\": \"2006-03-24\",\n",
      "    \"first_stage\": {\n",
      "        \"burn_time_sec\": 169,\n",
      "        \"engines\": 1,\n",
      "        \"fuel_amount_tons\": 44.3,\n",
      "        \"reusable\": false,\n",
      "        \"thrust_sea_level\": {\n",
      "            \"kN\": 420,\n",
      "            \"lbf\": 94000\n",
      "        },\n",
      "        \"thrust_vacuum\": {\n",
      "            \"kN\": 480,\n",
      "            \"lbf\": 110000\n",
      "        }\n",
      "    },\n",
      "    \"height\": {\n",
      "        \"feet\": 73,\n",
      "        \"meters\": 22.25\n",
      "    },\n",
      "    \"id\": \"falcon1\",\n",
      "    \"landing_legs\": {\n",
      "        \"material\": null,\n",
      "        \"number\": 0\n",
      "    },\n",
      "    \"mass\": {\n",
      "        \"kg\": 30146,\n",
      "        \"lb\": 66460\n",
      "    },\n",
      "    \"name\": \"Falcon 1\",\n",
      "    \"payload_weights\": [\n",
      "        {\n",
      "            \"id\": \"leo\",\n",
      "            \"kg\": 450,\n",
      "            \"lb\": 992,\n",
      "            \"name\": \"Low Earth Orbit\"\n",
      "        }\n",
      "    ],\n",
      "    \"second_stage\": {\n",
      "        \"burn_time_sec\": 378,\n",
      "        \"engines\": 1,\n",
      "        \"fuel_amount_tons\": 3.38,\n",
      "        \"payloads\": {\n",
      "            \"composite_fairing\": {\n",
      "                \"diameter\": {\n",
      "                    \"feet\": 4.9,\n",
      "                    \"meters\": 1.5\n",
      "                },\n",
      "                \"height\": {\n",
      "                    \"feet\": 11.5,\n",
      "                    \"meters\": 3.5\n",
      "                }\n",
      "            },\n",
      "            \"option_1\": \"composite fairing\"\n",
      "        },\n",
      "        \"thrust\": {\n",
      "            \"kN\": 31,\n",
      "            \"lbf\": 7000\n",
      "        }\n",
      "    },\n",
      "    \"stages\": 2,\n",
      "    \"success_rate_pct\": 40,\n",
      "    \"type\": \"rocket\"\n",
      "}\n",
      "20\n"
     ]
    }
   ],
   "source": [
    "# Performing a GET Request and saving the \n",
    "# API's response within a variable\n",
    "url = \"https://api.spacexdata.com/v2/rockets/falcon1\"\n",
    "response = requests.get(url)\n",
    "response_json = response.json()\n",
    "print(json.dumps(response_json, indent=4, sort_keys=True))\n",
    "print(len(response_json))"
   ]
  },
  {
   "cell_type": "code",
   "execution_count": 33,
   "metadata": {},
   "outputs": [
    {
     "name": "stdout",
     "output_type": "stream",
     "text": [
      "6700000\n"
     ]
    }
   ],
   "source": [
    "# It is possible to grab a specific value \n",
    "# from within the JSON object\n",
    "print(response_json[\"cost_per_launch\"])"
   ]
  },
  {
   "cell_type": "code",
   "execution_count": 34,
   "metadata": {},
   "outputs": [
    {
     "name": "stdout",
     "output_type": "stream",
     "text": [
      "There are 1 payloads.\n"
     ]
    }
   ],
   "source": [
    "# It is also possible to perform some\n",
    "# analyses on values stored within the JSON object\n",
    "number_payloads = len(response_json[\"payload_weights\"])\n",
    "print(f\"There are {number_payloads} payloads.\")"
   ]
  },
  {
   "cell_type": "code",
   "execution_count": 37,
   "metadata": {},
   "outputs": [
    {
     "name": "stdout",
     "output_type": "stream",
     "text": [
      "The first payload weighed 450 Kilograms\n"
     ]
    }
   ],
   "source": [
    "# Finally, it is possible to reference the\n",
    "# values stored within sub-dictionaries and sub-lists\n",
    "payload_weight = response_json[\"payload_weights\"][0][\"kg\"]\n",
    "print(f\"The first payload weighed {payload_weight} Kilograms\")"
   ]
  },
  {
   "cell_type": "code",
   "execution_count": null,
   "metadata": {
    "collapsed": true
   },
   "outputs": [],
   "source": []
  }
 ],
 "metadata": {
  "kernelspec": {
   "display_name": "Python [default]",
   "language": "python",
   "name": "python3"
  },
  "language_info": {
   "codemirror_mode": {
    "name": "ipython",
    "version": 3
   },
   "file_extension": ".py",
   "mimetype": "text/x-python",
   "name": "python",
   "nbconvert_exporter": "python",
   "pygments_lexer": "ipython3",
   "version": "3.6.3"
  },
  "varInspector": {
   "cols": {
    "lenName": 16,
    "lenType": 16,
    "lenVar": 40
   },
   "kernels_config": {
    "python": {
     "delete_cmd_postfix": "",
     "delete_cmd_prefix": "del ",
     "library": "var_list.py",
     "varRefreshCmd": "print(var_dic_list())"
    },
    "r": {
     "delete_cmd_postfix": ") ",
     "delete_cmd_prefix": "rm(",
     "library": "var_list.r",
     "varRefreshCmd": "cat(var_dic_list()) "
    }
   },
   "types_to_exclude": [
    "module",
    "function",
    "builtin_function_or_method",
    "instance",
    "_Feature"
   ],
   "window_display": false
  }
 },
 "nbformat": 4,
 "nbformat_minor": 2
}
