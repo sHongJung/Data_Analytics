{
 "cells": [
  {
   "cell_type": "code",
   "execution_count": 39,
   "metadata": {
    "collapsed": true
   },
   "outputs": [],
   "source": [
    "import requests\n",
    "import json\n",
    "from pprint import pprint"
   ]
  },
  {
   "cell_type": "code",
   "execution_count": 40,
   "metadata": {
    "collapsed": true
   },
   "outputs": [],
   "source": [
    "url = \"http://www.omdbapi.com/?t=\"\n",
    "title = \"Aliens\"\n",
    "api_key = \"&apikey=85f439ca\"\n",
    "film_url = url+title+api_key"
   ]
  },
  {
   "cell_type": "code",
   "execution_count": 41,
   "metadata": {},
   "outputs": [
    {
     "name": "stdout",
     "output_type": "stream",
     "text": [
      "{'Actors': 'Sigourney Weaver, Carrie Henn, Michael Biehn, Paul Reiser',\n",
      " 'Awards': 'Won 2 Oscars. Another 18 wins & 22 nominations.',\n",
      " 'BoxOffice': 'N/A',\n",
      " 'Country': 'USA',\n",
      " 'DVD': '01 Jun 1999',\n",
      " 'Director': 'James Cameron',\n",
      " 'Genre': 'Action, Adventure, Sci-Fi',\n",
      " 'Language': 'English',\n",
      " 'Metascore': '86',\n",
      " 'Plot': 'Ellen Ripley is rescued by a deep salvage team after being '\n",
      "         'hypersleep for 57 years. The moon that the Nostromo visited has been '\n",
      "         'colonized, but contact is lost. This time, colonial marines have '\n",
      "         'impressive firepower, but will that be enough?',\n",
      " 'Poster': 'https://images-na.ssl-images-amazon.com/images/M/MV5BYzVlMWViZGEtYjEyYy00YWZmLThmZGEtYmM4MDZlN2Q5MmRmXkEyXkFqcGdeQXVyMTQxNzMzNDI@._V1_SX300.jpg',\n",
      " 'Production': '20th Century Fox Film Corporat',\n",
      " 'Rated': 'R',\n",
      " 'Ratings': [{'Source': 'Internet Movie Database', 'Value': '8.4/10'},\n",
      "             {'Source': 'Rotten Tomatoes', 'Value': '98%'},\n",
      "             {'Source': 'Metacritic', 'Value': '86/100'}],\n",
      " 'Released': '18 Jul 1986',\n",
      " 'Response': 'True',\n",
      " 'Runtime': '137 min',\n",
      " 'Title': 'Aliens',\n",
      " 'Type': 'movie',\n",
      " 'Website': 'N/A',\n",
      " 'Writer': 'James Cameron (story by), David Giler (story by), Walter Hill '\n",
      "           \"(story by), Dan O'Bannon (based on characters created by), Ronald \"\n",
      "           'Shusett (based on characters created by), James Cameron '\n",
      "           '(screenplay by)',\n",
      " 'Year': '1986',\n",
      " 'imdbID': 'tt0090605',\n",
      " 'imdbRating': '8.4',\n",
      " 'imdbVotes': '553,577'}\n"
     ]
    }
   ],
   "source": [
    "film_info = requests.get(film_url).json()\n",
    "director = film_info[\"Director\"]\n",
    "pprint(film_info)"
   ]
  },
  {
   "cell_type": "code",
   "execution_count": 42,
   "metadata": {},
   "outputs": [
    {
     "name": "stdout",
     "output_type": "stream",
     "text": [
      "The director of Aliens is James Cameron\n"
     ]
    }
   ],
   "source": [
    "print(f'The director of Aliens is {film_info[\"Director\"]}')"
   ]
  },
  {
   "cell_type": "code",
   "execution_count": 33,
   "metadata": {},
   "outputs": [
    {
     "name": "stdout",
     "output_type": "stream",
     "text": [
      "The rating of Gladiator is 8.5\n"
     ]
    }
   ],
   "source": [
    "url = \"http://www.omdbapi.com/?t=\"\n",
    "title = \"Gladiator\"\n",
    "api_key = \"&apikey=85f439ca\"\n",
    "film_url = url+title+api_key\n",
    "film_info = requests.get(film_url).json()\n",
    "print(\"The rating of Gladiator is \" + film_info[\"imdbRating\"])"
   ]
  },
  {
   "cell_type": "code",
   "execution_count": 34,
   "metadata": {},
   "outputs": [
    {
     "name": "stdout",
     "output_type": "stream",
     "text": [
      "\"'50 First Dates' is released on 13 Feb 2004\"\n"
     ]
    }
   ],
   "source": [
    "url = \"http://www.omdbapi.com/?t=\"\n",
    "title = \"50 First Dates\"\n",
    "api_key = \"&apikey=85f439ca\"\n",
    "film_url = url+title+api_key\n",
    "film_info = requests.get(film_url).json()\n",
    "pprint(\"'50 First Dates' is released on \"+film_info[\"Released\"])"
   ]
  },
  {
   "cell_type": "code",
   "execution_count": 35,
   "metadata": {},
   "outputs": [
    {
     "name": "stdout",
     "output_type": "stream",
     "text": [
      "(\"'Moana' is written by Jared Bush (screenplay by), Ron Clements (story by), \"\n",
      " 'John Musker (story by), Chris Williams (story by), Don Hall (story by), '\n",
      " 'Pamela Ribon (story by), Aaron Kandell (story by), Jordan Kandell (story by)')\n"
     ]
    }
   ],
   "source": [
    "url = \"http://www.omdbapi.com/?t=\"\n",
    "title = \"Moana\"\n",
    "api_key = \"&apikey=85f439ca\"\n",
    "film_url = url+title+api_key\n",
    "film_info = requests.get(film_url).json()\n",
    "pprint(\"'Moana' is written by \"+film_info[\"Writer\"])"
   ]
  },
  {
   "cell_type": "code",
   "execution_count": 37,
   "metadata": {},
   "outputs": [
    {
     "name": "stdout",
     "output_type": "stream",
     "text": [
      "('The plot of Sing: In a city of humanoid animals, a hustling theater '\n",
      " \"impresario's attempt to save his theater with a singing competition becomes \"\n",
      " \"grander than he anticipates even as its finalists' find that their lives \"\n",
      " 'will never be the same.')\n"
     ]
    }
   ],
   "source": [
    "url = \"http://www.omdbapi.com/?t=\"\n",
    "title = \"Sing\"\n",
    "api_key = \"&apikey=85f439ca\"\n",
    "film_url = url+title+api_key\n",
    "film_info = requests.get(film_url).json()\n",
    "pprint('The plot of Sing: ' + film_info[\"Plot\"])"
   ]
  },
  {
   "cell_type": "code",
   "execution_count": null,
   "metadata": {
    "collapsed": true
   },
   "outputs": [],
   "source": []
  }
 ],
 "metadata": {
  "kernelspec": {
   "display_name": "Python [conda env:Anaconda3]",
   "language": "python",
   "name": "conda-env-Anaconda3-py"
  },
  "language_info": {
   "codemirror_mode": {
    "name": "ipython",
    "version": 3
   },
   "file_extension": ".py",
   "mimetype": "text/x-python",
   "name": "python",
   "nbconvert_exporter": "python",
   "pygments_lexer": "ipython3",
   "version": "3.6.3"
  }
 },
 "nbformat": 4,
 "nbformat_minor": 2
}
