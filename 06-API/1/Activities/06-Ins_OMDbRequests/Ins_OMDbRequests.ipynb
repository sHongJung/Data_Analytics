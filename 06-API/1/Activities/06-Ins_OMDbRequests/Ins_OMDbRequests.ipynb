{
 "cells": [
  {
   "cell_type": "code",
   "execution_count": 18,
   "metadata": {
    "collapsed": true
   },
   "outputs": [],
   "source": [
    "import requests\n",
    "import json"
   ]
  },
  {
   "cell_type": "code",
   "execution_count": 19,
   "metadata": {
    "collapsed": true
   },
   "outputs": [],
   "source": [
    "# New Dependency! Use this to pretty print the JSON\n",
    "# https://docs.python.org/3/library/pprint.html\n",
    "from pprint import pprint"
   ]
  },
  {
   "cell_type": "code",
   "execution_count": 20,
   "metadata": {
    "collapsed": true
   },
   "outputs": [],
   "source": [
    "# Note that the ?t= is a query param for the t-itle of the\n",
    "# movie we want to search for.\n",
    "url = \"http://www.omdbapi.com/?t=\"\n",
    "api_key = \"&apikey=85f439ca\""
   ]
  },
  {
   "cell_type": "code",
   "execution_count": 21,
   "metadata": {},
   "outputs": [
    {
     "name": "stdout",
     "output_type": "stream",
     "text": [
      "http://www.omdbapi.com/?t=The%20Martian&apikey=85f439ca\n"
     ]
    }
   ],
   "source": [
    "# Performing a GET request similar to the one we executed\n",
    "# earlier\n",
    "response = requests.get(url + \"The Martian\" + api_key)\n",
    "print(response.url)"
   ]
  },
  {
   "cell_type": "code",
   "execution_count": 22,
   "metadata": {},
   "outputs": [
    {
     "name": "stdout",
     "output_type": "stream",
     "text": [
      "{'Actors': 'Matt Damon, Jessica Chastain, Kristen Wiig, Jeff Daniels',\n",
      " 'Awards': 'Nominated for 7 Oscars. Another 37 wins & 185 nominations.',\n",
      " 'BoxOffice': '$202,313,768',\n",
      " 'Country': 'UK, USA',\n",
      " 'DVD': '12 Jan 2016',\n",
      " 'Director': 'Ridley Scott',\n",
      " 'Genre': 'Adventure, Drama, Sci-Fi',\n",
      " 'Language': 'English, Mandarin',\n",
      " 'Metascore': '80',\n",
      " 'Plot': 'An astronaut becomes stranded on Mars after his team assume him '\n",
      "         'dead, and must rely on his ingenuity to find a way to signal to '\n",
      "         'Earth that he is alive.',\n",
      " 'Poster': 'https://images-na.ssl-images-amazon.com/images/M/MV5BMTc2MTQ3MDA1Nl5BMl5BanBnXkFtZTgwODA3OTI4NjE@._V1_SX300.jpg',\n",
      " 'Production': '20th Century Fox',\n",
      " 'Rated': 'PG-13',\n",
      " 'Ratings': [{'Source': 'Internet Movie Database', 'Value': '8.0/10'},\n",
      "             {'Source': 'Rotten Tomatoes', 'Value': '91%'},\n",
      "             {'Source': 'Metacritic', 'Value': '80/100'}],\n",
      " 'Released': '02 Oct 2015',\n",
      " 'Response': 'True',\n",
      " 'Runtime': '144 min',\n",
      " 'Title': 'The Martian',\n",
      " 'Type': 'movie',\n",
      " 'Website': 'http://TheMartianMovie.com',\n",
      " 'Writer': 'Drew Goddard (screenplay by), Andy Weir (based on the novel by)',\n",
      " 'Year': '2015',\n",
      " 'imdbID': 'tt3659388',\n",
      " 'imdbRating': '8.0',\n",
      " 'imdbVotes': '607,544'}\n"
     ]
    }
   ],
   "source": [
    "# Converting the response to JSON, and printing the result.\n",
    "data = response.json()\n",
    "pprint(data)"
   ]
  },
  {
   "cell_type": "code",
   "execution_count": 23,
   "metadata": {},
   "outputs": [
    {
     "name": "stdout",
     "output_type": "stream",
     "text": [
      "Movie was directed by Ridley Scott.\n",
      "Movie was released in UK, USA.\n"
     ]
    }
   ],
   "source": [
    "# Print a few keys from the response JSON.\n",
    "print(f\"Movie was directed by {data['Director']}.\")\n",
    "print(f\"Movie was released in {data['Country']}.\")"
   ]
  },
  {
   "cell_type": "code",
   "execution_count": null,
   "metadata": {
    "collapsed": true
   },
   "outputs": [],
   "source": []
  }
 ],
 "metadata": {
  "kernelspec": {
   "display_name": "Python [default]",
   "language": "python",
   "name": "python3"
  },
  "language_info": {
   "codemirror_mode": {
    "name": "ipython",
    "version": 3
   },
   "file_extension": ".py",
   "mimetype": "text/x-python",
   "name": "python",
   "nbconvert_exporter": "python",
   "pygments_lexer": "ipython3",
   "version": "3.6.3"
  },
  "varInspector": {
   "cols": {
    "lenName": 16,
    "lenType": 16,
    "lenVar": 40
   },
   "kernels_config": {
    "python": {
     "delete_cmd_postfix": "",
     "delete_cmd_prefix": "del ",
     "library": "var_list.py",
     "varRefreshCmd": "print(var_dic_list())"
    },
    "r": {
     "delete_cmd_postfix": ") ",
     "delete_cmd_prefix": "rm(",
     "library": "var_list.r",
     "varRefreshCmd": "cat(var_dic_list()) "
    }
   },
   "types_to_exclude": [
    "module",
    "function",
    "builtin_function_or_method",
    "instance",
    "_Feature"
   ],
   "window_display": false
  }
 },
 "nbformat": 4,
 "nbformat_minor": 2
}
