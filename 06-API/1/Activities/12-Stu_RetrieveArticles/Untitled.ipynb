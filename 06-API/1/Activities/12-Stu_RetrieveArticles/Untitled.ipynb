{
 "cells": [
  {
   "cell_type": "code",
   "execution_count": 54,
   "metadata": {
    "collapsed": true
   },
   "outputs": [],
   "source": [
    "import json\n",
    "import requests\n",
    "from pprint import pprint"
   ]
  },
  {
   "cell_type": "code",
   "execution_count": 55,
   "metadata": {},
   "outputs": [],
   "source": [
    "url = \"https://api.nytimes.com/svc/search/v2/articlesearch.json?\"\n",
    "api_key = \"7bf41c56d2044504bf8219ecbe01c948\"\n",
    "begin_date = \"20180101\"\n",
    "end_date=\"20180310\"\n",
    "query = \"North Korea\"\n",
    "\n",
    "articles_snippets = []\n",
    "   "
   ]
  },
  {
   "cell_type": "code",
   "execution_count": 56,
   "metadata": {},
   "outputs": [
    {
     "name": "stdout",
     "output_type": "stream",
     "text": [
      "Kim Yo-jong will be the first immediate family member of North Korea’s ruling dynasty to set foot in South Korea.\n",
      "\n",
      "The American military is looking at everything from troop rotations to surveillance to casualty evacuations should it be ordered to take action against North Korea.\n",
      "\n",
      "Talking is better than bombing, but a summit meeting is not the way to begin.\n",
      "\n",
      "Three of our readers are cautiously optimistic about talks with North Korea’s president, but one thinks the meeting is wrongheaded.\n",
      "\n",
      "Short term, the risk of war is reduced. But North Korea has already achieved a symbolic victory, while the U.S. may be set up for failure.\n",
      "\n",
      "Remarks by South Korea’s national security adviser, Chung Eui-yong, at the White House after a meeting with President Trump.\n",
      "\n",
      "Few outsiders have met North Korea’s reclusive leader, Kim Jong-un. But a handful of people who know him have filled in some gaps in recent years.\n",
      "\n",
      "North Korea has tested six nuclear weapons and, according to American intelligence agencies, has 20 to 60 more.\n",
      "\n",
      "Kim Jong-un’s father met in 2000 with Madeleine K. Albright, Bill Clinton’s secretary of state, in what some viewed as a propaganda victory for North Korea.\n",
      "\n",
      "Several times over the years, negotiations between the United States and North Korea have appeared successful. Each time, the agreement fell apart.\n",
      "\n",
      "Diplomacy between the United States and North Korea has gone through familiar cycles of long stagnation, followed by brief bursts of hope, and then inevitable disappointment.\n",
      "\n",
      "A meeting between North Korea’s leader and President Trump would be the highest-level talks between the two countries, but there is a long history of failed efforts.\n",
      "\n",
      "North Korea’s offer to put its nuclear weapons on the bargaining table opens the door to negotiations of unpredictable length and inevitable complexity.\n",
      "\n",
      "President Trump and Mr. Kim, who have agreed to meet to discuss North Korea’s nuclear program, have a history of colorful exchanges. \n",
      "\n",
      "The remarks reflected North Korea’s longstanding insistence that it would engage Washington in dialogue only of it was treated as a nuclear power.\n",
      "\n",
      "“We want to talk also,” the president said. But hours later, the top U.S. diplomat on North Korea abruptly announced his departure.\n",
      "\n",
      "President Trump suggested that should sanctions not work, the resulting U.S. actions might be “very unfortunate for the world.”\n",
      "\n",
      "Vice President Mike Pence had planned to secretly meet with North Korean officials at the Winter Olympics in South Korea, the State Department said.\n",
      "\n",
      "The action was a clear signal, near the end of an Olympic Games marked by a rapprochement on the Korean Peninsula, that his pressure campaign would not let up.\n",
      "\n",
      "President Moon Jae-in will send two top aides to North Korea on Monday in an attempt to defuse tensions on the peninsula.\n",
      "\n",
      "Readers cite the possible perils of such talks, congratulate President Trump and suggest a Marshall Plan for North Korea.\n",
      "\n",
      "President Trump’s proposed tariffs on steel could antagonize South Korea when the United States most needs its ally.\n",
      "\n",
      "Athletes from North and South Korea waved the flags of their own countries as they arrived for the closing ceremony. Only time will tell whether Olympic diplomacy has had a lasting effect.\n",
      "\n",
      "The envoys met with Kim Jong-un, and the North said they had reached a “satisfactory agreement” about holding an inter-Korean summit meeting.\n",
      "\n",
      "The administration is already deliberating over the logistics and location of the meeting, which has still not been officially confirmed by North Korea.\n",
      "\n",
      "The president will need to do a lot of careful planning in the coming weeks for his historic meeting with Kim Jong-un to be a success.\n",
      "\n",
      "In years of dealing with North Korea, I have learned that the regime never gives anything away for free.\n",
      "\n",
      "Kim Jong-un’s meeting with South Korean envoys was a remarkable shift, just months after he raised fears of nuclear war.\n",
      "\n",
      "South Korea says the North is open to negotiations with the United States over its nuclear program but wants military threats eliminated and its security guaranteed.\n",
      "\n",
      "No sitting American president has ever met a North Korean leader, and the meeting would be a breathtaking gamble for Mr. Trump.\n",
      "\n"
     ]
    }
   ],
   "source": [
    " for page in range(0,3):\n",
    "        url_query = url+\"api-key=\"+api_key+ \"&begin_date=\"+begin_date+ \"&end_date=\" + end_date  + \"&page=\" + str(page) + \"&q=\"+query\n",
    "        \n",
    "        articles = requests.get(url_query).json()\n",
    "        \n",
    "        articles_lists = [article for article in articles[\"response\"][\"docs\"]]\n",
    "        \n",
    "        for article in articles_lists:\n",
    "            articles_snippets.append(article[\"snippet\"])\n",
    "            print(article[\"snippet\"]+\"\\n\")"
   ]
  },
  {
   "cell_type": "code",
   "execution_count": 58,
   "metadata": {},
   "outputs": [
    {
     "name": "stdout",
     "output_type": "stream",
     "text": [
      "30\n"
     ]
    }
   ],
   "source": [
    "pprint(len(articles_snippets))"
   ]
  },
  {
   "cell_type": "code",
   "execution_count": null,
   "metadata": {
    "collapsed": true
   },
   "outputs": [],
   "source": []
  }
 ],
 "metadata": {
  "kernelspec": {
   "display_name": "Python [conda env:Anaconda3]",
   "language": "python",
   "name": "conda-env-Anaconda3-py"
  },
  "language_info": {
   "codemirror_mode": {
    "name": "ipython",
    "version": 3
   },
   "file_extension": ".py",
   "mimetype": "text/x-python",
   "name": "python",
   "nbconvert_exporter": "python",
   "pygments_lexer": "ipython3",
   "version": "3.6.3"
  }
 },
 "nbformat": 4,
 "nbformat_minor": 2
}
