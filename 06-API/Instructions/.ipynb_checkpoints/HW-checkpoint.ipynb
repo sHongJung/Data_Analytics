{
 "cells": [
  {
   "cell_type": "markdown",
   "metadata": {},
   "source": [
    "# WeatherPy"
   ]
  },
  {
   "cell_type": "markdown",
   "metadata": {},
   "source": [
    "## Analysis"
   ]
  },
  {
   "cell_type": "code",
   "execution_count": 16,
   "metadata": {
    "collapsed": true
   },
   "outputs": [],
   "source": [
    "import pandas as pd\n",
    "import json\n",
    "import requests as rq\n",
    "import matplotlib.pyplot as plt\n",
    "import numpy as np\n",
    "import seaborn as sb\n",
    "from citipy import citipy\n",
    "from pprint import pprint\n",
    "import time"
   ]
  },
  {
   "cell_type": "code",
   "execution_count": 19,
   "metadata": {},
   "outputs": [
    {
     "name": "stdout",
     "output_type": "stream",
     "text": [
      "['__class__', '__delattr__', '__dict__', '__dir__', '__doc__', '__eq__', '__format__', '__ge__', '__getattribute__', '__gt__', '__hash__', '__init__', '__init_subclass__', '__le__', '__lt__', '__module__', '__ne__', '__new__', '__reduce__', '__reduce_ex__', '__repr__', '__setattr__', '__sizeof__', '__str__', '__subclasshook__', '__weakref__', 'city_name', 'country_code']\n",
      "tainan\n",
      "tw\n"
     ]
    }
   ],
   "source": [
    "city_info = citipy.nearest_city(22.99, 120.21)\n",
    "\n",
    "att = dir(city_info)\n",
    "print(att)\n",
    "city = city_info.city_name\n",
    "print(city)\n",
    "country = city_info.country_code\n",
    "print(country)\n"
   ]
  },
  {
   "cell_type": "markdown",
   "metadata": {},
   "source": [
    "## Generate Cities List"
   ]
  },
  {
   "cell_type": "code",
   "execution_count": 20,
   "metadata": {},
   "outputs": [
    {
     "data": {
      "text/html": [
       "<div>\n",
       "<style>\n",
       "    .dataframe thead tr:only-child th {\n",
       "        text-align: right;\n",
       "    }\n",
       "\n",
       "    .dataframe thead th {\n",
       "        text-align: left;\n",
       "    }\n",
       "\n",
       "    .dataframe tbody tr th {\n",
       "        vertical-align: top;\n",
       "    }\n",
       "</style>\n",
       "<table border=\"1\" class=\"dataframe\">\n",
       "  <thead>\n",
       "    <tr style=\"text-align: right;\">\n",
       "      <th></th>\n",
       "      <th>City</th>\n",
       "      <th>Country</th>\n",
       "    </tr>\n",
       "  </thead>\n",
       "  <tbody>\n",
       "    <tr>\n",
       "      <th>0</th>\n",
       "      <td>talnakh</td>\n",
       "      <td>ru</td>\n",
       "    </tr>\n",
       "    <tr>\n",
       "      <th>1</th>\n",
       "      <td>albany</td>\n",
       "      <td>au</td>\n",
       "    </tr>\n",
       "    <tr>\n",
       "      <th>2</th>\n",
       "      <td>mar del plata</td>\n",
       "      <td>ar</td>\n",
       "    </tr>\n",
       "    <tr>\n",
       "      <th>3</th>\n",
       "      <td>ostrovnoy</td>\n",
       "      <td>ru</td>\n",
       "    </tr>\n",
       "    <tr>\n",
       "      <th>4</th>\n",
       "      <td>yatou</td>\n",
       "      <td>cn</td>\n",
       "    </tr>\n",
       "  </tbody>\n",
       "</table>\n",
       "</div>"
      ],
      "text/plain": [
       "            City Country\n",
       "0        talnakh      ru\n",
       "1         albany      au\n",
       "2  mar del plata      ar\n",
       "3      ostrovnoy      ru\n",
       "4          yatou      cn"
      ]
     },
     "execution_count": 20,
     "metadata": {},
     "output_type": "execute_result"
    }
   ],
   "source": [
    "weather_df = pd.DataFrame(columns= ['City','Country'])\n",
    "for i in range(50):\n",
    "    lat = np.random.uniform(low= -90, high=90)\n",
    "    long = np.random.uniform(low=-180, high=180)\n",
    "    city_info = citipy.nearest_city(lat, long)\n",
    "    city = city_info.city_name\n",
    "    country = city_info.country_code\n",
    "    weather_df = weather_df.append({'City':city, 'Country':country}, ignore_index=True)\n",
    "    \n",
    "weather_df.head()"
   ]
  },
  {
   "cell_type": "markdown",
   "metadata": {},
   "source": [
    "## Perform API Calls"
   ]
  },
  {
   "cell_type": "code",
   "execution_count": 21,
   "metadata": {},
   "outputs": [
    {
     "data": {
      "text/html": [
       "<div>\n",
       "<style>\n",
       "    .dataframe thead tr:only-child th {\n",
       "        text-align: right;\n",
       "    }\n",
       "\n",
       "    .dataframe thead th {\n",
       "        text-align: left;\n",
       "    }\n",
       "\n",
       "    .dataframe tbody tr th {\n",
       "        vertical-align: top;\n",
       "    }\n",
       "</style>\n",
       "<table border=\"1\" class=\"dataframe\">\n",
       "  <thead>\n",
       "    <tr style=\"text-align: right;\">\n",
       "      <th></th>\n",
       "      <th>City</th>\n",
       "      <th>Country</th>\n",
       "      <th>Temperature (F)</th>\n",
       "      <th>Latitude</th>\n",
       "      <th>Longitude</th>\n",
       "      <th>Humidity (%)</th>\n",
       "      <th>Cloudiness (%)</th>\n",
       "      <th>Wind Speed (mph)</th>\n",
       "    </tr>\n",
       "  </thead>\n",
       "  <tbody>\n",
       "    <tr>\n",
       "      <th>0</th>\n",
       "      <td>talnakh</td>\n",
       "      <td>ru</td>\n",
       "      <td></td>\n",
       "      <td></td>\n",
       "      <td></td>\n",
       "      <td></td>\n",
       "      <td></td>\n",
       "      <td></td>\n",
       "    </tr>\n",
       "    <tr>\n",
       "      <th>1</th>\n",
       "      <td>albany</td>\n",
       "      <td>au</td>\n",
       "      <td></td>\n",
       "      <td></td>\n",
       "      <td></td>\n",
       "      <td></td>\n",
       "      <td></td>\n",
       "      <td></td>\n",
       "    </tr>\n",
       "    <tr>\n",
       "      <th>2</th>\n",
       "      <td>mar del plata</td>\n",
       "      <td>ar</td>\n",
       "      <td></td>\n",
       "      <td></td>\n",
       "      <td></td>\n",
       "      <td></td>\n",
       "      <td></td>\n",
       "      <td></td>\n",
       "    </tr>\n",
       "    <tr>\n",
       "      <th>3</th>\n",
       "      <td>ostrovnoy</td>\n",
       "      <td>ru</td>\n",
       "      <td></td>\n",
       "      <td></td>\n",
       "      <td></td>\n",
       "      <td></td>\n",
       "      <td></td>\n",
       "      <td></td>\n",
       "    </tr>\n",
       "    <tr>\n",
       "      <th>4</th>\n",
       "      <td>yatou</td>\n",
       "      <td>cn</td>\n",
       "      <td></td>\n",
       "      <td></td>\n",
       "      <td></td>\n",
       "      <td></td>\n",
       "      <td></td>\n",
       "      <td></td>\n",
       "    </tr>\n",
       "  </tbody>\n",
       "</table>\n",
       "</div>"
      ],
      "text/plain": [
       "            City Country Temperature (F) Latitude Longitude Humidity (%)  \\\n",
       "0        talnakh      ru                                                   \n",
       "1         albany      au                                                   \n",
       "2  mar del plata      ar                                                   \n",
       "3      ostrovnoy      ru                                                   \n",
       "4          yatou      cn                                                   \n",
       "\n",
       "  Cloudiness (%) Wind Speed (mph)  \n",
       "0                                  \n",
       "1                                  \n",
       "2                                  \n",
       "3                                  \n",
       "4                                  "
      ]
     },
     "execution_count": 21,
     "metadata": {},
     "output_type": "execute_result"
    }
   ],
   "source": [
    "weather_df[\"Temperature (F)\"] = \"\"\n",
    "weather_df[\"Latitude\"] = \"\"\n",
    "weather_df[\"Longitude\"] = \"\"\n",
    "weather_df[\"Humidity (%)\"] = \"\"\n",
    "weather_df[\"Cloudiness (%)\"] = \"\"\n",
    "weather_df[\"Wind Speed (mph)\"] = \"\"\n",
    "weather_df.head()"
   ]
  },
  {
   "cell_type": "code",
   "execution_count": 22,
   "metadata": {},
   "outputs": [
    {
     "name": "stdout",
     "output_type": "stream",
     "text": [
      "Beginning Data Retrieval\n",
      "------------------------\n",
      "Proceesing Record :  1  of Set 1 |  Talnakh\n",
      "http://api.openweathermap.org/data/2.5/weather?&APPID=23c333dd9ad6b00441baded0602a84c7&units=IMPERIAL&q=talnakh\n",
      "------------------------\n",
      "Proceesing Record :  2  of Set 1 |  Albany\n",
      "http://api.openweathermap.org/data/2.5/weather?&APPID=23c333dd9ad6b00441baded0602a84c7&units=IMPERIAL&q=albany\n",
      "------------------------\n",
      "Proceesing Record :  3  of Set 1 |  Ostrovnoy\n",
      "http://api.openweathermap.org/data/2.5/weather?&APPID=23c333dd9ad6b00441baded0602a84c7&units=IMPERIAL&q=ostrovnoy\n",
      "------------------------\n",
      "Proceesing Record :  4  of Set 1 |  Yatou\n",
      "http://api.openweathermap.org/data/2.5/weather?&APPID=23c333dd9ad6b00441baded0602a84c7&units=IMPERIAL&q=yatou\n",
      "------------------------\n",
      "Proceesing Record :  5  of Set 1 |  Portonovo\n",
      "http://api.openweathermap.org/data/2.5/weather?&APPID=23c333dd9ad6b00441baded0602a84c7&units=IMPERIAL&q=portonovo\n",
      "------------------------\n",
      "Proceesing Record :  6  of Set 1 |  Hermanus\n",
      "http://api.openweathermap.org/data/2.5/weather?&APPID=23c333dd9ad6b00441baded0602a84c7&units=IMPERIAL&q=hermanus\n",
      "------------------------\n",
      "Proceesing Record :  7  of Set 1 |  Kingman\n",
      "http://api.openweathermap.org/data/2.5/weather?&APPID=23c333dd9ad6b00441baded0602a84c7&units=IMPERIAL&q=kingman\n",
      "------------------------\n",
      "Proceesing Record :  8  of Set 1 |  Klaksvik\n",
      "http://api.openweathermap.org/data/2.5/weather?&APPID=23c333dd9ad6b00441baded0602a84c7&units=IMPERIAL&q=klaksvik\n",
      "------------------------\n",
      "Proceesing Record :  9  of Set 1 |  Tuktoyaktuk\n",
      "http://api.openweathermap.org/data/2.5/weather?&APPID=23c333dd9ad6b00441baded0602a84c7&units=IMPERIAL&q=tuktoyaktuk\n",
      "------------------------\n",
      "Proceesing Record :  10  of Set 1 |  Kahului\n",
      "http://api.openweathermap.org/data/2.5/weather?&APPID=23c333dd9ad6b00441baded0602a84c7&units=IMPERIAL&q=kahului\n",
      "------------------------\n",
      "Proceesing Record :  11  of Set 1 |  Hilo\n",
      "http://api.openweathermap.org/data/2.5/weather?&APPID=23c333dd9ad6b00441baded0602a84c7&units=IMPERIAL&q=hilo\n",
      "------------------------\n",
      "Proceesing Record :  12  of Set 1 |  Jamestown\n",
      "http://api.openweathermap.org/data/2.5/weather?&APPID=23c333dd9ad6b00441baded0602a84c7&units=IMPERIAL&q=jamestown\n",
      "------------------------\n",
      "Proceesing Record :  13  of Set 1 |  Capaci\n",
      "http://api.openweathermap.org/data/2.5/weather?&APPID=23c333dd9ad6b00441baded0602a84c7&units=IMPERIAL&q=capaci\n",
      "------------------------\n",
      "Proceesing Record :  14  of Set 1 |  Narsaq\n",
      "http://api.openweathermap.org/data/2.5/weather?&APPID=23c333dd9ad6b00441baded0602a84c7&units=IMPERIAL&q=narsaq\n",
      "------------------------\n",
      "Proceesing Record :  15  of Set 1 |  Klaksvik\n",
      "http://api.openweathermap.org/data/2.5/weather?&APPID=23c333dd9ad6b00441baded0602a84c7&units=IMPERIAL&q=klaksvik\n",
      "------------------------\n",
      "Proceesing Record :  16  of Set 1 |  Hobart\n",
      "http://api.openweathermap.org/data/2.5/weather?&APPID=23c333dd9ad6b00441baded0602a84c7&units=IMPERIAL&q=hobart\n",
      "------------------------\n",
      "Proceesing Record :  17  of Set 1 |  Hilo\n",
      "http://api.openweathermap.org/data/2.5/weather?&APPID=23c333dd9ad6b00441baded0602a84c7&units=IMPERIAL&q=hilo\n",
      "------------------------\n",
      "Proceesing Record :  18  of Set 1 |  Dikson\n",
      "http://api.openweathermap.org/data/2.5/weather?&APPID=23c333dd9ad6b00441baded0602a84c7&units=IMPERIAL&q=dikson\n",
      "------------------------\n",
      "Proceesing Record :  19  of Set 1 |  Qaanaaq\n",
      "http://api.openweathermap.org/data/2.5/weather?&APPID=23c333dd9ad6b00441baded0602a84c7&units=IMPERIAL&q=qaanaaq\n",
      "------------------------\n",
      "Proceesing Record :  20  of Set 1 |  Tuktoyaktuk\n",
      "http://api.openweathermap.org/data/2.5/weather?&APPID=23c333dd9ad6b00441baded0602a84c7&units=IMPERIAL&q=tuktoyaktuk\n",
      "------------------------\n",
      "Proceesing Record :  21  of Set 1 |  Kununurra\n",
      "http://api.openweathermap.org/data/2.5/weather?&APPID=23c333dd9ad6b00441baded0602a84c7&units=IMPERIAL&q=kununurra\n",
      "------------------------\n",
      "Proceesing Record :  22  of Set 1 |  Grand-Lahou\n",
      "http://api.openweathermap.org/data/2.5/weather?&APPID=23c333dd9ad6b00441baded0602a84c7&units=IMPERIAL&q=grand-lahou\n",
      "------------------------\n",
      "Proceesing Record :  23  of Set 1 |  Sept-Iles\n",
      "http://api.openweathermap.org/data/2.5/weather?&APPID=23c333dd9ad6b00441baded0602a84c7&units=IMPERIAL&q=sept-iles\n",
      "------------------------\n",
      "Proceesing Record :  24  of Set 1 |  Sur\n",
      "http://api.openweathermap.org/data/2.5/weather?&APPID=23c333dd9ad6b00441baded0602a84c7&units=IMPERIAL&q=sur\n",
      "------------------------\n",
      "Proceesing Record :  25  of Set 1 |  Sistranda\n",
      "http://api.openweathermap.org/data/2.5/weather?&APPID=23c333dd9ad6b00441baded0602a84c7&units=IMPERIAL&q=sistranda\n",
      "------------------------\n",
      "Proceesing Record :  26  of Set 1 |  Obala\n",
      "http://api.openweathermap.org/data/2.5/weather?&APPID=23c333dd9ad6b00441baded0602a84c7&units=IMPERIAL&q=obala\n",
      "------------------------\n",
      "Proceesing Record :  27  of Set 1 |  Jamestown\n",
      "http://api.openweathermap.org/data/2.5/weather?&APPID=23c333dd9ad6b00441baded0602a84c7&units=IMPERIAL&q=jamestown\n",
      "------------------------\n",
      "Proceesing Record :  28  of Set 1 |  Ushuaia\n",
      "http://api.openweathermap.org/data/2.5/weather?&APPID=23c333dd9ad6b00441baded0602a84c7&units=IMPERIAL&q=ushuaia\n",
      "------------------------\n",
      "Proceesing Record :  29  of Set 1 |  Mataura\n",
      "http://api.openweathermap.org/data/2.5/weather?&APPID=23c333dd9ad6b00441baded0602a84c7&units=IMPERIAL&q=mataura\n",
      "------------------------\n",
      "Proceesing Record :  30  of Set 1 |  Nanortalik\n",
      "http://api.openweathermap.org/data/2.5/weather?&APPID=23c333dd9ad6b00441baded0602a84c7&units=IMPERIAL&q=nanortalik\n",
      "------------------------\n",
      "Proceesing Record :  31  of Set 1 |  Mitsamiouli\n",
      "http://api.openweathermap.org/data/2.5/weather?&APPID=23c333dd9ad6b00441baded0602a84c7&units=IMPERIAL&q=mitsamiouli\n",
      "------------------------\n",
      "Proceesing Record :  32  of Set 1 |  Geraldton\n",
      "http://api.openweathermap.org/data/2.5/weather?&APPID=23c333dd9ad6b00441baded0602a84c7&units=IMPERIAL&q=geraldton\n",
      "------------------------\n",
      "Proceesing Record :  33  of Set 1 |  Hithadhoo\n",
      "http://api.openweathermap.org/data/2.5/weather?&APPID=23c333dd9ad6b00441baded0602a84c7&units=IMPERIAL&q=hithadhoo\n",
      "------------------------\n",
      "Proceesing Record :  34  of Set 1 |  Praya\n",
      "http://api.openweathermap.org/data/2.5/weather?&APPID=23c333dd9ad6b00441baded0602a84c7&units=IMPERIAL&q=praya\n",
      "------------------------\n",
      "Proceesing Record :  35  of Set 1 |  Larsnes\n",
      "http://api.openweathermap.org/data/2.5/weather?&APPID=23c333dd9ad6b00441baded0602a84c7&units=IMPERIAL&q=larsnes\n",
      "------------------------\n",
      "Proceesing Record :  36  of Set 1 |  Vaini\n",
      "http://api.openweathermap.org/data/2.5/weather?&APPID=23c333dd9ad6b00441baded0602a84c7&units=IMPERIAL&q=vaini\n",
      "------------------------\n",
      "Proceesing Record :  37  of Set 1 |  Vardo\n",
      "http://api.openweathermap.org/data/2.5/weather?&APPID=23c333dd9ad6b00441baded0602a84c7&units=IMPERIAL&q=vardo\n",
      "------------------------\n",
      "Proceesing Record :  38  of Set 1 |  Albany\n",
      "http://api.openweathermap.org/data/2.5/weather?&APPID=23c333dd9ad6b00441baded0602a84c7&units=IMPERIAL&q=albany\n",
      "Complete Data Retrieval of 38 cities\n"
     ]
    }
   ],
   "source": [
    "url = 'http://api.openweathermap.org/data/2.5/weather'\n",
    "\n",
    "print(\"Beginning Data Retrieval\")\n",
    "city_count = 0\n",
    "\n",
    "for index, row in weather_df.iterrows():\n",
    "    target_city = row[\"City\"]\n",
    "    city = target_city.replace(\" \",\"\")\n",
    "    params = {'q':city, 'APPID':'23c333dd9ad6b00441baded0602a84c7', 'units':'IMPERIAL'}\n",
    "    city_data = rq.get(url, params=params).json()\n",
    "    \n",
    "    if city_data[\"cod\"] == \"404\":\n",
    "        continue\n",
    "    else:  \n",
    "        print(\"------------------------\")\n",
    "        print(\"Proceesing Record : \" , city_count+1, ' of Set 1' ' | ' , city_data[\"name\"])\n",
    "        print(url+\"?\"+\"&APPID=23c333dd9ad6b00441baded0602a84c7\"+\"&units=IMPERIAL\"+\"&q=\"+city)\n",
    "        weather_df.set_value(index, \"Temperature (F)\", city_data[\"main\"][\"temp\"])\n",
    "        weather_df.set_value(index, \"Latitude\", city_data[\"coord\"][\"lat\"])\n",
    "        weather_df.set_value(index, \"Longitude\", city_data[\"coord\"][\"lon\"])\n",
    "        weather_df.set_value(index, \"Humidity (%)\", city_data[\"main\"][\"humidity\"])\n",
    "        weather_df.set_value(index, \"Cloudiness (%)\", city_data[\"clouds\"][\"all\"])\n",
    "        weather_df.set_value(index, \"Wind Speed (mph)\", city_data[\"wind\"][\"speed\"])\n",
    "        city_count += 1\n",
    "        if city_count == 500:\n",
    "            break\n",
    "            \n",
    "print(f\"Complete Data Retrieval of {city_count} cities\")"
   ]
  },
  {
   "cell_type": "code",
   "execution_count": 25,
   "metadata": {},
   "outputs": [
    {
     "data": {
      "text/html": [
       "<div>\n",
       "<style>\n",
       "    .dataframe thead tr:only-child th {\n",
       "        text-align: right;\n",
       "    }\n",
       "\n",
       "    .dataframe thead th {\n",
       "        text-align: left;\n",
       "    }\n",
       "\n",
       "    .dataframe tbody tr th {\n",
       "        vertical-align: top;\n",
       "    }\n",
       "</style>\n",
       "<table border=\"1\" class=\"dataframe\">\n",
       "  <thead>\n",
       "    <tr style=\"text-align: right;\">\n",
       "      <th></th>\n",
       "      <th>City</th>\n",
       "      <th>Country</th>\n",
       "      <th>Temperature (F)</th>\n",
       "      <th>Latitude</th>\n",
       "      <th>Longitude</th>\n",
       "      <th>Humidity (%)</th>\n",
       "      <th>Cloudiness (%)</th>\n",
       "      <th>Wind Speed (mph)</th>\n",
       "    </tr>\n",
       "  </thead>\n",
       "  <tbody>\n",
       "    <tr>\n",
       "      <th>0</th>\n",
       "      <td>talnakh</td>\n",
       "      <td>ru</td>\n",
       "      <td>6.63</td>\n",
       "      <td>69.49</td>\n",
       "      <td>88.39</td>\n",
       "      <td>77.0</td>\n",
       "      <td>64.0</td>\n",
       "      <td>6.44</td>\n",
       "    </tr>\n",
       "    <tr>\n",
       "      <th>1</th>\n",
       "      <td>albany</td>\n",
       "      <td>au</td>\n",
       "      <td>41.99</td>\n",
       "      <td>42.65</td>\n",
       "      <td>-73.75</td>\n",
       "      <td>87.0</td>\n",
       "      <td>90.0</td>\n",
       "      <td>3.36</td>\n",
       "    </tr>\n",
       "    <tr>\n",
       "      <th>2</th>\n",
       "      <td>mar del plata</td>\n",
       "      <td>ar</td>\n",
       "      <td>NaN</td>\n",
       "      <td>NaN</td>\n",
       "      <td>NaN</td>\n",
       "      <td>NaN</td>\n",
       "      <td>NaN</td>\n",
       "      <td>NaN</td>\n",
       "    </tr>\n",
       "    <tr>\n",
       "      <th>3</th>\n",
       "      <td>ostrovnoy</td>\n",
       "      <td>ru</td>\n",
       "      <td>29.40</td>\n",
       "      <td>68.05</td>\n",
       "      <td>39.51</td>\n",
       "      <td>93.0</td>\n",
       "      <td>92.0</td>\n",
       "      <td>11.14</td>\n",
       "    </tr>\n",
       "    <tr>\n",
       "      <th>4</th>\n",
       "      <td>yatou</td>\n",
       "      <td>cn</td>\n",
       "      <td>82.40</td>\n",
       "      <td>3.63</td>\n",
       "      <td>9.81</td>\n",
       "      <td>88.0</td>\n",
       "      <td>20.0</td>\n",
       "      <td>1.12</td>\n",
       "    </tr>\n",
       "  </tbody>\n",
       "</table>\n",
       "</div>"
      ],
      "text/plain": [
       "            City Country  Temperature (F)  Latitude  Longitude  Humidity (%)  \\\n",
       "0        talnakh      ru             6.63     69.49      88.39          77.0   \n",
       "1         albany      au            41.99     42.65     -73.75          87.0   \n",
       "2  mar del plata      ar              NaN       NaN        NaN           NaN   \n",
       "3      ostrovnoy      ru            29.40     68.05      39.51          93.0   \n",
       "4          yatou      cn            82.40      3.63       9.81          88.0   \n",
       "\n",
       "   Cloudiness (%)  Wind Speed (mph)  \n",
       "0            64.0              6.44  \n",
       "1            90.0              3.36  \n",
       "2             NaN               NaN  \n",
       "3            92.0             11.14  \n",
       "4            20.0              1.12  "
      ]
     },
     "execution_count": 25,
     "metadata": {},
     "output_type": "execute_result"
    }
   ],
   "source": [
    "weather_df.head()"
   ]
  },
  {
   "cell_type": "code",
   "execution_count": 16,
   "metadata": {
    "collapsed": true
   },
   "outputs": [],
   "source": [
    "# Export the City_Data into a csv\n",
    "weather_df.to_csv('weather_data_file.csv', index_label=\"City_ID\")"
   ]
  },
  {
   "cell_type": "code",
   "execution_count": 26,
   "metadata": {},
   "outputs": [
    {
     "data": {
      "text/html": [
       "<div>\n",
       "<style>\n",
       "    .dataframe thead tr:only-child th {\n",
       "        text-align: right;\n",
       "    }\n",
       "\n",
       "    .dataframe thead th {\n",
       "        text-align: left;\n",
       "    }\n",
       "\n",
       "    .dataframe tbody tr th {\n",
       "        vertical-align: top;\n",
       "    }\n",
       "</style>\n",
       "<table border=\"1\" class=\"dataframe\">\n",
       "  <thead>\n",
       "    <tr style=\"text-align: right;\">\n",
       "      <th></th>\n",
       "      <th>City</th>\n",
       "      <th>Country</th>\n",
       "      <th>Temperature (F)</th>\n",
       "      <th>Latitude</th>\n",
       "      <th>Longitude</th>\n",
       "      <th>Humidity (%)</th>\n",
       "      <th>Cloudiness (%)</th>\n",
       "      <th>Wind Speed (mph)</th>\n",
       "    </tr>\n",
       "  </thead>\n",
       "  <tbody>\n",
       "    <tr>\n",
       "      <th>0</th>\n",
       "      <td>talnakh</td>\n",
       "      <td>ru</td>\n",
       "      <td>6.63</td>\n",
       "      <td>69.49</td>\n",
       "      <td>88.39</td>\n",
       "      <td>77.0</td>\n",
       "      <td>64.0</td>\n",
       "      <td>6.44</td>\n",
       "    </tr>\n",
       "    <tr>\n",
       "      <th>1</th>\n",
       "      <td>albany</td>\n",
       "      <td>au</td>\n",
       "      <td>41.99</td>\n",
       "      <td>42.65</td>\n",
       "      <td>-73.75</td>\n",
       "      <td>87.0</td>\n",
       "      <td>90.0</td>\n",
       "      <td>3.36</td>\n",
       "    </tr>\n",
       "    <tr>\n",
       "      <th>2</th>\n",
       "      <td>ostrovnoy</td>\n",
       "      <td>ru</td>\n",
       "      <td>29.40</td>\n",
       "      <td>68.05</td>\n",
       "      <td>39.51</td>\n",
       "      <td>93.0</td>\n",
       "      <td>92.0</td>\n",
       "      <td>11.14</td>\n",
       "    </tr>\n",
       "    <tr>\n",
       "      <th>3</th>\n",
       "      <td>yatou</td>\n",
       "      <td>cn</td>\n",
       "      <td>82.40</td>\n",
       "      <td>3.63</td>\n",
       "      <td>9.81</td>\n",
       "      <td>88.0</td>\n",
       "      <td>20.0</td>\n",
       "      <td>1.12</td>\n",
       "    </tr>\n",
       "    <tr>\n",
       "      <th>4</th>\n",
       "      <td>porto novo</td>\n",
       "      <td>cv</td>\n",
       "      <td>61.68</td>\n",
       "      <td>44.53</td>\n",
       "      <td>11.75</td>\n",
       "      <td>72.0</td>\n",
       "      <td>0.0</td>\n",
       "      <td>5.82</td>\n",
       "    </tr>\n",
       "  </tbody>\n",
       "</table>\n",
       "</div>"
      ],
      "text/plain": [
       "         City Country  Temperature (F)  Latitude  Longitude  Humidity (%)  \\\n",
       "0     talnakh      ru             6.63     69.49      88.39          77.0   \n",
       "1      albany      au            41.99     42.65     -73.75          87.0   \n",
       "2   ostrovnoy      ru            29.40     68.05      39.51          93.0   \n",
       "3       yatou      cn            82.40      3.63       9.81          88.0   \n",
       "4  porto novo      cv            61.68     44.53      11.75          72.0   \n",
       "\n",
       "   Cloudiness (%)  Wind Speed (mph)  \n",
       "0            64.0              6.44  \n",
       "1            90.0              3.36  \n",
       "2            92.0             11.14  \n",
       "3            20.0              1.12  \n",
       "4             0.0              5.82  "
      ]
     },
     "execution_count": 26,
     "metadata": {},
     "output_type": "execute_result"
    }
   ],
   "source": [
    "weather_df.replace('',np.nan, inplace=True)\n",
    "\n",
    "clean_weather_df = weather_df.dropna(how='any')\n",
    "\n",
    "lats = list(clean_weather_df[\"Latitude\"])\n",
    "temps = list(clean_weather_df[\"Temperature (F)\"])\n",
    "hums = list(clean_weather_df[\"Humidity (%)\"])\n",
    "clouds = list(clean_weather_df[\"Cloudiness (%)\"])\n",
    "speeds = list(clean_weather_df[\"Wind Speed (mph)\"])\n",
    "\n",
    "clean_weather_df = clean_weather_df.reset_index()\n",
    "del clean_weather_df['index']\n",
    "clean_weather_df.head()"
   ]
  },
  {
   "cell_type": "markdown",
   "metadata": {},
   "source": [
    "## Latitude vs Temperature Plot"
   ]
  },
  {
   "cell_type": "code",
   "execution_count": 45,
   "metadata": {},
   "outputs": [
    {
     "data": {
      "image/png": "[encoded data removed]",
      "text/plain": [
       "<matplotlib.figure.Figure at 0x1f83b9bd400>"
      ]
     },
     "metadata": {},
     "output_type": "display_data"
    }
   ],
   "source": [
    "# Build scatter plot for latitude vs temperature\n",
    "\n",
    "plt.scatter(lats, temps, edgecolor=\"black\", linewidths=0.5, color='b', marker=\"o\", \n",
    "alpha=0.7,  label=\"Cities\")\n",
    "plt.rc('axes', axisbelow=True)\n",
    "# Incorporate the other graph properties\n",
    "plt.title(\"City Latitude vs Temperature (%s)\" % time.strftime(\"%x\"))\n",
    "plt.ylabel(\"Temperature (F)\")\n",
    "plt.xlabel(\"Latitude\")\n",
    "# plt.grid(color = 'w', linewidth = 1)\n",
    "\n",
    "# Save the figure\n",
    "plt.savefig(\"Fig1.png\")\n",
    "\n",
    "# Show plot\n",
    "plt.show()"
   ]
  },
  {
   "cell_type": "markdown",
   "metadata": {},
   "source": [
    "## Latitude vs Humidity Plot"
   ]
  },
  {
   "cell_type": "code",
   "execution_count": 22,
   "metadata": {},
   "outputs": [
    {
     "data": {
      "image/png": "[encoded data removed]",
      "text/plain": [
       "<matplotlib.figure.Figure at 0x2bf17211a90>"
      ]
     },
     "metadata": {},
     "output_type": "display_data"
    }
   ],
   "source": [
    "# Build the scatter plots for each city types\n",
    "plt.scatter(lats, \n",
    "            hums,\n",
    "            edgecolor=\"black\", linewidths=1, marker=\"o\", \n",
    "            alpha=0.8, label=\"Cities\")\n",
    "\n",
    "# Incorporate the other graph properties\n",
    "plt.title(\"City Latitude vs. Humidity (%s)\" % time.strftime(\"%x\"))\n",
    "plt.ylabel(\"Humidity (%)\")\n",
    "plt.xlabel(\"Latitude\")\n",
    "\n",
    "\n",
    "# Save the figure\n",
    "plt.savefig(\"Fig2.png\")\n",
    "\n",
    "# Show plot\n",
    "plt.show()"
   ]
  },
  {
   "cell_type": "markdown",
   "metadata": {},
   "source": [
    "## Latitude vs Cloudness Plot"
   ]
  },
  {
   "cell_type": "code",
   "execution_count": 23,
   "metadata": {},
   "outputs": [
    {
     "data": {
      "image/png": "[encoded data removed]",
      "text/plain": [
       "<matplotlib.figure.Figure at 0x2bf172ba4e0>"
      ]
     },
     "metadata": {},
     "output_type": "display_data"
    }
   ],
   "source": [
    "# Build the scatter plots for each city types\n",
    "plt.scatter(lats, \n",
    "            clouds,\n",
    "            edgecolor=\"black\", linewidths=1, marker=\"o\", \n",
    "            alpha=0.8, label=\"Cities\")\n",
    "\n",
    "# Incorporate the other graph properties\n",
    "plt.title(\"City Latitude vs. Cloudiness (%s)\" % time.strftime(\"%x\"))\n",
    "plt.ylabel(\"Cloudiness (%)\")\n",
    "plt.xlabel(\"Latitude\")\n",
    "\n",
    "\n",
    "# Save the figure\n",
    "plt.savefig(\"Fig3.png\")\n",
    "\n",
    "# Show plot\n",
    "plt.show()"
   ]
  },
  {
   "cell_type": "markdown",
   "metadata": {},
   "source": [
    "## Latitude vs Wind Speed Plot"
   ]
  },
  {
   "cell_type": "code",
   "execution_count": 24,
   "metadata": {},
   "outputs": [
    {
     "data": {
      "image/png": "[encoded data removed]",
      "text/plain": [
       "<matplotlib.figure.Figure at 0x2bf17355a20>"
      ]
     },
     "metadata": {},
     "output_type": "display_data"
    }
   ],
   "source": [
    "# Build the scatter plots for each city types\n",
    "plt.scatter(lats, \n",
    "            speeds,\n",
    "            edgecolor=\"black\", linewidths=1, marker=\"o\", \n",
    "            alpha=1, label=\"Cities\")\n",
    "\n",
    "# Incorporate the other graph properties\n",
    "plt.title(\"City Latitude vs. Wind Speed (%s)\" % time.strftime(\"%x\"))\n",
    "plt.ylabel(\"Wind Speed (mph)\")\n",
    "plt.xlabel(\"Latitude\")\n",
    "\n",
    "# Save the figure\n",
    "plt.savefig(\"Fig4.png\")\n",
    "\n",
    "# Show plot\n",
    "plt.show()"
   ]
  },
  {
   "cell_type": "code",
   "execution_count": null,
   "metadata": {
    "collapsed": true
   },
   "outputs": [],
   "source": []
  }
 ],
 "metadata": {
  "kernelspec": {
   "display_name": "Python [conda env:Anaconda3]",
   "language": "python",
   "name": "conda-env-Anaconda3-py"
  },
  "language_info": {
   "codemirror_mode": {
    "name": "ipython",
    "version": 3
   },
   "file_extension": ".py",
   "mimetype": "text/x-python",
   "name": "python",
   "nbconvert_exporter": "python",
   "pygments_lexer": "ipython3",
   "version": "3.6.3"
  }
 },
 "nbformat": 4,
 "nbformat_minor": 2
}
