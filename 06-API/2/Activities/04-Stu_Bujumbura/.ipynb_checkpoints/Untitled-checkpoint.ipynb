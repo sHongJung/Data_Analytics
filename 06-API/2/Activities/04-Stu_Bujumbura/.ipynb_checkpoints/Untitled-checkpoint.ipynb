{
 "cells": [
  {
   "cell_type": "code",
   "execution_count": 36,
   "metadata": {
    "collapsed": true
   },
   "outputs": [],
   "source": [
    "import requests as req\n",
    "import json\n",
    "from pprint import pprint"
   ]
  },
  {
   "cell_type": "code",
   "execution_count": 37,
   "metadata": {
    "collapsed": true
   },
   "outputs": [],
   "source": [
    "url = 'http://api.openweathermap.org/data/2.5/weather'\n",
    "api_key = 'b630bdae590e6b89b2e3923152ac17e5'\n",
    "city='Bujumbura'\n",
    "parameters = {'appid':api_key, 'q':city, 'units':'metric'}\n"
   ]
  },
  {
   "cell_type": "code",
   "execution_count": 38,
   "metadata": {},
   "outputs": [
    {
     "name": "stdout",
     "output_type": "stream",
     "text": [
      "{'base': 'stations',\n",
      " 'clouds': {'all': 64},\n",
      " 'cod': 200,\n",
      " 'coord': {'lat': -3.36, 'lon': 29.37},\n",
      " 'dt': 1520908733,\n",
      " 'id': 425378,\n",
      " 'main': {'grnd_level': 857.51,\n",
      "          'humidity': 100,\n",
      "          'pressure': 857.51,\n",
      "          'sea_level': 1025.01,\n",
      "          'temp': 15.77,\n",
      "          'temp_max': 15.77,\n",
      "          'temp_min': 15.77},\n",
      " 'name': 'Bujumbura',\n",
      " 'sys': {'country': 'BI',\n",
      "         'message': 0.003,\n",
      "         'sunrise': 1520914080,\n",
      "         'sunset': 1520957752},\n",
      " 'weather': [{'description': 'broken clouds',\n",
      "              'icon': '04n',\n",
      "              'id': 803,\n",
      "              'main': 'Clouds'}],\n",
      " 'wind': {'deg': 24.0009, 'speed': 1.61}}\n"
     ]
    }
   ],
   "source": [
    "data =req.get(url, params=parameters).json()\n",
    "pprint(data)"
   ]
  },
  {
   "cell_type": "code",
   "execution_count": 44,
   "metadata": {},
   "outputs": [
    {
     "name": "stdout",
     "output_type": "stream",
     "text": [
      "15.77 Celcius\n"
     ]
    }
   ],
   "source": [
    "current_temp = data['main']['temp']\n",
    "print(f\"{current_temp} Celcius\")"
   ]
  },
  {
   "cell_type": "code",
   "execution_count": 43,
   "metadata": {},
   "outputs": [
    {
     "name": "stdout",
     "output_type": "stream",
     "text": [
      "60.39 Fahrenheit\n"
     ]
    }
   ],
   "source": [
    "parameters = {'appid':api_key, 'q':city, 'units':'imperial'}\n",
    "data2 =req.get(url, params=parameters).json()\n",
    "current_temp = data2['main']['temp']\n",
    "print(f\"{current_temp} Fahrenheit\")"
   ]
  },
  {
   "cell_type": "code",
   "execution_count": null,
   "metadata": {
    "collapsed": true
   },
   "outputs": [],
   "source": []
  }
 ],
 "metadata": {
  "kernelspec": {
   "display_name": "Python [conda env:Anaconda3]",
   "language": "python",
   "name": "conda-env-Anaconda3-py"
  },
  "language_info": {
   "codemirror_mode": {
    "name": "ipython",
    "version": 3
   },
   "file_extension": ".py",
   "mimetype": "text/x-python",
   "name": "python",
   "nbconvert_exporter": "python",
   "pygments_lexer": "ipython3",
   "version": "3.6.3"
  }
 },
 "nbformat": 4,
 "nbformat_minor": 2
}
