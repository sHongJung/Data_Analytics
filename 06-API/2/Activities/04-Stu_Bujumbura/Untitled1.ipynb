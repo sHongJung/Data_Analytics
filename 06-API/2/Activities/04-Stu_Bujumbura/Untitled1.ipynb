{
 "cells": [
  {
   "cell_type": "code",
   "execution_count": 4,
   "metadata": {},
   "outputs": [
    {
     "name": "stdout",
     "output_type": "stream",
     "text": [
      "http://api.openweathermap.org/data/2.5/weather?appid=b630bdae590e6b89b2e3923152ac17e5&q=London\n"
     ]
    }
   ],
   "source": [
    "# Dependencies\n",
    "import json\n",
    "import requests as req\n",
    "\n",
    "# Save config information\n",
    "url = 'http://api.openweathermap.org/data/2.5/weather'\n",
    "api_key = 'b630bdae590e6b89b2e3923152ac17e5'\n",
    "city = 'London'\n",
    "\n",
    "# Build query URL\n",
    "query_url = url + '?appid=' + api_key + '&q=' + city\n",
    "print(query_url)"
   ]
  },
  {
   "cell_type": "code",
   "execution_count": null,
   "metadata": {
    "collapsed": true
   },
   "outputs": [],
   "source": []
  }
 ],
 "metadata": {
  "kernelspec": {
   "display_name": "Python [conda env:Anaconda3]",
   "language": "python",
   "name": "conda-env-Anaconda3-py"
  },
  "language_info": {
   "codemirror_mode": {
    "name": "ipython",
    "version": 3
   },
   "file_extension": ".py",
   "mimetype": "text/x-python",
   "name": "python",
   "nbconvert_exporter": "python",
   "pygments_lexer": "ipython3",
   "version": "3.6.3"
  }
 },
 "nbformat": 4,
 "nbformat_minor": 2
}
