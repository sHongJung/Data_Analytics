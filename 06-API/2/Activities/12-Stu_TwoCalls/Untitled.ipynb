{
 "cells": [
  {
   "cell_type": "code",
   "execution_count": 20,
   "metadata": {
    "collapsed": true
   },
   "outputs": [],
   "source": [
    "import requests as req\n",
    "import json\n",
    "import pandas as pd\n",
    "from pprint import pprint"
   ]
  },
  {
   "cell_type": "code",
   "execution_count": 21,
   "metadata": {},
   "outputs": [
    {
     "name": "stdout",
     "output_type": "stream",
     "text": [
      "[{'page': '1', 'pages': '1', 'per_page': '50', 'total': '4'},\n",
      " [{'id': 'IBD', 'iso2code': 'XF', 'value': 'IBRD'},\n",
      "  {'id': 'IDB', 'iso2code': 'XH', 'value': 'Blend'},\n",
      "  {'id': 'IDX', 'iso2code': 'XI', 'value': 'IDA'},\n",
      "  {'id': 'LNX', 'iso2code': 'XX', 'value': 'Not classified'}]]\n"
     ]
    }
   ],
   "source": [
    "url = 'http://api.worldbank.org/v2/lendingTypes/'\n",
    "query_url = url + '?format=json'\n",
    "lending_types = req.get(query_url).json()\n",
    "pprint(lending_types)"
   ]
  },
  {
   "cell_type": "code",
   "execution_count": null,
   "metadata": {
    "collapsed": true
   },
   "outputs": [],
   "source": []
  }
 ],
 "metadata": {
  "kernelspec": {
   "display_name": "Python [conda env:Anaconda3]",
   "language": "python",
   "name": "conda-env-Anaconda3-py"
  },
  "language_info": {
   "codemirror_mode": {
    "name": "ipython",
    "version": 3
   },
   "file_extension": ".py",
   "mimetype": "text/x-python",
   "name": "python",
   "nbconvert_exporter": "python",
   "pygments_lexer": "ipython3",
   "version": "3.6.3"
  }
 },
 "nbformat": 4,
 "nbformat_minor": 2
}
