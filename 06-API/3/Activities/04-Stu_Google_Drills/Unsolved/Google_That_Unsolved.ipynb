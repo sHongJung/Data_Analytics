{
 "cells": [
  {
   "cell_type": "code",
   "execution_count": 1,
   "metadata": {
    "collapsed": true
   },
   "outputs": [],
   "source": [
    "# Create code to answer each of the following questions.\n",
    "# Hint: You will need multiple target urls and multiple API requests.\n",
    "\n",
    "# Dependencies\n",
    "import requests as req\n",
    "import json\n",
    "from pprint import pprint\n",
    "\n",
    "# Retrieve Google API key from config.py\n",
    "from config import gkey\n"
   ]
  },
  {
   "cell_type": "code",
   "execution_count": 4,
   "metadata": {},
   "outputs": [
    {
     "name": "stdout",
     "output_type": "stream",
     "text": [
      "{'html_attributions': [],\n",
      " 'result': {'address_components': [{'long_name': 'Seattle',\n",
      "                                    'short_name': 'Seattle',\n",
      "                                    'types': ['locality', 'political']},\n",
      "                                   {'long_name': 'King County',\n",
      "                                    'short_name': 'King County',\n",
      "                                    'types': ['administrative_area_level_2',\n",
      "                                              'political']},\n",
      "                                   {'long_name': 'Washington',\n",
      "                                    'short_name': 'WA',\n",
      "                                    'types': ['administrative_area_level_1',\n",
      "                                              'political']},\n",
      "                                   {'long_name': 'United States',\n",
      "                                    'short_name': 'US',\n",
      "                                    'types': ['country', 'political']}],\n",
      "            'adr_address': '<span class=\"locality\">Seattle</span>, <span '\n",
      "                           'class=\"region\">WA</span>, <span '\n",
      "                           'class=\"country-name\">USA</span>',\n",
      "            'formatted_address': 'Seattle, WA, USA',\n",
      "            'geometry': {'location': {'lat': 47.6062095, 'lng': -122.3320708},\n",
      "                         'viewport': {'northeast': {'lat': 47.734145,\n",
      "                                                    'lng': -122.2244331},\n",
      "                                      'southwest': {'lat': 47.4919119,\n",
      "                                                    'lng': -122.4596959}}},\n",
      "            'icon': 'https://maps.gstatic.com/mapfiles/place_api/icons/geocode-71.png',\n",
      "            'id': '67cf2359c5a32054c37a05f8173fa95710f0af09',\n",
      "            'name': 'Seattle',\n",
      "            'photos': [{'height': 682,\n",
      "                        'html_attributions': ['<a '\n",
      "                                              'href=\"https://maps.google.com/maps/contrib/114333203493362956036/photos\">vladimir '\n",
      "                                              'souline</a>'],\n",
      "                        'photo_reference': 'CmRaAAAAGfkzQP3eG2MW8bVsThgGUUI3-U_2fCwt-54UcOfrBpU1uo6kudODMTjM0kfAzy0xlH8sz_CrQThtb-lp45sOmAGLkFvVhSCbBB8-Tk4vHLAYqXVdKt4jjH7UZnpW1x30EhCqwqwdAkR6guCkaRwCoZwJGhTZQ-U0ZtrKq78SZkLhyLN72LKL7Q',\n",
      "                        'width': 1024},\n",
      "                       {'height': 3006,\n",
      "                        'html_attributions': ['<a '\n",
      "                                              'href=\"https://maps.google.com/maps/contrib/104315134689371439144/photos\">Masroor '\n",
      "                                              'Ahmad</a>'],\n",
      "                        'photo_reference': 'CmRaAAAA6IwIjEZJB5VFZW2WZKsA47WDRwxMVAEKFJINhOrC2of6rAYpJ9WyAhVYrm1-iRcLgV-zyFKXFPF4Z4o_OgcXeEhkzij1Tt7bRGvuV4vHmAw-DcBLxr1DjofQEkFvsRPdEhD_TFSv2GNYXd3l_r8xvxKRGhS8vwlTtzhSn9ljedoXOoIzrbWAQQ',\n",
      "                        'width': 5344},\n",
      "                       {'height': 1536,\n",
      "                        'html_attributions': ['<a '\n",
      "                                              'href=\"https://maps.google.com/maps/contrib/114672293713529150924/photos\">Robert '\n",
      "                                              'Pool</a>'],\n",
      "                        'photo_reference': 'CmRaAAAAZ4oep5-K0VHeezlFOTX9l2S8uu354O5V776Pvow3tDC8h_hDdDaOep9rE1gtnwOEnh6S01OYfaAiW22SV_nX3vCFTXEs4e1D87tjn4RwrRCYzM7PwnBM7VEciPauoTAeEhBsAMBlfZZsyn1YCicUCUzbGhRvklnklVHFFz2nzXnsoPSQMC4lAQ',\n",
      "                        'width': 2048},\n",
      "                       {'height': 472,\n",
      "                        'html_attributions': ['<a '\n",
      "                                              'href=\"https://maps.google.com/maps/contrib/108402794156733860332/photos\">xoce '\n",
      "                                              'sabino</a>'],\n",
      "                        'photo_reference': 'CmRaAAAAn9cCzsgD_LZBI8coBXbNV_MaZYPccuYSg6vyz6NrRAXZD0qPXiit1hNG_4UlokofM9RKqmJ14PcorNVq8TNM_fj8azm-VljmJW9iPH3BAgtHgtb_yYq67spRJ5K9LkPGEhDW8yRl7fEm10owxcu1QuIpGhRcU14WjT6zQz9IPGNUvOFWzHv6AA',\n",
      "                        'width': 720},\n",
      "                       {'height': 5312,\n",
      "                        'html_attributions': ['<a '\n",
      "                                              'href=\"https://maps.google.com/maps/contrib/100517175773441373077/photos\">Angel '\n",
      "                                              'Pimentel</a>'],\n",
      "                        'photo_reference': 'CmRaAAAAVk2vXsuFtitzSztNAw1uC23D9VhUkeRpMTnFOWyPqDvO0deLHVrcD5eQRz-LJJBws7cMtpNsTUBAIvzHiSluzVCGfvBdGMMY4JtVRBA15e5p3Sz4Czn7hYt8tI8rNwLOEhDmo7XN3rS5EBVTgKgmZ0DYGhShV9UqrmJpkBZcizqPdZgZP5qQDA',\n",
      "                        'width': 2988},\n",
      "                       {'height': 583,\n",
      "                        'html_attributions': ['<a '\n",
      "                                              'href=\"https://maps.google.com/maps/contrib/113156522880597965372/photos\">Preda '\n",
      "                                              'Robert</a>'],\n",
      "                        'photo_reference': 'CmRaAAAAXKN2SFD-bMVvCUeMBsmix_hlSuYhCNlYPvzk0CxhjSYhQPzVQVtrNl43mhbuuueJHlTeqQk_Q9Fy744o4qnWHcuDo4qQS0l6todUFtgnFOHV-cUtacofD3sI3zuz_mONEhDoRz1vgxu8aGNOGZLfCP2DGhQ_WCK6I_BEtrgZ9ivmt6Ldgk4RRA',\n",
      "                        'width': 720},\n",
      "                       {'height': 750,\n",
      "                        'html_attributions': ['<a '\n",
      "                                              'href=\"https://maps.google.com/maps/contrib/114672293713529150924/photos\">Robert '\n",
      "                                              'Pool</a>'],\n",
      "                        'photo_reference': 'CmRaAAAA1QLP4bJbL0YRSTDzlPCSXh5L_bu7p1AS6XjGLFLYbyTzcxNVURzfQsJTp4sUPeJlmmQNNOBRHk9i7DF3HsgvzzRGjAEB7-ACKwf9uZiw6Ro00xjCZ8lr_5D8fctlhBgcEhA_TQj4hUWzLoQdGHp_dd2-GhQUvhpdfEvtRUMj9qDDvJX3QQA2Tw',\n",
      "                        'width': 1000},\n",
      "                       {'height': 2048,\n",
      "                        'html_attributions': ['<a '\n",
      "                                              'href=\"https://maps.google.com/maps/contrib/114672293713529150924/photos\">Robert '\n",
      "                                              'Pool</a>'],\n",
      "                        'photo_reference': 'CmRaAAAAdMwQh5iVogbSahWqrvDEMm2KE5_U8KNATr5O1_-JafmLykHnbce_g7jfGMVtKDpzPNGhdBqJdvrWhh4XKSKzp_pX1xaM_GSdAXK-IIJCDnVsqjCBgF5oxqeq-rpJpR4MEhDTG9bLldmATPjcoCW0E5wbGhTgdzRDR6bRVOXn7x64TfyUvbBglw',\n",
      "                        'width': 1536},\n",
      "                       {'height': 1536,\n",
      "                        'html_attributions': ['<a '\n",
      "                                              'href=\"https://maps.google.com/maps/contrib/114672293713529150924/photos\">Robert '\n",
      "                                              'Pool</a>'],\n",
      "                        'photo_reference': 'CmRaAAAATFxHNA1KaUodd36RuJhYk2EsdbcnqmfAtWQkhpC-AIIpLOEzA3RenFjy12obggjht-U6Ui4Nfb-RWzXlubxv9BvC5H5PFrApezKLgBjB3GP2EekE_S55Rs9zG77pUe0fEhACi4Vk-LcEmzLVU7QgQavlGhSliYVJdb6RFtNqKwRJ4YBmEz4_hQ',\n",
      "                        'width': 2048},\n",
      "                       {'height': 750,\n",
      "                        'html_attributions': ['<a '\n",
      "                                              'href=\"https://maps.google.com/maps/contrib/114672293713529150924/photos\">Robert '\n",
      "                                              'Pool</a>'],\n",
      "                        'photo_reference': 'CmRaAAAAz_oDqmaehAv_eHjTBx8Ks2NK4vOlsKcbHO1bEDywSARZD3iD9Lmn8u-VKSWcTmYR1CSxsJx4M_86BILAqZjrWEWh1HtlGw21BYm0XG-8TWoB2-aVFYU1MfJVZZLA0QCwEhBcBfw4UNJWAg7vecppe02bGhR_qn6-DNfS9Q-xAkB0u38-SHd9-A',\n",
      "                        'width': 1000}],\n",
      "            'place_id': 'ChIJVTPokywQkFQRmtVEaUZlJRA',\n",
      "            'reference': 'CmRbAAAA6ay7hvNtv4L89yocWIPCdbvLLHgms0eZJrtXBWDEtYU2d0Ul2k8FNxsPuAhrbxy0mVc9ZMivl1rnVmExL9ag8gNtlk_tfzEjPn-DS-JNRvOggPi-GUTRhuVgTbEqSWyQEhA656fyEFrykmbh6W0ohZtNGhSKCi4ypRWA3WdvcfBHKA2Y2JUW6Q',\n",
      "            'scope': 'GOOGLE',\n",
      "            'types': ['locality', 'political'],\n",
      "            'url': 'https://maps.google.com/?q=Seattle,+WA,+USA&ftid=0x5490102c93e83355:0x102565466944d59a',\n",
      "            'utc_offset': -420,\n",
      "            'vicinity': 'Seattle'},\n",
      " 'status': 'OK'}\n"
     ]
    }
   ],
   "source": [
    "# 1. What are the geocoordinates (latitude/longitude) of Seattle, Washington?\n",
    "url = \"https://maps.googleapis.com/maps/api/place/details/json\"\n",
    "seattle_id = 'ChIJVTPokywQkFQRmtVEaUZlJRA' \n",
    "parameters = {'key': gkey, 'placeid': seattle_id}\n",
    "city_data = req.get(url, params = parameters).json()\n",
    "pprint(city_data)"
   ]
  },
  {
   "cell_type": "code",
   "execution_count": 5,
   "metadata": {},
   "outputs": [
    {
     "name": "stdout",
     "output_type": "stream",
     "text": [
      "{'lat': 47.6062095, 'lng': -122.3320708}\n"
     ]
    }
   ],
   "source": [
    "# 2. What are the geocoordinates (latitude/longitude) of The White House?\n",
    "geo_data = city_data['result']['geometry']['location']\n",
    "pprint(geo_data)"
   ]
  },
  {
   "cell_type": "code",
   "execution_count": 8,
   "metadata": {},
   "outputs": [
    {
     "name": "stdout",
     "output_type": "stream",
     "text": [
      "['REI', 'Recycled Cycles', 'Play It Again Sports & Ski', 'evo Seattle Store', 'The Bicycle Repair Shop', 'Westside Bicycle', 'Métier Racing & Coffee', 'Cascade Bicycle Studio', '20/20 Cycle', 'Montlake Bicycle Shop', 'Performance Bicycle', 'Wright Brothers Cycle Works', 'Alki Bike & Board', 'Counterbalance Bicycles', 'Alpine Hut', 'Electric & Folding Bikes Northwest', 'UKKO - Hill Topper Electric Bikes', 'mobius cycle', 'R+E Cycles (Rodriguez Bicycle Company)', 'Free Range Cycles']\n"
     ]
    }
   ],
   "source": [
    "# 3. Find the names and addresses of a bike store in Seattle, Washington.\n",
    "#    Hint: See https://developers.google.com/places/web-service/supported_types\n",
    "\n",
    "target_coordinates = \"47.6062095, -122.3320708\"\n",
    "target_radius = 8000\n",
    "target_type = \"bicycle_store\"\n",
    "\n",
    "# set up a parameters dictionary\n",
    "params = {\n",
    "    \"location\": target_coordinates,\n",
    "    \"radius\": target_radius,\n",
    "    \"type\": target_type,\n",
    "    \"key\": gkey\n",
    "}\n",
    "\n",
    "url = \"https://maps.googleapis.com/maps/api/place/nearbysearch/json\"\n",
    "bike_store_data = req.get(url, params=params).json()\n",
    "bike_stores= []\n",
    "for store in bike_store_data['results']:\n",
    "    bike_stores.append(store['name'])\n",
    "print(bike_stores)"
   ]
  },
  {
   "cell_type": "code",
   "execution_count": 11,
   "metadata": {},
   "outputs": [
    {
     "name": "stdout",
     "output_type": "stream",
     "text": [
      "[]\n"
     ]
    }
   ],
   "source": [
    "# 4. Find a balloon store near the White House.\n",
    "\n",
    "place_id = \"ChIJ37HL3ry3t4kRv3YLbdhpWXE\"\n",
    "target_coordinates = \"\"\n",
    "target_radius = 8000\n",
    "target_search = \"balloon\"\n",
    "target_type = \"store\"\n",
    "\n",
    "# set up a parameters dictionary\n",
    "params = {\n",
    "    \"placeid\":place_id ,\n",
    "    \"radius\": target_radius,\n",
    "    \"keyword\": target_search,\n",
    "    \"type\": target_type,\n",
    "    \"key\": gkey\n",
    "}\n",
    "\n",
    "url = \"https://maps.googleapis.com/maps/api/place/nearbysearch/json\"\n",
    "balloon_store_data = req.get(url, params=params).json()\n",
    "balloon_stores= []\n",
    "for store in balloon_store_data['results']:\n",
    "    balloon_stores.append(store['name'])\n",
    "print(balloon_stores)"
   ]
  },
  {
   "cell_type": "code",
   "execution_count": null,
   "metadata": {
    "collapsed": true
   },
   "outputs": [],
   "source": [
    "# 5. Find the nearest dentist to your house.\n",
    "#    Hint: Use Google Maps to find your latitude and Google Places to find the\n",
    "#    dentist. You will also need the rankby property."
   ]
  },
  {
   "cell_type": "code",
   "execution_count": null,
   "metadata": {
    "collapsed": true
   },
   "outputs": [],
   "source": [
    "# 6. Bonus: Find the names and addresses of the top five places Google suggests\n",
    "#    for the phrase: \"Happy Place \".\n",
    "#    Hint: Read about \"Text Search Results\"\n",
    "# (https://developers.google.com/places/web-service/search#TextSearchRequests)"
   ]
  }
 ],
 "metadata": {
  "kernelspec": {
   "display_name": "Python [conda env:Anaconda3]",
   "language": "python",
   "name": "conda-env-Anaconda3-py"
  },
  "language_info": {
   "codemirror_mode": {
    "name": "ipython",
    "version": 3
   },
   "file_extension": ".py",
   "mimetype": "text/x-python",
   "name": "python",
   "nbconvert_exporter": "python",
   "pygments_lexer": "ipython3",
   "version": "3.6.3"
  }
 },
 "nbformat": 4,
 "nbformat_minor": 2
}
