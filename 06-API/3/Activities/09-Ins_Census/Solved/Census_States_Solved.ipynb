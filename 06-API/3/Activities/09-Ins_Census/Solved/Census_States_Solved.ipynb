{
 "cells": [
  {
   "cell_type": "code",
   "execution_count": 15,
   "metadata": {
    "collapsed": true
   },
   "outputs": [],
   "source": [
    "# Dependencies\n",
    "import numpy as np\n",
    "import pandas as pd\n",
    "import matplotlib.pyplot as plt \n",
    "import requests\n",
    "from census import Census\n",
    "from us import states\n",
    "\n",
    "# Census API Key\n",
    "c = Census(\"85ac64b6b5a9c0901b00329d1ef41f0c53ccfc98\", year=2013)"
   ]
  },
  {
   "cell_type": "code",
   "execution_count": 23,
   "metadata": {
    "collapsed": false
   },
   "outputs": [
    {
     "data": {
      "text/html": [
       "<div>\n",
       "<table border=\"1\" class=\"dataframe\">\n",
       "  <thead>\n",
       "    <tr style=\"text-align: right;\">\n",
       "      <th></th>\n",
       "      <th>State</th>\n",
       "      <th>Name</th>\n",
       "      <th>Population</th>\n",
       "      <th>Median Age</th>\n",
       "      <th>Household Income</th>\n",
       "      <th>Per Capita Income</th>\n",
       "      <th>Poverty Count</th>\n",
       "      <th>Poverty Rate</th>\n",
       "      <th>Unemployment Rate</th>\n",
       "    </tr>\n",
       "  </thead>\n",
       "  <tbody>\n",
       "    <tr>\n",
       "      <th>0</th>\n",
       "      <td>01</td>\n",
       "      <td>Alabama</td>\n",
       "      <td>4799277</td>\n",
       "      <td>38.1</td>\n",
       "      <td>43253</td>\n",
       "      <td>23680</td>\n",
       "      <td>870631</td>\n",
       "      <td>18.140878</td>\n",
       "      <td>5.040968</td>\n",
       "    </tr>\n",
       "    <tr>\n",
       "      <th>1</th>\n",
       "      <td>02</td>\n",
       "      <td>Alaska</td>\n",
       "      <td>720316</td>\n",
       "      <td>33.6</td>\n",
       "      <td>70760</td>\n",
       "      <td>32651</td>\n",
       "      <td>69514</td>\n",
       "      <td>9.650487</td>\n",
       "      <td>4.572854</td>\n",
       "    </tr>\n",
       "    <tr>\n",
       "      <th>2</th>\n",
       "      <td>04</td>\n",
       "      <td>Arizona</td>\n",
       "      <td>6479703</td>\n",
       "      <td>36.3</td>\n",
       "      <td>49774</td>\n",
       "      <td>25358</td>\n",
       "      <td>1131901</td>\n",
       "      <td>17.468409</td>\n",
       "      <td>4.882323</td>\n",
       "    </tr>\n",
       "    <tr>\n",
       "      <th>3</th>\n",
       "      <td>05</td>\n",
       "      <td>Arkansas</td>\n",
       "      <td>2933369</td>\n",
       "      <td>37.5</td>\n",
       "      <td>40768</td>\n",
       "      <td>22170</td>\n",
       "      <td>547328</td>\n",
       "      <td>18.658682</td>\n",
       "      <td>4.132961</td>\n",
       "    </tr>\n",
       "    <tr>\n",
       "      <th>4</th>\n",
       "      <td>06</td>\n",
       "      <td>California</td>\n",
       "      <td>37659181</td>\n",
       "      <td>35.4</td>\n",
       "      <td>61094</td>\n",
       "      <td>29527</td>\n",
       "      <td>5885417</td>\n",
       "      <td>15.628107</td>\n",
       "      <td>5.758662</td>\n",
       "    </tr>\n",
       "  </tbody>\n",
       "</table>\n",
       "</div>"
      ],
      "text/plain": [
       "  State        Name Population Median Age Household Income Per Capita Income  \\\n",
       "0    01     Alabama    4799277       38.1            43253             23680   \n",
       "1    02      Alaska     720316       33.6            70760             32651   \n",
       "2    04     Arizona    6479703       36.3            49774             25358   \n",
       "3    05    Arkansas    2933369       37.5            40768             22170   \n",
       "4    06  California   37659181       35.4            61094             29527   \n",
       "\n",
       "  Poverty Count  Poverty Rate  Unemployment Rate  \n",
       "0        870631     18.140878           5.040968  \n",
       "1         69514      9.650487           4.572854  \n",
       "2       1131901     17.468409           4.882323  \n",
       "3        547328     18.658682           4.132961  \n",
       "4       5885417     15.628107           5.758662  "
      ]
     },
     "execution_count": 23,
     "metadata": {},
     "output_type": "execute_result"
    }
   ],
   "source": [
    "# Run Census Search to retrieve data on all states\n",
    "# Note the addition of \"B23025_005E\" for unemployment count\n",
    "census_data = c.acs5.get((\"NAME\", \"B19013_001E\", \"B01003_001E\", \"B01002_001E\",\n",
    "                          \"B19301_001E\",\n",
    "                          \"B17001_002E\",\n",
    "                          \"B23025_005E\"), {'for': 'state:*'})\n",
    "\n",
    "# Convert to DataFrame\n",
    "census_pd = pd.DataFrame(census_data)\n",
    "\n",
    "# Column Reordering\n",
    "census_pd = census_pd.rename(columns={\"B01003_001E\": \"Population\", \n",
    "                                      \"B01002_001E\": \"Median Age\",\n",
    "                                      \"B19013_001E\": \"Household Income\",\n",
    "                                      \"B19301_001E\": \"Per Capita Income\",\n",
    "                                      \"B17001_002E\": \"Poverty Count\",\n",
    "                                      \"B23025_005E\": \"Unemployment Count\",\n",
    "                                      \"NAME\": \"Name\", \"state\": \"State\"})\n",
    "\n",
    "# Add in Poverty Rate (Poverty Count / Population)\n",
    "census_pd[\"Poverty Rate\"] = 100 * census_pd[\"Poverty Count\"].astype(int) / census_pd[\"Population\"].astype(int)\n",
    "\n",
    "# Add in Employment Rate (Employment Count / Population)\n",
    "census_pd[\"Unemployment Rate\"] = 100 * census_pd[\"Unemployment Count\"].astype(int) / census_pd[\"Population\"].astype(int)\n",
    "\n",
    "# Final DataFrame\n",
    "census_pd = census_pd[[\"State\", \"Name\", \"Population\", \"Median Age\", \"Household Income\",\n",
    "                       \"Per Capita Income\", \"Poverty Count\", \"Poverty Rate\", \"Unemployment Rate\"]]\n",
    "\n",
    "census_pd.head()"
   ]
  },
  {
   "cell_type": "code",
   "execution_count": 24,
   "metadata": {
    "collapsed": true
   },
   "outputs": [],
   "source": [
    "# Save as a csv\n",
    "# Note to avoid any issues later, use encoding=\"utf-8\"\n",
    "census_pd.to_csv(\"census_data_states.csv\", encoding=\"utf-8\", index=False)"
   ]
  }
 ],
 "metadata": {
  "anaconda-cloud": {},
  "kernelspec": {
   "display_name": "Python [conda env:PythonData]",
   "language": "python",
   "name": "conda-env-PythonData-py"
  },
  "language_info": {
   "codemirror_mode": {
    "name": "ipython",
    "version": 3
   },
   "file_extension": ".py",
   "mimetype": "text/x-python",
   "name": "python",
   "nbconvert_exporter": "python",
   "pygments_lexer": "ipython3",
   "version": "3.5.2"
  }
 },
 "nbformat": 4,
 "nbformat_minor": 1
}
