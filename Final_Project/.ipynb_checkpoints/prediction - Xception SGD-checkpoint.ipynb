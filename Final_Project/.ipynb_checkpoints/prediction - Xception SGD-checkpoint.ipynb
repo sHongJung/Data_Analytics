{
 "cells": [
  {
   "cell_type": "code",
   "execution_count": 1,
   "metadata": {},
   "outputs": [
    {
     "name": "stderr",
     "output_type": "stream",
     "text": [
      "Using TensorFlow backend.\n"
     ]
    }
   ],
   "source": [
    "#Dependencies\n",
    "import os\n",
    "import numpy as np\n",
    "import tensorflow as tf\n",
    "import PIL\n",
    "\n",
    "\n",
    "import keras \n",
    "from keras.preprocessing import image\n",
    "from keras.models import Model\n",
    "from keras.models import load_model\n",
    "from keras.utils import to_categorical\n",
    "from keras.layers import Dense, GlobalAveragePooling2D\n",
    "from keras.preprocessing.image import ImageDataGenerator\n",
    "from keras.applications.vgg19 import (VGG19, preprocess_input, decode_predictions)\n",
    "\n",
    "from sklearn.model_selection import train_test_split"
   ]
  },
  {
   "cell_type": "code",
   "execution_count": 5,
   "metadata": {
    "collapsed": true
   },
   "outputs": [],
   "source": [
    "# Trained Model\n",
    "model = load_model(\"Xception_train_b10_ep10_SGD.h5\")"
   ]
  },
  {
   "cell_type": "code",
   "execution_count": 6,
   "metadata": {
    "collapsed": true
   },
   "outputs": [],
   "source": [
    "test_batch = 'images_split/test'"
   ]
  },
  {
   "cell_type": "code",
   "execution_count": 4,
   "metadata": {},
   "outputs": [
    {
     "name": "stdout",
     "output_type": "stream",
     "text": [
      "Found 0 images belonging to 8 classes.\n"
     ]
    }
   ],
   "source": [
    "test_datagen = ImageDataGenerator(rescale=1. / 255)\n",
    "\n",
    "test_batches = test_datagen.flow_from_directory(\n",
    "                                directory=test_batch,\n",
    "                                target_size=(224,224),  \n",
    "                                classes=['animals','beaches','birds','electronics','fashion','nature','landmarks','people'],                           \n",
    "                                batch_size=5\n",
    "                                )       "
   ]
  },
  {
   "cell_type": "code",
   "execution_count": 18,
   "metadata": {},
   "outputs": [
    {
     "name": "stderr",
     "output_type": "stream",
     "text": [
      "C:\\Users\\DCPC\\Anaconda3\\lib\\site-packages\\PIL\\Image.py:918: UserWarning: Palette images with Transparency   expressed in bytes should be converted to RGBA images\n",
      "  'to RGBA images')\n"
     ]
    }
   ],
   "source": [
    "predictions = model.predict_generator(test_batches, 10)"
   ]
  },
  {
   "cell_type": "code",
   "execution_count": 19,
   "metadata": {},
   "outputs": [
    {
     "data": {
      "text/plain": [
       "array([[3.4445950e-01, 2.9932179e-03, 4.5762141e-03, 7.7643938e-04,\n",
       "        2.0702820e-02, 3.8481837e-03, 5.7811099e-01, 4.4532690e-02],\n",
       "       [9.9767333e-01, 1.8885814e-05, 9.6389180e-05, 1.7439318e-04,\n",
       "        1.3089464e-06, 4.1110953e-04, 1.5960763e-03, 2.8568880e-05],\n",
       "       [3.6074135e-02, 7.1314126e-03, 1.3566557e-03, 2.3983434e-02,\n",
       "        8.4240321e-04, 2.0700494e-02, 9.0800738e-01, 1.9040547e-03],\n",
       "       [9.9754709e-01, 7.8520374e-05, 2.5659092e-04, 2.6879061e-04,\n",
       "        1.6182107e-04, 8.9775678e-04, 2.0729625e-04, 5.8224477e-04],\n",
       "       [7.5656289e-01, 7.8852875e-03, 4.8661409e-03, 3.5758983e-02,\n",
       "        3.5547834e-02, 7.8715302e-02, 4.6091232e-02, 3.4572382e-02],\n",
       "       [8.9775705e-01, 6.2282402e-03, 1.0323699e-02, 4.8691672e-03,\n",
       "        1.0810062e-02, 8.4440811e-03, 5.9209570e-02, 2.3582482e-03],\n",
       "       [9.4412285e-01, 7.3172717e-04, 4.3217791e-03, 5.5505717e-03,\n",
       "        3.9348355e-03, 3.2576267e-02, 5.1712915e-03, 3.5908308e-03],\n",
       "       [9.3276101e-01, 1.6681629e-03, 2.4215257e-02, 1.1682914e-03,\n",
       "        5.9255636e-03, 8.2332669e-03, 1.9260326e-02, 6.7682839e-03],\n",
       "       [9.0195918e-01, 1.9445369e-03, 1.8817179e-02, 6.6047888e-03,\n",
       "        3.3859049e-03, 5.5402204e-02, 1.0545006e-02, 1.3413004e-03],\n",
       "       [9.9359328e-01, 4.6218780e-04, 3.0321844e-05, 4.2855976e-05,\n",
       "        2.0741820e-04, 3.3966772e-04, 5.2265441e-03, 9.7775519e-05],\n",
       "       [9.3276101e-01, 1.6681629e-03, 2.4215257e-02, 1.1682914e-03,\n",
       "        5.9255636e-03, 8.2332669e-03, 1.9260326e-02, 6.7682839e-03],\n",
       "       [3.6074135e-02, 7.1314126e-03, 1.3566557e-03, 2.3983434e-02,\n",
       "        8.4240321e-04, 2.0700494e-02, 9.0800738e-01, 1.9040547e-03],\n",
       "       [9.9767333e-01, 1.8885814e-05, 9.6389180e-05, 1.7439318e-04,\n",
       "        1.3089464e-06, 4.1110953e-04, 1.5960763e-03, 2.8568880e-05],\n",
       "       [9.0195918e-01, 1.9445369e-03, 1.8817179e-02, 6.6047888e-03,\n",
       "        3.3859049e-03, 5.5402204e-02, 1.0545006e-02, 1.3413004e-03],\n",
       "       [9.9754709e-01, 7.8520374e-05, 2.5659092e-04, 2.6879061e-04,\n",
       "        1.6182107e-04, 8.9775678e-04, 2.0729625e-04, 5.8224477e-04],\n",
       "       [9.4412285e-01, 7.3172717e-04, 4.3217791e-03, 5.5505717e-03,\n",
       "        3.9348355e-03, 3.2576267e-02, 5.1712915e-03, 3.5908308e-03],\n",
       "       [3.4445950e-01, 2.9932179e-03, 4.5762141e-03, 7.7643938e-04,\n",
       "        2.0702820e-02, 3.8481837e-03, 5.7811099e-01, 4.4532690e-02],\n",
       "       [9.9359328e-01, 4.6218780e-04, 3.0321844e-05, 4.2855976e-05,\n",
       "        2.0741820e-04, 3.3966772e-04, 5.2265441e-03, 9.7775519e-05],\n",
       "       [8.9775705e-01, 6.2282402e-03, 1.0323699e-02, 4.8691672e-03,\n",
       "        1.0810062e-02, 8.4440811e-03, 5.9209570e-02, 2.3582482e-03],\n",
       "       [7.5656289e-01, 7.8852875e-03, 4.8661409e-03, 3.5758983e-02,\n",
       "        3.5547834e-02, 7.8715302e-02, 4.6091232e-02, 3.4572382e-02],\n",
       "       [9.9359328e-01, 4.6218780e-04, 3.0321844e-05, 4.2855976e-05,\n",
       "        2.0741820e-04, 3.3966772e-04, 5.2265441e-03, 9.7775519e-05],\n",
       "       [8.9775705e-01, 6.2282402e-03, 1.0323699e-02, 4.8691672e-03,\n",
       "        1.0810062e-02, 8.4440811e-03, 5.9209570e-02, 2.3582482e-03],\n",
       "       [9.9767333e-01, 1.8885814e-05, 9.6389180e-05, 1.7439318e-04,\n",
       "        1.3089464e-06, 4.1110953e-04, 1.5960763e-03, 2.8568880e-05],\n",
       "       [9.0195918e-01, 1.9445369e-03, 1.8817179e-02, 6.6047888e-03,\n",
       "        3.3859049e-03, 5.5402204e-02, 1.0545006e-02, 1.3413004e-03],\n",
       "       [7.5656289e-01, 7.8852875e-03, 4.8661409e-03, 3.5758983e-02,\n",
       "        3.5547834e-02, 7.8715302e-02, 4.6091232e-02, 3.4572382e-02],\n",
       "       [3.4445950e-01, 2.9932179e-03, 4.5762141e-03, 7.7643938e-04,\n",
       "        2.0702820e-02, 3.8481837e-03, 5.7811099e-01, 4.4532690e-02],\n",
       "       [9.4412285e-01, 7.3172717e-04, 4.3217791e-03, 5.5505717e-03,\n",
       "        3.9348355e-03, 3.2576267e-02, 5.1712915e-03, 3.5908308e-03],\n",
       "       [3.6074135e-02, 7.1314126e-03, 1.3566557e-03, 2.3983434e-02,\n",
       "        8.4240321e-04, 2.0700494e-02, 9.0800738e-01, 1.9040547e-03],\n",
       "       [9.9754709e-01, 7.8520374e-05, 2.5659092e-04, 2.6879061e-04,\n",
       "        1.6182107e-04, 8.9775678e-04, 2.0729625e-04, 5.8224477e-04],\n",
       "       [9.3276101e-01, 1.6681629e-03, 2.4215257e-02, 1.1682914e-03,\n",
       "        5.9255636e-03, 8.2332669e-03, 1.9260326e-02, 6.7682839e-03],\n",
       "       [3.4445950e-01, 2.9932179e-03, 4.5762141e-03, 7.7643938e-04,\n",
       "        2.0702820e-02, 3.8481837e-03, 5.7811099e-01, 4.4532690e-02],\n",
       "       [8.9775705e-01, 6.2282402e-03, 1.0323699e-02, 4.8691672e-03,\n",
       "        1.0810062e-02, 8.4440811e-03, 5.9209570e-02, 2.3582482e-03],\n",
       "       [7.5656289e-01, 7.8852875e-03, 4.8661409e-03, 3.5758983e-02,\n",
       "        3.5547834e-02, 7.8715302e-02, 4.6091232e-02, 3.4572382e-02],\n",
       "       [9.4412285e-01, 7.3172717e-04, 4.3217791e-03, 5.5505717e-03,\n",
       "        3.9348355e-03, 3.2576267e-02, 5.1712915e-03, 3.5908308e-03],\n",
       "       [9.0195918e-01, 1.9445369e-03, 1.8817179e-02, 6.6047888e-03,\n",
       "        3.3859049e-03, 5.5402204e-02, 1.0545006e-02, 1.3413004e-03],\n",
       "       [9.9754709e-01, 7.8520374e-05, 2.5659092e-04, 2.6879061e-04,\n",
       "        1.6182107e-04, 8.9775678e-04, 2.0729625e-04, 5.8224477e-04],\n",
       "       [3.6074135e-02, 7.1314126e-03, 1.3566557e-03, 2.3983434e-02,\n",
       "        8.4240321e-04, 2.0700494e-02, 9.0800738e-01, 1.9040547e-03],\n",
       "       [9.9359328e-01, 4.6218780e-04, 3.0321844e-05, 4.2855976e-05,\n",
       "        2.0741820e-04, 3.3966772e-04, 5.2265441e-03, 9.7775519e-05],\n",
       "       [9.3276101e-01, 1.6681629e-03, 2.4215257e-02, 1.1682914e-03,\n",
       "        5.9255636e-03, 8.2332669e-03, 1.9260326e-02, 6.7682839e-03],\n",
       "       [9.9767333e-01, 1.8885814e-05, 9.6389180e-05, 1.7439318e-04,\n",
       "        1.3089464e-06, 4.1110953e-04, 1.5960763e-03, 2.8568880e-05],\n",
       "       [8.9775705e-01, 6.2282402e-03, 1.0323699e-02, 4.8691672e-03,\n",
       "        1.0810062e-02, 8.4440811e-03, 5.9209570e-02, 2.3582482e-03],\n",
       "       [9.9754709e-01, 7.8520374e-05, 2.5659092e-04, 2.6879061e-04,\n",
       "        1.6182107e-04, 8.9775678e-04, 2.0729625e-04, 5.8224477e-04],\n",
       "       [9.4412285e-01, 7.3172717e-04, 4.3217791e-03, 5.5505717e-03,\n",
       "        3.9348355e-03, 3.2576267e-02, 5.1712915e-03, 3.5908308e-03],\n",
       "       [9.3276101e-01, 1.6681629e-03, 2.4215257e-02, 1.1682914e-03,\n",
       "        5.9255636e-03, 8.2332669e-03, 1.9260326e-02, 6.7682839e-03],\n",
       "       [9.9359328e-01, 4.6218780e-04, 3.0321844e-05, 4.2855976e-05,\n",
       "        2.0741820e-04, 3.3966772e-04, 5.2265441e-03, 9.7775519e-05],\n",
       "       [7.5656289e-01, 7.8852875e-03, 4.8661409e-03, 3.5758983e-02,\n",
       "        3.5547834e-02, 7.8715302e-02, 4.6091232e-02, 3.4572382e-02],\n",
       "       [3.6074135e-02, 7.1314126e-03, 1.3566557e-03, 2.3983434e-02,\n",
       "        8.4240321e-04, 2.0700494e-02, 9.0800738e-01, 1.9040547e-03],\n",
       "       [3.4445950e-01, 2.9932179e-03, 4.5762141e-03, 7.7643938e-04,\n",
       "        2.0702820e-02, 3.8481837e-03, 5.7811099e-01, 4.4532690e-02],\n",
       "       [9.0195918e-01, 1.9445369e-03, 1.8817179e-02, 6.6047888e-03,\n",
       "        3.3859049e-03, 5.5402204e-02, 1.0545006e-02, 1.3413004e-03],\n",
       "       [9.9767333e-01, 1.8885814e-05, 9.6389180e-05, 1.7439318e-04,\n",
       "        1.3089464e-06, 4.1110953e-04, 1.5960763e-03, 2.8568880e-05]],\n",
       "      dtype=float32)"
      ]
     },
     "execution_count": 19,
     "metadata": {},
     "output_type": "execute_result"
    }
   ],
   "source": [
    "predictions"
   ]
  },
  {
   "cell_type": "code",
   "execution_count": 13,
   "metadata": {
    "collapsed": true
   },
   "outputs": [],
   "source": [
    "from sklearn.metrics import confusion_matrix"
   ]
  },
  {
   "cell_type": "code",
   "execution_count": 48,
   "metadata": {},
   "outputs": [
    {
     "data": {
      "text/plain": [
       "0.12500001"
      ]
     },
     "execution_count": 48,
     "metadata": {},
     "output_type": "execute_result"
    }
   ],
   "source": [
    "np.mean(predictions[0])\n"
   ]
  },
  {
   "cell_type": "code",
   "execution_count": 43,
   "metadata": {},
   "outputs": [
    {
     "name": "stdout",
     "output_type": "stream",
     "text": [
      "(50, 8)\n",
      "(50, 8)\n"
     ]
    },
    {
     "data": {
      "text/plain": [
       "array([[40, 10],\n",
       "       [ 0,  0]], dtype=int64)"
      ]
     },
     "execution_count": 43,
     "metadata": {},
     "output_type": "execute_result"
    }
   ],
   "source": [
    "y_true = np.reshape(np.array([1] * 400), (50, 8))\n",
    "y_pred = predictions > 0.5\n",
    "\n",
    "print (np.array(y_true).shape)\n",
    "print (np.array(y_pred).shape)\n",
    "confusion_matrix(y_true.argmax(axis=1), y_pred.argmax(axis=1))\n"
   ]
  },
  {
   "cell_type": "code",
   "execution_count": 44,
   "metadata": {},
   "outputs": [
    {
     "name": "stdout",
     "output_type": "stream",
     "text": [
      "[[1 1 1 1 1 1 1 1]\n",
      " [1 1 1 1 1 1 1 1]\n",
      " [1 1 1 1 1 1 1 1]\n",
      " [1 1 1 1 1 1 1 1]\n",
      " [1 1 1 1 1 1 1 1]\n",
      " [1 1 1 1 1 1 1 1]\n",
      " [1 1 1 1 1 1 1 1]\n",
      " [1 1 1 1 1 1 1 1]\n",
      " [1 1 1 1 1 1 1 1]\n",
      " [1 1 1 1 1 1 1 1]\n",
      " [1 1 1 1 1 1 1 1]\n",
      " [1 1 1 1 1 1 1 1]\n",
      " [1 1 1 1 1 1 1 1]\n",
      " [1 1 1 1 1 1 1 1]\n",
      " [1 1 1 1 1 1 1 1]\n",
      " [1 1 1 1 1 1 1 1]\n",
      " [1 1 1 1 1 1 1 1]\n",
      " [1 1 1 1 1 1 1 1]\n",
      " [1 1 1 1 1 1 1 1]\n",
      " [1 1 1 1 1 1 1 1]\n",
      " [1 1 1 1 1 1 1 1]\n",
      " [1 1 1 1 1 1 1 1]\n",
      " [1 1 1 1 1 1 1 1]\n",
      " [1 1 1 1 1 1 1 1]\n",
      " [1 1 1 1 1 1 1 1]\n",
      " [1 1 1 1 1 1 1 1]\n",
      " [1 1 1 1 1 1 1 1]\n",
      " [1 1 1 1 1 1 1 1]\n",
      " [1 1 1 1 1 1 1 1]\n",
      " [1 1 1 1 1 1 1 1]\n",
      " [1 1 1 1 1 1 1 1]\n",
      " [1 1 1 1 1 1 1 1]\n",
      " [1 1 1 1 1 1 1 1]\n",
      " [1 1 1 1 1 1 1 1]\n",
      " [1 1 1 1 1 1 1 1]\n",
      " [1 1 1 1 1 1 1 1]\n",
      " [1 1 1 1 1 1 1 1]\n",
      " [1 1 1 1 1 1 1 1]\n",
      " [1 1 1 1 1 1 1 1]\n",
      " [1 1 1 1 1 1 1 1]\n",
      " [1 1 1 1 1 1 1 1]\n",
      " [1 1 1 1 1 1 1 1]\n",
      " [1 1 1 1 1 1 1 1]\n",
      " [1 1 1 1 1 1 1 1]\n",
      " [1 1 1 1 1 1 1 1]\n",
      " [1 1 1 1 1 1 1 1]\n",
      " [1 1 1 1 1 1 1 1]\n",
      " [1 1 1 1 1 1 1 1]\n",
      " [1 1 1 1 1 1 1 1]\n",
      " [1 1 1 1 1 1 1 1]]\n",
      "[[False False False False False False  True False]\n",
      " [ True False False False False False False False]\n",
      " [False False False False False False  True False]\n",
      " [ True False False False False False False False]\n",
      " [ True False False False False False False False]\n",
      " [ True False False False False False False False]\n",
      " [ True False False False False False False False]\n",
      " [ True False False False False False False False]\n",
      " [ True False False False False False False False]\n",
      " [ True False False False False False False False]\n",
      " [ True False False False False False False False]\n",
      " [False False False False False False  True False]\n",
      " [ True False False False False False False False]\n",
      " [ True False False False False False False False]\n",
      " [ True False False False False False False False]\n",
      " [ True False False False False False False False]\n",
      " [False False False False False False  True False]\n",
      " [ True False False False False False False False]\n",
      " [ True False False False False False False False]\n",
      " [ True False False False False False False False]\n",
      " [ True False False False False False False False]\n",
      " [ True False False False False False False False]\n",
      " [ True False False False False False False False]\n",
      " [ True False False False False False False False]\n",
      " [ True False False False False False False False]\n",
      " [False False False False False False  True False]\n",
      " [ True False False False False False False False]\n",
      " [False False False False False False  True False]\n",
      " [ True False False False False False False False]\n",
      " [ True False False False False False False False]\n",
      " [False False False False False False  True False]\n",
      " [ True False False False False False False False]\n",
      " [ True False False False False False False False]\n",
      " [ True False False False False False False False]\n",
      " [ True False False False False False False False]\n",
      " [ True False False False False False False False]\n",
      " [False False False False False False  True False]\n",
      " [ True False False False False False False False]\n",
      " [ True False False False False False False False]\n",
      " [ True False False False False False False False]\n",
      " [ True False False False False False False False]\n",
      " [ True False False False False False False False]\n",
      " [ True False False False False False False False]\n",
      " [ True False False False False False False False]\n",
      " [ True False False False False False False False]\n",
      " [ True False False False False False False False]\n",
      " [False False False False False False  True False]\n",
      " [False False False False False False  True False]\n",
      " [ True False False False False False False False]\n",
      " [ True False False False False False False False]]\n"
     ]
    }
   ],
   "source": [
    "print (np.array(y_true))\n",
    "print (np.array(y_pred))"
   ]
  },
  {
   "cell_type": "code",
   "execution_count": null,
   "metadata": {
    "collapsed": true
   },
   "outputs": [],
   "source": []
  }
 ],
 "metadata": {
  "kernelspec": {
   "display_name": "Python [default]",
   "language": "python",
   "name": "python3"
  },
  "language_info": {
   "codemirror_mode": {
    "name": "ipython",
    "version": 3
   },
   "file_extension": ".py",
   "mimetype": "text/x-python",
   "name": "python",
   "nbconvert_exporter": "python",
   "pygments_lexer": "ipython3",
   "version": "3.6.3"
  }
 },
 "nbformat": 4,
 "nbformat_minor": 2
}
