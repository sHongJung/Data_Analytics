{
 "cells": [
  {
   "cell_type": "code",
   "execution_count": null,
   "metadata": {},
   "outputs": [],
   "source": [
    "#Dependencies\n",
    "import os\n",
    "import numpy as np\n",
    "import tensorflow as tf\n",
    "import PIL\n",
    "import pandas as pd\n",
    "\n",
    "\n",
    "import keras \n",
    "from keras.preprocessing import image\n",
    "from keras.models import Model\n",
    "from keras.models import load_model\n",
    "from keras.utils import to_categorical\n",
    "from keras.layers import Dense, GlobalAveragePooling2D\n",
    "from keras.preprocessing.image import ImageDataGenerator\n",
    "from keras.applications.vgg19 import (VGG19, preprocess_input, decode_predictions)\n",
    "\n",
    "from sklearn.model_selection import train_test_split"
   ]
  },
  {
   "cell_type": "code",
   "execution_count": null,
   "metadata": {
    "collapsed": true
   },
   "outputs": [],
   "source": [
    "# Trained Model\n",
    "model = load_model(\"Xception_train_b10_ep10_SGD.h5\")"
   ]
  },
  {
   "cell_type": "code",
   "execution_count": null,
   "metadata": {
    "collapsed": true
   },
   "outputs": [],
   "source": [
    "test_batch = 'images_split/test'"
   ]
  },
  {
   "cell_type": "code",
   "execution_count": null,
   "metadata": {},
   "outputs": [],
   "source": [
    "test_datagen = ImageDataGenerator(rescale=1. / 255)\n",
    "\n",
    "test_batches = test_datagen.flow_from_directory(\n",
    "                                directory=test_batch,\n",
    "                                target_size=(224,224),  \n",
    "                                classes=['animals','beaches','birds','electronics','fashion','nature','landmarks','people'],                           \n",
    "                                batch_size=5\n",
    "                                )       "
   ]
  },
  {
   "cell_type": "code",
   "execution_count": null,
   "metadata": {},
   "outputs": [],
   "source": [
    "predictions = model.predict_generator(test_batches, 50)"
   ]
  },
  {
   "cell_type": "code",
   "execution_count": null,
   "metadata": {},
   "outputs": [],
   "source": [
    "predictions"
   ]
  },
  {
   "cell_type": "code",
   "execution_count": null,
   "metadata": {},
   "outputs": [],
   "source": [
    "classes = ['animals','beaches','birds','electronics','fashion','nature','landmarks','people']\n",
    "\n",
    "df = pd.DataFrame(data = predictions[0:,0:],\n",
    "            columns = classes)\n",
    "df"
   ]
  },
  {
   "cell_type": "code",
   "execution_count": 27,
   "metadata": {},
   "outputs": [
    {
     "data": {
      "text/plain": [
       "animals        0.177105\n",
       "beaches        0.085041\n",
       "birds          0.063503\n",
       "electronics    0.107098\n",
       "fashion        0.143468\n",
       "nature         0.222568\n",
       "landmarks      0.121614\n",
       "people         0.079604\n",
       "dtype: float32"
      ]
     },
     "execution_count": 27,
     "metadata": {},
     "output_type": "execute_result"
    }
   ],
   "source": [
    "import matplotlib.pyplot as plt\n",
    "import seaborn as sns\n",
    "\n",
    "means = df.mean()\n",
    "means"
   ]
  },
  {
   "cell_type": "code",
   "execution_count": 28,
   "metadata": {},
   "outputs": [
    {
     "data": {
      "text/plain": [
       "animals        0.362309\n",
       "beaches        0.266536\n",
       "birds          0.239261\n",
       "electronics    0.288710\n",
       "fashion        0.323769\n",
       "nature         0.393532\n",
       "landmarks      0.290576\n",
       "people         0.210173\n",
       "dtype: float32"
      ]
     },
     "execution_count": 28,
     "metadata": {},
     "output_type": "execute_result"
    }
   ],
   "source": [
    "errors = df.std()\n",
    "errors"
   ]
  },
  {
   "cell_type": "code",
   "execution_count": 55,
   "metadata": {},
   "outputs": [
    {
     "data": {
      "image/png": "[encoded data removed]",
      "text/plain": [
       "<matplotlib.figure.Figure at 0x1fc94ab8358>"
      ]
     },
     "metadata": {},
     "output_type": "display_data"
    }
   ],
   "source": [
    "plt.figure(figsize=(12,6))\n",
    "fig = sns.barplot(data=df, capsize=.1)\n",
    "plt.xlabel(\"Classes\", fontsize=15)\n",
    "plt.ylabel(\"Accuracy\", fontsize=15)\n",
    "plt.title(\"Accuracy with Xception model\", fontsize=25)\n",
    "plt.show(fig)"
   ]
  },
  {
   "cell_type": "code",
   "execution_count": 56,
   "metadata": {},
   "outputs": [
    {
     "data": {
      "text/html": [
       "<div>\n",
       "<style>\n",
       "    .dataframe thead tr:only-child th {\n",
       "        text-align: right;\n",
       "    }\n",
       "\n",
       "    .dataframe thead th {\n",
       "        text-align: left;\n",
       "    }\n",
       "\n",
       "    .dataframe tbody tr th {\n",
       "        vertical-align: top;\n",
       "    }\n",
       "</style>\n",
       "<table border=\"1\" class=\"dataframe\">\n",
       "  <thead>\n",
       "    <tr style=\"text-align: right;\">\n",
       "      <th></th>\n",
       "      <th>Mean_Accuracy</th>\n",
       "      <th>Standard_Deviation</th>\n",
       "    </tr>\n",
       "  </thead>\n",
       "  <tbody>\n",
       "    <tr>\n",
       "      <th>animals</th>\n",
       "      <td>0.177105</td>\n",
       "      <td>0.362309</td>\n",
       "    </tr>\n",
       "    <tr>\n",
       "      <th>beaches</th>\n",
       "      <td>0.085041</td>\n",
       "      <td>0.266536</td>\n",
       "    </tr>\n",
       "    <tr>\n",
       "      <th>birds</th>\n",
       "      <td>0.063503</td>\n",
       "      <td>0.239261</td>\n",
       "    </tr>\n",
       "    <tr>\n",
       "      <th>electronics</th>\n",
       "      <td>0.107098</td>\n",
       "      <td>0.288710</td>\n",
       "    </tr>\n",
       "    <tr>\n",
       "      <th>fashion</th>\n",
       "      <td>0.143468</td>\n",
       "      <td>0.323769</td>\n",
       "    </tr>\n",
       "    <tr>\n",
       "      <th>nature</th>\n",
       "      <td>0.222568</td>\n",
       "      <td>0.393532</td>\n",
       "    </tr>\n",
       "    <tr>\n",
       "      <th>landmarks</th>\n",
       "      <td>0.121614</td>\n",
       "      <td>0.290576</td>\n",
       "    </tr>\n",
       "    <tr>\n",
       "      <th>people</th>\n",
       "      <td>0.079604</td>\n",
       "      <td>0.210173</td>\n",
       "    </tr>\n",
       "  </tbody>\n",
       "</table>\n",
       "</div>"
      ],
      "text/plain": [
       "             Mean_Accuracy  Standard_Deviation\n",
       "animals           0.177105            0.362309\n",
       "beaches           0.085041            0.266536\n",
       "birds             0.063503            0.239261\n",
       "electronics       0.107098            0.288710\n",
       "fashion           0.143468            0.323769\n",
       "nature            0.222568            0.393532\n",
       "landmarks         0.121614            0.290576\n",
       "people            0.079604            0.210173"
      ]
     },
     "execution_count": 56,
     "metadata": {},
     "output_type": "execute_result"
    }
   ],
   "source": [
    "d = {'Mean_Accuracy': means, 'Standard_Deviation': errors}\n",
    "table_df = pd.DataFrame(data=d, index=classes)\n",
    "table_df"
   ]
  },
  {
   "cell_type": "code",
   "execution_count": 13,
   "metadata": {
    "collapsed": true
   },
   "outputs": [],
   "source": [
    "from sklearn.metrics import confusion_matrix"
   ]
  },
  {
   "cell_type": "code",
   "execution_count": 48,
   "metadata": {},
   "outputs": [
    {
     "data": {
      "text/plain": [
       "0.12500001"
      ]
     },
     "execution_count": 48,
     "metadata": {},
     "output_type": "execute_result"
    }
   ],
   "source": [
    "np.mean(predictions[0])\n"
   ]
  },
  {
   "cell_type": "code",
   "execution_count": 43,
   "metadata": {},
   "outputs": [
    {
     "name": "stdout",
     "output_type": "stream",
     "text": [
      "(50, 8)\n",
      "(50, 8)\n"
     ]
    },
    {
     "data": {
      "text/plain": [
       "array([[40, 10],\n",
       "       [ 0,  0]], dtype=int64)"
      ]
     },
     "execution_count": 43,
     "metadata": {},
     "output_type": "execute_result"
    }
   ],
   "source": [
    "y_true = np.reshape(np.array([1] * 400), (50, 8))\n",
    "y_pred = predictions > 0.5\n",
    "\n",
    "print (np.array(y_true).shape)\n",
    "print (np.array(y_pred).shape)\n",
    "confusion_matrix(y_true.argmax(axis=1), y_pred.argmax(axis=1))\n"
   ]
  },
  {
   "cell_type": "code",
   "execution_count": 44,
   "metadata": {},
   "outputs": [
    {
     "name": "stdout",
     "output_type": "stream",
     "text": [
      "[[1 1 1 1 1 1 1 1]\n",
      " [1 1 1 1 1 1 1 1]\n",
      " [1 1 1 1 1 1 1 1]\n",
      " [1 1 1 1 1 1 1 1]\n",
      " [1 1 1 1 1 1 1 1]\n",
      " [1 1 1 1 1 1 1 1]\n",
      " [1 1 1 1 1 1 1 1]\n",
      " [1 1 1 1 1 1 1 1]\n",
      " [1 1 1 1 1 1 1 1]\n",
      " [1 1 1 1 1 1 1 1]\n",
      " [1 1 1 1 1 1 1 1]\n",
      " [1 1 1 1 1 1 1 1]\n",
      " [1 1 1 1 1 1 1 1]\n",
      " [1 1 1 1 1 1 1 1]\n",
      " [1 1 1 1 1 1 1 1]\n",
      " [1 1 1 1 1 1 1 1]\n",
      " [1 1 1 1 1 1 1 1]\n",
      " [1 1 1 1 1 1 1 1]\n",
      " [1 1 1 1 1 1 1 1]\n",
      " [1 1 1 1 1 1 1 1]\n",
      " [1 1 1 1 1 1 1 1]\n",
      " [1 1 1 1 1 1 1 1]\n",
      " [1 1 1 1 1 1 1 1]\n",
      " [1 1 1 1 1 1 1 1]\n",
      " [1 1 1 1 1 1 1 1]\n",
      " [1 1 1 1 1 1 1 1]\n",
      " [1 1 1 1 1 1 1 1]\n",
      " [1 1 1 1 1 1 1 1]\n",
      " [1 1 1 1 1 1 1 1]\n",
      " [1 1 1 1 1 1 1 1]\n",
      " [1 1 1 1 1 1 1 1]\n",
      " [1 1 1 1 1 1 1 1]\n",
      " [1 1 1 1 1 1 1 1]\n",
      " [1 1 1 1 1 1 1 1]\n",
      " [1 1 1 1 1 1 1 1]\n",
      " [1 1 1 1 1 1 1 1]\n",
      " [1 1 1 1 1 1 1 1]\n",
      " [1 1 1 1 1 1 1 1]\n",
      " [1 1 1 1 1 1 1 1]\n",
      " [1 1 1 1 1 1 1 1]\n",
      " [1 1 1 1 1 1 1 1]\n",
      " [1 1 1 1 1 1 1 1]\n",
      " [1 1 1 1 1 1 1 1]\n",
      " [1 1 1 1 1 1 1 1]\n",
      " [1 1 1 1 1 1 1 1]\n",
      " [1 1 1 1 1 1 1 1]\n",
      " [1 1 1 1 1 1 1 1]\n",
      " [1 1 1 1 1 1 1 1]\n",
      " [1 1 1 1 1 1 1 1]\n",
      " [1 1 1 1 1 1 1 1]]\n",
      "[[False False False False False False  True False]\n",
      " [ True False False False False False False False]\n",
      " [False False False False False False  True False]\n",
      " [ True False False False False False False False]\n",
      " [ True False False False False False False False]\n",
      " [ True False False False False False False False]\n",
      " [ True False False False False False False False]\n",
      " [ True False False False False False False False]\n",
      " [ True False False False False False False False]\n",
      " [ True False False False False False False False]\n",
      " [ True False False False False False False False]\n",
      " [False False False False False False  True False]\n",
      " [ True False False False False False False False]\n",
      " [ True False False False False False False False]\n",
      " [ True False False False False False False False]\n",
      " [ True False False False False False False False]\n",
      " [False False False False False False  True False]\n",
      " [ True False False False False False False False]\n",
      " [ True False False False False False False False]\n",
      " [ True False False False False False False False]\n",
      " [ True False False False False False False False]\n",
      " [ True False False False False False False False]\n",
      " [ True False False False False False False False]\n",
      " [ True False False False False False False False]\n",
      " [ True False False False False False False False]\n",
      " [False False False False False False  True False]\n",
      " [ True False False False False False False False]\n",
      " [False False False False False False  True False]\n",
      " [ True False False False False False False False]\n",
      " [ True False False False False False False False]\n",
      " [False False False False False False  True False]\n",
      " [ True False False False False False False False]\n",
      " [ True False False False False False False False]\n",
      " [ True False False False False False False False]\n",
      " [ True False False False False False False False]\n",
      " [ True False False False False False False False]\n",
      " [False False False False False False  True False]\n",
      " [ True False False False False False False False]\n",
      " [ True False False False False False False False]\n",
      " [ True False False False False False False False]\n",
      " [ True False False False False False False False]\n",
      " [ True False False False False False False False]\n",
      " [ True False False False False False False False]\n",
      " [ True False False False False False False False]\n",
      " [ True False False False False False False False]\n",
      " [ True False False False False False False False]\n",
      " [False False False False False False  True False]\n",
      " [False False False False False False  True False]\n",
      " [ True False False False False False False False]\n",
      " [ True False False False False False False False]]\n"
     ]
    }
   ],
   "source": [
    "print (np.array(y_true))\n",
    "print (np.array(y_pred))"
   ]
  },
  {
   "cell_type": "code",
   "execution_count": null,
   "metadata": {
    "collapsed": true
   },
   "outputs": [],
   "source": []
  }
 ],
 "metadata": {
  "kernelspec": {
   "display_name": "Python [default]",
   "language": "python",
   "name": "python3"
  },
  "language_info": {
   "codemirror_mode": {
    "name": "ipython",
    "version": 3
   },
   "file_extension": ".py",
   "mimetype": "text/x-python",
   "name": "python",
   "nbconvert_exporter": "python",
   "pygments_lexer": "ipython3",
   "version": "3.6.3"
  }
 },
 "nbformat": 4,
 "nbformat_minor": 2
}
