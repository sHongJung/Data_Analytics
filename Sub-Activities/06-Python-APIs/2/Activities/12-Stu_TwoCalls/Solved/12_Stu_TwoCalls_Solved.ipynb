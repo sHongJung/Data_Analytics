{
 "cells": [
  {
   "cell_type": "code",
   "execution_count": 1,
   "metadata": {
    "collapsed": true
   },
   "outputs": [],
   "source": [
    "# Dependencies\n",
    "import requests as req\n",
    "\n",
    "# Define URL and query parameters\n",
    "url = \"http://api.worldbank.org/v2/\"\n",
    "params = {'format': 'json'}"
   ]
  },
  {
   "cell_type": "code",
   "execution_count": 2,
   "metadata": {
    "collapsed": true
   },
   "outputs": [],
   "source": [
    "# Get the list of lending types the world bank has\n",
    "response = req.get(url + \"lendingTypes\", params=params).json()\n",
    "lending_types = [lending_type[\"id\"] for lending_type in response[1]]"
   ]
  },
  {
   "cell_type": "code",
   "execution_count": 3,
   "metadata": {},
   "outputs": [],
   "source": [
    "# Next, determine how many countries fall into each lending type.\n",
    "# Hint: Look at the first element of the response list to get the\n",
    "# total number of countries per lending type.\n",
    "\n",
    "country_count_by_type = {}\n",
    "for lending_type in lending_types:\n",
    "    # Add `lendingType` query parameter\n",
    "    params['lendingType'] = lending_type\n",
    "    # Send GET request\n",
    "    response = req.get(url + \"countries\", params=params).json()\n",
    "    total = response[0][\"total\"]\n",
    "    country_count_by_type[lending_type] = total"
   ]
  },
  {
   "cell_type": "code",
   "execution_count": 4,
   "metadata": {},
   "outputs": [
    {
     "name": "stdout",
     "output_type": "stream",
     "text": [
      "The number of countries with lending type IBD is 69.\n",
      "The number of countries with lending type IDB is 16.\n",
      "The number of countries with lending type IDX is 59.\n",
      "The number of countries with lending type LNX is 74.\n"
     ]
    }
   ],
   "source": [
    "# Print the number of countries of each lending type\n",
    "for lending_type, count in country_count_by_type.items():\n",
    "    print(\"The number of countries with lending type \" + lending_type +\n",
    "          \" is \" + str(count) + \".\")"
   ]
  },
  {
   "cell_type": "code",
   "execution_count": null,
   "metadata": {
    "collapsed": true
   },
   "outputs": [],
   "source": []
  }
 ],
 "metadata": {
  "kernelspec": {
   "display_name": "Python 3",
   "language": "python",
   "name": "python3"
  },
  "language_info": {
   "codemirror_mode": {
    "name": "ipython",
    "version": 3
   },
   "file_extension": ".py",
   "mimetype": "text/x-python",
   "name": "python",
   "nbconvert_exporter": "python",
   "pygments_lexer": "ipython3",
   "version": "3.6.2"
  }
 },
 "nbformat": 4,
 "nbformat_minor": 2
}
