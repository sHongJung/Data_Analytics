{
 "cells": [
  {
   "cell_type": "code",
   "execution_count": 1,
   "metadata": {
    "collapsed": true
   },
   "outputs": [],
   "source": [
    "# Dependencies\n",
    "import csv\n",
    "import matplotlib.pyplot as plt\n",
    "import requests as req\n",
    "import pandas as pd"
   ]
  },
  {
   "cell_type": "code",
   "execution_count": 2,
   "metadata": {
    "collapsed": true
   },
   "outputs": [],
   "source": [
    "# Save config information.\n",
    "api_key = \"25bc90a1196e6f153eece0bc0b0fc9eb\"\n",
    "url = \"http://api.openweathermap.org/data/2.5/weather?\"\n",
    "units = \"metric\"\n",
    "\n",
    "# Build partial query URL\n",
    "query_url = url + \"appid=\" + api_key + \"&units=\" + units + \"&q=\""
   ]
  },
  {
   "cell_type": "code",
   "execution_count": 6,
   "metadata": {},
   "outputs": [
    {
     "data": {
      "text/plain": [
       "[{'base': 'stations',\n",
       "  'clouds': {'all': 0},\n",
       "  'cod': 200,\n",
       "  'coord': {'lat': 48.85, 'lon': 2.35},\n",
       "  'dt': 1508270400,\n",
       "  'id': 2988507,\n",
       "  'main': {'humidity': 82,\n",
       "   'pressure': 1015,\n",
       "   'temp': 16.28,\n",
       "   'temp_max': 18,\n",
       "   'temp_min': 15},\n",
       "  'name': 'Paris',\n",
       "  'sys': {'country': 'FR',\n",
       "   'id': 5617,\n",
       "   'message': 0.004,\n",
       "   'sunrise': 1508220924,\n",
       "   'sunset': 1508259316,\n",
       "   'type': 1},\n",
       "  'visibility': 10000,\n",
       "  'weather': [{'description': 'clear sky',\n",
       "    'icon': '01n',\n",
       "    'id': 800,\n",
       "    'main': 'Clear'}],\n",
       "  'wind': {'deg': 100, 'speed': 2.1}},\n",
       " {'base': 'stations',\n",
       "  'clouds': {'all': 92},\n",
       "  'cod': 200,\n",
       "  'coord': {'lat': 51.51, 'lon': -0.13},\n",
       "  'dt': 1508271600,\n",
       "  'id': 2643743,\n",
       "  'main': {'humidity': 76,\n",
       "   'pressure': 1017,\n",
       "   'temp': 10.6,\n",
       "   'temp_max': 12,\n",
       "   'temp_min': 10},\n",
       "  'name': 'London',\n",
       "  'sys': {'country': 'GB',\n",
       "   'id': 5093,\n",
       "   'message': 0.0061,\n",
       "   'sunrise': 1508221772,\n",
       "   'sunset': 1508259654,\n",
       "   'type': 1},\n",
       "  'visibility': 10000,\n",
       "  'weather': [{'description': 'light rain',\n",
       "    'icon': '10n',\n",
       "    'id': 500,\n",
       "    'main': 'Rain'}],\n",
       "  'wind': {'speed': 1.5}},\n",
       " {'base': 'stations',\n",
       "  'clouds': {'all': 75},\n",
       "  'cod': 200,\n",
       "  'coord': {'lat': 59.91, 'lon': 10.75},\n",
       "  'dt': 1508269800,\n",
       "  'id': 3143244,\n",
       "  'main': {'humidity': 87,\n",
       "   'pressure': 1002,\n",
       "   'temp': 12,\n",
       "   'temp_max': 12,\n",
       "   'temp_min': 12},\n",
       "  'name': 'Oslo',\n",
       "  'sys': {'country': 'NO',\n",
       "   'id': 5325,\n",
       "   'message': 0.004,\n",
       "   'sunrise': 1508220202,\n",
       "   'sunset': 1508255987,\n",
       "   'type': 1},\n",
       "  'visibility': 10000,\n",
       "  'weather': [{'description': 'light rain',\n",
       "    'icon': '10n',\n",
       "    'id': 500,\n",
       "    'main': 'Rain'}],\n",
       "  'wind': {'deg': 220, 'gust': 11.3, 'speed': 5.7}},\n",
       " {'base': 'stations',\n",
       "  'clouds': {'all': 90},\n",
       "  'cod': 200,\n",
       "  'coord': {'lat': 39.91, 'lon': 116.4},\n",
       "  'dt': 1508270400,\n",
       "  'id': 1816670,\n",
       "  'main': {'humidity': 93,\n",
       "   'pressure': 1025,\n",
       "   'temp': 13,\n",
       "   'temp_max': 13,\n",
       "   'temp_min': 13},\n",
       "  'name': 'Beijing',\n",
       "  'sys': {'country': 'CN',\n",
       "   'id': 7405,\n",
       "   'message': 0.0035,\n",
       "   'sunrise': 1508192848,\n",
       "   'sunset': 1508232667,\n",
       "   'type': 1},\n",
       "  'visibility': 3000,\n",
       "  'weather': [{'description': 'light rain',\n",
       "    'icon': '10n',\n",
       "    'id': 500,\n",
       "    'main': 'Rain'},\n",
       "   {'description': 'mist', 'icon': '50n', 'id': 701, 'main': 'Mist'}],\n",
       "  'wind': {'speed': 1}}]"
      ]
     },
     "execution_count": 6,
     "metadata": {},
     "output_type": "execute_result"
    }
   ],
   "source": [
    "weather_data = []\n",
    "cities = [\"Paris\",\"London\",\"Oslo\",\"Beijing\"]\n",
    "\n",
    "# Loop through the list of cities and perform a request for data on each\n",
    "for city in cities:\n",
    "    response = req.get(query_url + city).json()\n",
    "    weather_data.append(response)\n",
    "\n",
    "weather_data"
   ]
  },
  {
   "cell_type": "code",
   "execution_count": 7,
   "metadata": {},
   "outputs": [
    {
     "data": {
      "text/html": [
       "<div>\n",
       "<style>\n",
       "    .dataframe thead tr:only-child th {\n",
       "        text-align: right;\n",
       "    }\n",
       "\n",
       "    .dataframe thead th {\n",
       "        text-align: left;\n",
       "    }\n",
       "\n",
       "    .dataframe tbody tr th {\n",
       "        vertical-align: top;\n",
       "    }\n",
       "</style>\n",
       "<table border=\"1\" class=\"dataframe\">\n",
       "  <thead>\n",
       "    <tr style=\"text-align: right;\">\n",
       "      <th></th>\n",
       "      <th>lat</th>\n",
       "      <th>temp</th>\n",
       "    </tr>\n",
       "  </thead>\n",
       "  <tbody>\n",
       "    <tr>\n",
       "      <th>0</th>\n",
       "      <td>48.85</td>\n",
       "      <td>16.28</td>\n",
       "    </tr>\n",
       "    <tr>\n",
       "      <th>1</th>\n",
       "      <td>51.51</td>\n",
       "      <td>10.60</td>\n",
       "    </tr>\n",
       "    <tr>\n",
       "      <th>2</th>\n",
       "      <td>59.91</td>\n",
       "      <td>12.00</td>\n",
       "    </tr>\n",
       "    <tr>\n",
       "      <th>3</th>\n",
       "      <td>39.91</td>\n",
       "      <td>13.00</td>\n",
       "    </tr>\n",
       "  </tbody>\n",
       "</table>\n",
       "</div>"
      ],
      "text/plain": [
       "     lat   temp\n",
       "0  48.85  16.28\n",
       "1  51.51  10.60\n",
       "2  59.91  12.00\n",
       "3  39.91  13.00"
      ]
     },
     "execution_count": 7,
     "metadata": {},
     "output_type": "execute_result"
    }
   ],
   "source": [
    "# Extract interesting data from responses\n",
    "lat_data = [data.get(\"coord\").get(\"lat\") for data in weather_data]\n",
    "temp_data = [data.get(\"main\").get(\"temp\") for data in weather_data]\n",
    "\n",
    "weather_data = {\"temp\": temp_data, \"lat\": lat_data}\n",
    "weather_data = pd.DataFrame(weather_data)\n",
    "weather_data.head()"
   ]
  },
  {
   "cell_type": "code",
   "execution_count": null,
   "metadata": {
    "collapsed": true
   },
   "outputs": [],
   "source": [
    "# Build a scatter plot for each data type\n",
    "plt.scatter(weather_data[\"lat\"], weather_data[\"temp\"], marker=\"o\")\n",
    "\n",
    "# Incorporate the other graph properties\n",
    "plt.title(\"Temperature in World Cities\")\n",
    "plt.ylabel(\"Temperature (Celsius)\")\n",
    "plt.xlabel(\"Latitude\")\n",
    "plt.grid(True)\n",
    "\n",
    "# Save the figure\n",
    "plt.savefig(\"TemperatureInWorldCities.png\")\n",
    "\n",
    "# Show plot\n",
    "plt.show()"
   ]
  },
  {
   "cell_type": "code",
   "execution_count": null,
   "metadata": {
    "collapsed": true
   },
   "outputs": [],
   "source": []
  }
 ],
 "metadata": {
  "kernelspec": {
   "display_name": "Python 3",
   "language": "python",
   "name": "python3"
  },
  "language_info": {
   "codemirror_mode": {
    "name": "ipython",
    "version": 3
   },
   "file_extension": ".py",
   "mimetype": "text/x-python",
   "name": "python",
   "nbconvert_exporter": "python",
   "pygments_lexer": "ipython3",
   "version": "3.6.2"
  }
 },
 "nbformat": 4,
 "nbformat_minor": 2
}
