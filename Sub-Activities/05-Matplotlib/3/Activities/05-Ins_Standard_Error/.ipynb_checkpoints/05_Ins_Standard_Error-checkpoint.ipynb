{
 "cells": [
  {
   "cell_type": "markdown",
   "metadata": {},
   "source": [
    "## Standard error and error bars"
   ]
  },
  {
   "cell_type": "code",
   "execution_count": 17,
   "metadata": {
    "collapsed": true
   },
   "outputs": [],
   "source": [
    "import numpy as np\n",
    "import pandas as pd\n",
    "import matplotlib.pyplot as plt"
   ]
  },
  {
   "cell_type": "code",
   "execution_count": 19,
   "metadata": {},
   "outputs": [
    {
     "name": "stdout",
     "output_type": "stream",
     "text": [
      "Population mean: 0.4964\n",
      "Sample mean: 0.58\n"
     ]
    }
   ],
   "source": [
    "# Assume we have a total population of 10000 individuals\n",
    "population = np.random.choice([0, 1], 10000)\n",
    "# The data corresponding to the entire population has a mean\n",
    "# even though we don't usually know what that value is\n",
    "pop_mean = np.mean(population)\n",
    "print(f'Population mean: {pop_mean}')\n",
    "\n",
    "# If we only have a small sample, the mean of the sample\n",
    "# can be far off.\n",
    "a_sample = np.random.choice(population, 100)\n",
    "a_sample_mean = np.mean(a_sample)\n",
    "print(f'Sample mean: {a_sample_mean}')"
   ]
  },
  {
   "cell_type": "code",
   "execution_count": 27,
   "metadata": {
    "scrolled": true
   },
   "outputs": [
    {
     "data": {
      "text/html": [
       "<div>\n",
       "<style>\n",
       "    .dataframe thead tr:only-child th {\n",
       "        text-align: right;\n",
       "    }\n",
       "\n",
       "    .dataframe thead th {\n",
       "        text-align: left;\n",
       "    }\n",
       "\n",
       "    .dataframe tbody tr th {\n",
       "        vertical-align: top;\n",
       "    }\n",
       "</style>\n",
       "<table border=\"1\" class=\"dataframe\">\n",
       "  <thead>\n",
       "    <tr style=\"text-align: right;\">\n",
       "      <th></th>\n",
       "      <th>Sample 0</th>\n",
       "      <th>Sample 1</th>\n",
       "      <th>Sample 2</th>\n",
       "      <th>Sample 3</th>\n",
       "      <th>Sample 4</th>\n",
       "      <th>Sample 5</th>\n",
       "      <th>Sample 6</th>\n",
       "      <th>Sample 7</th>\n",
       "      <th>Sample 8</th>\n",
       "      <th>Sample 9</th>\n",
       "    </tr>\n",
       "  </thead>\n",
       "  <tbody>\n",
       "    <tr>\n",
       "      <th>0</th>\n",
       "      <td>1</td>\n",
       "      <td>1</td>\n",
       "      <td>0</td>\n",
       "      <td>0</td>\n",
       "      <td>1</td>\n",
       "      <td>1</td>\n",
       "      <td>1</td>\n",
       "      <td>1</td>\n",
       "      <td>1</td>\n",
       "      <td>0</td>\n",
       "    </tr>\n",
       "    <tr>\n",
       "      <th>1</th>\n",
       "      <td>0</td>\n",
       "      <td>1</td>\n",
       "      <td>1</td>\n",
       "      <td>0</td>\n",
       "      <td>0</td>\n",
       "      <td>0</td>\n",
       "      <td>1</td>\n",
       "      <td>1</td>\n",
       "      <td>0</td>\n",
       "      <td>1</td>\n",
       "    </tr>\n",
       "    <tr>\n",
       "      <th>2</th>\n",
       "      <td>1</td>\n",
       "      <td>1</td>\n",
       "      <td>1</td>\n",
       "      <td>1</td>\n",
       "      <td>0</td>\n",
       "      <td>1</td>\n",
       "      <td>0</td>\n",
       "      <td>0</td>\n",
       "      <td>0</td>\n",
       "      <td>1</td>\n",
       "    </tr>\n",
       "    <tr>\n",
       "      <th>3</th>\n",
       "      <td>0</td>\n",
       "      <td>1</td>\n",
       "      <td>1</td>\n",
       "      <td>1</td>\n",
       "      <td>1</td>\n",
       "      <td>0</td>\n",
       "      <td>1</td>\n",
       "      <td>1</td>\n",
       "      <td>1</td>\n",
       "      <td>0</td>\n",
       "    </tr>\n",
       "    <tr>\n",
       "      <th>4</th>\n",
       "      <td>0</td>\n",
       "      <td>0</td>\n",
       "      <td>1</td>\n",
       "      <td>0</td>\n",
       "      <td>1</td>\n",
       "      <td>0</td>\n",
       "      <td>0</td>\n",
       "      <td>0</td>\n",
       "      <td>0</td>\n",
       "      <td>1</td>\n",
       "    </tr>\n",
       "  </tbody>\n",
       "</table>\n",
       "</div>"
      ],
      "text/plain": [
       "   Sample 0  Sample 1  Sample 2  Sample 3  Sample 4  Sample 5  Sample 6  \\\n",
       "0         1         1         0         0         1         1         1   \n",
       "1         0         1         1         0         0         0         1   \n",
       "2         1         1         1         1         0         1         0   \n",
       "3         0         1         1         1         1         0         1   \n",
       "4         0         0         1         0         1         0         0   \n",
       "\n",
       "   Sample 7  Sample 8  Sample 9  \n",
       "0         1         1         0  \n",
       "1         1         0         1  \n",
       "2         0         0         1  \n",
       "3         1         1         0  \n",
       "4         0         0         1  "
      ]
     },
     "execution_count": 27,
     "metadata": {},
     "output_type": "execute_result"
    }
   ],
   "source": [
    "# We increase the size of our sample or get more samples\n",
    "number_of_samples = 10\n",
    "data = {}\n",
    "for j in range(number_of_samples):\n",
    "    data[f'Sample {j}'] = np.random.choice(population, 100)\n",
    "samples_df = pd.DataFrame(data)\n",
    "samples_df.head()"
   ]
  },
  {
   "cell_type": "code",
   "execution_count": 50,
   "metadata": {},
   "outputs": [
    {
     "data": {
      "text/plain": [
       "Sample 0    0.48\n",
       "Sample 1    0.56\n",
       "Sample 2    0.54\n",
       "Sample 3    0.44\n",
       "Sample 4    0.46\n",
       "Sample 5    0.51\n",
       "Sample 6    0.55\n",
       "Sample 7    0.42\n",
       "Sample 8    0.52\n",
       "Sample 9    0.51\n",
       "dtype: float64"
      ]
     },
     "execution_count": 50,
     "metadata": {},
     "output_type": "execute_result"
    }
   ],
   "source": [
    "# Each sample will have its own mean, standard deviation, ...\n",
    "means = samples_df.mean()\n",
    "means"
   ]
  },
  {
   "cell_type": "code",
   "execution_count": 51,
   "metadata": {},
   "outputs": [
    {
     "data": {
      "text/plain": [
       "Sample 0    0.050212\n",
       "Sample 1    0.049889\n",
       "Sample 2    0.050091\n",
       "Sample 3    0.049889\n",
       "Sample 4    0.050091\n",
       "Sample 5    0.050242\n",
       "Sample 6    0.050000\n",
       "Sample 7    0.049604\n",
       "Sample 8    0.050212\n",
       "Sample 9    0.050242\n",
       "dtype: float64"
      ]
     },
     "execution_count": 51,
     "metadata": {},
     "output_type": "execute_result"
    }
   ],
   "source": [
    "# From that, we can derive the standard error, which is\n",
    "# an estimate how well the samples represent the population.\n",
    "#\n",
    "# Each sample's standard error describes how far its mean\n",
    "# is from the population's \"true\" mean.\n",
    "standard_errors = samples_df.sem()\n",
    "standard_errors"
   ]
  },
  {
   "cell_type": "code",
   "execution_count": 52,
   "metadata": {},
   "outputs": [
    {
     "data": {
      "image/png": "[encoded data removed]",
      "text/plain": [
       "<matplotlib.figure.Figure at 0x1a1a97d128>"
      ]
     },
     "metadata": {},
     "output_type": "display_data"
    }
   ],
   "source": [
    "# Plot the means and the standard errors\n",
    "x_values = np.arange(number_of_samples)\n",
    "plt.errorbar(x_values, means, standard_errors, fmt='o')\n",
    "\n",
    "plt.xlabel(\"Sample Number\")\n",
    "plt.ylabel(\"Proportion of People Voting For ...\")\n",
    "\n",
    "plt.show()"
   ]
  },
  {
   "cell_type": "code",
   "execution_count": null,
   "metadata": {
    "collapsed": true
   },
   "outputs": [],
   "source": []
  }
 ],
 "metadata": {
  "kernelspec": {
   "display_name": "Python [conda env:Anaconda3]",
   "language": "python",
   "name": "conda-env-Anaconda3-py"
  },
  "language_info": {
   "codemirror_mode": {
    "name": "ipython",
    "version": 3
   },
   "file_extension": ".py",
   "mimetype": "text/x-python",
   "name": "python",
   "nbconvert_exporter": "python",
   "pygments_lexer": "ipython3",
   "version": "3.6.3"
  }
 },
 "nbformat": 4,
 "nbformat_minor": 2
}
