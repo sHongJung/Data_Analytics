{
 "cells": [
  {
   "cell_type": "markdown",
   "metadata": {},
   "source": [
    "## Standard error and error bars"
   ]
  },
  {
   "cell_type": "code",
   "execution_count": 1,
   "metadata": {
    "collapsed": true
   },
   "outputs": [],
   "source": [
    "# Imports\n",
    "import numpy as np\n",
    "import os\n",
    "import pandas as pd\n",
    "import matplotlib.pyplot as plt"
   ]
  },
  {
   "cell_type": "code",
   "execution_count": 2,
   "metadata": {},
   "outputs": [
    {
     "data": {
      "text/html": [
       "<div>\n",
       "<style>\n",
       "    .dataframe thead tr:only-child th {\n",
       "        text-align: right;\n",
       "    }\n",
       "\n",
       "    .dataframe thead th {\n",
       "        text-align: left;\n",
       "    }\n",
       "\n",
       "    .dataframe tbody tr th {\n",
       "        vertical-align: top;\n",
       "    }\n",
       "</style>\n",
       "<table border=\"1\" class=\"dataframe\">\n",
       "  <thead>\n",
       "    <tr style=\"text-align: right;\">\n",
       "      <th></th>\n",
       "      <th>Home Value</th>\n",
       "    </tr>\n",
       "  </thead>\n",
       "  <tbody>\n",
       "    <tr>\n",
       "      <th>0</th>\n",
       "      <td>24.0</td>\n",
       "    </tr>\n",
       "    <tr>\n",
       "      <th>1</th>\n",
       "      <td>21.6</td>\n",
       "    </tr>\n",
       "    <tr>\n",
       "      <th>2</th>\n",
       "      <td>34.7</td>\n",
       "    </tr>\n",
       "    <tr>\n",
       "      <th>3</th>\n",
       "      <td>33.4</td>\n",
       "    </tr>\n",
       "    <tr>\n",
       "      <th>4</th>\n",
       "      <td>36.2</td>\n",
       "    </tr>\n",
       "  </tbody>\n",
       "</table>\n",
       "</div>"
      ],
      "text/plain": [
       "   Home Value\n",
       "0        24.0\n",
       "1        21.6\n",
       "2        34.7\n",
       "3        33.4\n",
       "4        36.2"
      ]
     },
     "execution_count": 2,
     "metadata": {},
     "output_type": "execute_result"
    }
   ],
   "source": [
    "# Read csv file, only import column corresponding to home values\n",
    "csvpath = os.path.join('..', 'Resources', 'housing_data.csv')\n",
    "housing_data = pd.read_csv(csvpath, header=None,\n",
    "                           usecols=[13], names=['Home Value'])\n",
    "housing_data.head()"
   ]
  },
  {
   "cell_type": "code",
   "execution_count": 16,
   "metadata": {
    "scrolled": true
   },
   "outputs": [
    {
     "data": {
      "text/html": [
       "<div>\n",
       "<style>\n",
       "    .dataframe thead tr:only-child th {\n",
       "        text-align: right;\n",
       "    }\n",
       "\n",
       "    .dataframe thead th {\n",
       "        text-align: left;\n",
       "    }\n",
       "\n",
       "    .dataframe tbody tr th {\n",
       "        vertical-align: top;\n",
       "    }\n",
       "</style>\n",
       "<table border=\"1\" class=\"dataframe\">\n",
       "  <thead>\n",
       "    <tr style=\"text-align: right;\">\n",
       "      <th></th>\n",
       "      <th>Sample 0</th>\n",
       "      <th>Sample 1</th>\n",
       "      <th>Sample 10</th>\n",
       "      <th>Sample 11</th>\n",
       "      <th>Sample 12</th>\n",
       "      <th>Sample 13</th>\n",
       "      <th>Sample 14</th>\n",
       "      <th>Sample 15</th>\n",
       "      <th>Sample 16</th>\n",
       "      <th>Sample 17</th>\n",
       "      <th>Sample 18</th>\n",
       "      <th>Sample 19</th>\n",
       "      <th>Sample 2</th>\n",
       "      <th>Sample 3</th>\n",
       "      <th>Sample 4</th>\n",
       "      <th>Sample 5</th>\n",
       "      <th>Sample 6</th>\n",
       "      <th>Sample 7</th>\n",
       "      <th>Sample 8</th>\n",
       "      <th>Sample 9</th>\n",
       "    </tr>\n",
       "  </thead>\n",
       "  <tbody>\n",
       "    <tr>\n",
       "      <th>0</th>\n",
       "      <td>46.7</td>\n",
       "      <td>23.7</td>\n",
       "      <td>19.1</td>\n",
       "      <td>27.9</td>\n",
       "      <td>19.1</td>\n",
       "      <td>32.0</td>\n",
       "      <td>20.0</td>\n",
       "      <td>19.6</td>\n",
       "      <td>21.0</td>\n",
       "      <td>21.0</td>\n",
       "      <td>21.6</td>\n",
       "      <td>21.8</td>\n",
       "      <td>21.0</td>\n",
       "      <td>13.3</td>\n",
       "      <td>20.7</td>\n",
       "      <td>50.0</td>\n",
       "      <td>19.9</td>\n",
       "      <td>17.8</td>\n",
       "      <td>24.8</td>\n",
       "      <td>19.3</td>\n",
       "    </tr>\n",
       "    <tr>\n",
       "      <th>1</th>\n",
       "      <td>17.2</td>\n",
       "      <td>12.8</td>\n",
       "      <td>22.0</td>\n",
       "      <td>24.8</td>\n",
       "      <td>12.7</td>\n",
       "      <td>36.5</td>\n",
       "      <td>30.7</td>\n",
       "      <td>18.2</td>\n",
       "      <td>8.8</td>\n",
       "      <td>14.3</td>\n",
       "      <td>36.2</td>\n",
       "      <td>13.1</td>\n",
       "      <td>20.4</td>\n",
       "      <td>11.8</td>\n",
       "      <td>50.0</td>\n",
       "      <td>20.3</td>\n",
       "      <td>21.7</td>\n",
       "      <td>22.2</td>\n",
       "      <td>23.1</td>\n",
       "      <td>22.0</td>\n",
       "    </tr>\n",
       "    <tr>\n",
       "      <th>2</th>\n",
       "      <td>15.0</td>\n",
       "      <td>33.4</td>\n",
       "      <td>22.8</td>\n",
       "      <td>24.8</td>\n",
       "      <td>24.0</td>\n",
       "      <td>21.2</td>\n",
       "      <td>23.7</td>\n",
       "      <td>24.1</td>\n",
       "      <td>14.4</td>\n",
       "      <td>18.3</td>\n",
       "      <td>24.7</td>\n",
       "      <td>48.5</td>\n",
       "      <td>33.1</td>\n",
       "      <td>19.6</td>\n",
       "      <td>33.2</td>\n",
       "      <td>15.6</td>\n",
       "      <td>41.7</td>\n",
       "      <td>22.1</td>\n",
       "      <td>26.5</td>\n",
       "      <td>13.9</td>\n",
       "    </tr>\n",
       "    <tr>\n",
       "      <th>3</th>\n",
       "      <td>22.2</td>\n",
       "      <td>26.2</td>\n",
       "      <td>20.1</td>\n",
       "      <td>22.3</td>\n",
       "      <td>32.7</td>\n",
       "      <td>21.5</td>\n",
       "      <td>13.2</td>\n",
       "      <td>32.5</td>\n",
       "      <td>20.9</td>\n",
       "      <td>28.4</td>\n",
       "      <td>13.3</td>\n",
       "      <td>23.1</td>\n",
       "      <td>18.5</td>\n",
       "      <td>50.0</td>\n",
       "      <td>50.0</td>\n",
       "      <td>13.1</td>\n",
       "      <td>26.6</td>\n",
       "      <td>11.0</td>\n",
       "      <td>22.3</td>\n",
       "      <td>31.0</td>\n",
       "    </tr>\n",
       "    <tr>\n",
       "      <th>4</th>\n",
       "      <td>20.6</td>\n",
       "      <td>8.3</td>\n",
       "      <td>23.1</td>\n",
       "      <td>32.0</td>\n",
       "      <td>18.6</td>\n",
       "      <td>50.0</td>\n",
       "      <td>28.0</td>\n",
       "      <td>29.8</td>\n",
       "      <td>22.5</td>\n",
       "      <td>22.9</td>\n",
       "      <td>48.8</td>\n",
       "      <td>22.3</td>\n",
       "      <td>23.9</td>\n",
       "      <td>35.1</td>\n",
       "      <td>50.0</td>\n",
       "      <td>10.5</td>\n",
       "      <td>22.2</td>\n",
       "      <td>21.9</td>\n",
       "      <td>31.6</td>\n",
       "      <td>23.6</td>\n",
       "    </tr>\n",
       "  </tbody>\n",
       "</table>\n",
       "</div>"
      ],
      "text/plain": [
       "   Sample 0  Sample 1  Sample 10  Sample 11  Sample 12  Sample 13  Sample 14  \\\n",
       "0      46.7      23.7       19.1       27.9       19.1       32.0       20.0   \n",
       "1      17.2      12.8       22.0       24.8       12.7       36.5       30.7   \n",
       "2      15.0      33.4       22.8       24.8       24.0       21.2       23.7   \n",
       "3      22.2      26.2       20.1       22.3       32.7       21.5       13.2   \n",
       "4      20.6       8.3       23.1       32.0       18.6       50.0       28.0   \n",
       "\n",
       "   Sample 15  Sample 16  Sample 17  Sample 18  Sample 19  Sample 2  Sample 3  \\\n",
       "0       19.6       21.0       21.0       21.6       21.8      21.0      13.3   \n",
       "1       18.2        8.8       14.3       36.2       13.1      20.4      11.8   \n",
       "2       24.1       14.4       18.3       24.7       48.5      33.1      19.6   \n",
       "3       32.5       20.9       28.4       13.3       23.1      18.5      50.0   \n",
       "4       29.8       22.5       22.9       48.8       22.3      23.9      35.1   \n",
       "\n",
       "   Sample 4  Sample 5  Sample 6  Sample 7  Sample 8  Sample 9  \n",
       "0      20.7      50.0      19.9      17.8      24.8      19.3  \n",
       "1      50.0      20.3      21.7      22.2      23.1      22.0  \n",
       "2      33.2      15.6      41.7      22.1      26.5      13.9  \n",
       "3      50.0      13.1      26.6      11.0      22.3      31.0  \n",
       "4      50.0      10.5      22.2      21.9      31.6      23.6  "
      ]
     },
     "execution_count": 16,
     "metadata": {},
     "output_type": "execute_result"
    }
   ],
   "source": [
    "sample_size = 25\n",
    "number_of_samples = len(housing_data) // sample_size\n",
    "\n",
    "# Create a dictionary of samples\n",
    "samples = {}\n",
    "for j in range(number_of_samples):\n",
    "    # Create sample using np.random.choice\n",
    "    sample = np.random.choice(housing_data['Home Value'], sample_size)\n",
    "    # Add to dictionary\n",
    "    samples['Sample '+str(j)] = sample\n",
    "\n",
    "# Create a DataFrame from dictionary of samples\n",
    "samples_df = pd.DataFrame(samples)\n",
    "samples_df.head()"
   ]
  },
  {
   "cell_type": "code",
   "execution_count": 17,
   "metadata": {},
   "outputs": [
    {
     "data": {
      "text/plain": [
       "Sample 0     19.904\n",
       "Sample 1     21.536\n",
       "Sample 10    20.648\n",
       "Sample 11    21.356\n",
       "Sample 12    22.392\n",
       "Sample 13    24.840\n",
       "Sample 14    20.556\n",
       "Sample 15    23.472\n",
       "Sample 16    24.532\n",
       "Sample 17    22.584\n",
       "Sample 18    22.620\n",
       "Sample 19    23.884\n",
       "Sample 2     23.244\n",
       "Sample 3     23.556\n",
       "Sample 4     25.340\n",
       "Sample 5     21.440\n",
       "Sample 6     21.000\n",
       "Sample 7     21.032\n",
       "Sample 8     23.056\n",
       "Sample 9     25.456\n",
       "dtype: float64"
      ]
     },
     "execution_count": 17,
     "metadata": {},
     "output_type": "execute_result"
    }
   ],
   "source": [
    "# Calculate the means\n",
    "\n",
    "means = samples_df.mean()\n",
    "means"
   ]
  },
  {
   "cell_type": "code",
   "execution_count": 18,
   "metadata": {},
   "outputs": [
    {
     "data": {
      "text/plain": [
       "Sample 0     1.538153\n",
       "Sample 1     2.141120\n",
       "Sample 10    1.622551\n",
       "Sample 11    1.662529\n",
       "Sample 12    2.047852\n",
       "Sample 13    2.556893\n",
       "Sample 14    0.925654\n",
       "Sample 15    1.753154\n",
       "Sample 16    2.031844\n",
       "Sample 17    2.008214\n",
       "Sample 18    1.727407\n",
       "Sample 19    2.209794\n",
       "Sample 2     1.779448\n",
       "Sample 3     1.843638\n",
       "Sample 4     2.242580\n",
       "Sample 5     1.803025\n",
       "Sample 6     1.755439\n",
       "Sample 7     1.698791\n",
       "Sample 8     1.380158\n",
       "Sample 9     2.085618\n",
       "dtype: float64"
      ]
     },
     "execution_count": 18,
     "metadata": {},
     "output_type": "execute_result"
    }
   ],
   "source": [
    "# Calculate the standard errors\n",
    "\n",
    "standard_errors = samples_df.sem()\n",
    "standard_errors"
   ]
  },
  {
   "cell_type": "code",
   "execution_count": 19,
   "metadata": {},
   "outputs": [
    {
     "data": {
      "image/png": "[encoded data removed]",
      "text/plain": [
       "<matplotlib.figure.Figure at 0x116e20860>"
      ]
     },
     "metadata": {},
     "output_type": "display_data"
    }
   ],
   "source": [
    "# Plot the means and the standard errors\n",
    "x_values = np.arange(number_of_samples)\n",
    "plt.errorbar(x_values, means, standard_errors, fmt='o')\n",
    "\n",
    "plt.xlabel(\"Sample Number\")\n",
    "plt.ylabel(\"Mean of median home value\")\n",
    "\n",
    "plt.show()"
   ]
  },
  {
   "cell_type": "code",
   "execution_count": null,
   "metadata": {},
   "outputs": [],
   "source": []
  },
  {
   "cell_type": "code",
   "execution_count": null,
   "metadata": {
    "collapsed": true
   },
   "outputs": [],
   "source": []
  }
 ],
 "metadata": {
  "kernelspec": {
   "display_name": "Python [conda env:PythonData]",
   "language": "python",
   "name": "conda-env-PythonData-py"
  },
  "language_info": {
   "codemirror_mode": {
    "name": "ipython",
    "version": 3
   },
   "file_extension": ".py",
   "mimetype": "text/x-python",
   "name": "python",
   "nbconvert_exporter": "python",
   "pygments_lexer": "ipython3",
   "version": "3.6.2"
  }
 },
 "nbformat": 4,
 "nbformat_minor": 2
}
