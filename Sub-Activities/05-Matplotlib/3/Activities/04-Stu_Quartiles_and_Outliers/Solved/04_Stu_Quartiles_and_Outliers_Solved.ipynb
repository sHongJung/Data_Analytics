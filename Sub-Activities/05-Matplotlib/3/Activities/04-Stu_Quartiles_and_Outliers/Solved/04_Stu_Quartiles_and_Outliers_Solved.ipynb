{
 "cells": [
  {
   "cell_type": "code",
   "execution_count": 1,
   "metadata": {
    "collapsed": true
   },
   "outputs": [],
   "source": [
    "# Imports\n",
    "import numpy as np\n",
    "import matplotlib.pyplot as plt"
   ]
  },
  {
   "cell_type": "code",
   "execution_count": 2,
   "metadata": {
    "collapsed": true
   },
   "outputs": [],
   "source": [
    "arr = np.array([8, 8, 17, 24, 54, 78, 89, 102, 132])"
   ]
  },
  {
   "cell_type": "markdown",
   "metadata": {},
   "source": [
    "# Method 1: Visual approach\n",
    "\n",
    "In this method, we first calculate the indices corresponding to the median, lower and upper quartiles. Then, we use these indices to create the arrays containing included data and excluded data."
   ]
  },
  {
   "cell_type": "code",
   "execution_count": 3,
   "metadata": {},
   "outputs": [
    {
     "name": "stdout",
     "output_type": "stream",
     "text": [
      "Length of array:  9\n",
      "Indices: 2, 4, 6\n"
     ]
    }
   ],
   "source": [
    "# Calculate the indices for median, lower and upper quartiles\n",
    "length = len(arr)\n",
    "print('Length of array: ', length)\n",
    "\n",
    "index_lower = int((length-1)/4)\n",
    "index_median = int((length-1)/2)\n",
    "index_upper = int(3*(length-1)/4)\n",
    "\n",
    "print(f'Indices: {index_lower}, {index_median}, {index_upper}')"
   ]
  },
  {
   "cell_type": "code",
   "execution_count": 4,
   "metadata": {},
   "outputs": [
    {
     "name": "stdout",
     "output_type": "stream",
     "text": [
      "Lower quartile: 17\n",
      "Median: 54\n",
      "Upper quartile: 89\n"
     ]
    }
   ],
   "source": [
    "# Retrieve the median value, lower and upper quartiles\n",
    "median = arr[index_median]\n",
    "lower = arr[index_lower]\n",
    "upper = arr[index_upper]\n",
    "\n",
    "print(f'Lower quartile: {lower}')\n",
    "print(f'Median: {median}')\n",
    "print(f'Upper quartile: {upper}')"
   ]
  },
  {
   "cell_type": "code",
   "execution_count": 5,
   "metadata": {},
   "outputs": [
    {
     "name": "stdout",
     "output_type": "stream",
     "text": [
      "Interquartile range: 72\n"
     ]
    }
   ],
   "source": [
    "# Calculate the interquartile range\n",
    "interquartile_range = upper-lower\n",
    "print(f'Interquartile range: {interquartile_range}')"
   ]
  },
  {
   "cell_type": "code",
   "execution_count": 6,
   "metadata": {},
   "outputs": [
    {
     "name": "stdout",
     "output_type": "stream",
     "text": [
      "[8 8]\n",
      "[17 24 54 78 89]\n",
      "[102 132]\n"
     ]
    }
   ],
   "source": [
    "# Create three new arrays from original data:\n",
    "# - 1 array containing all of the data between the lower and \n",
    "#      upper quartiles (data that you will keep)\n",
    "# - 1 array containing all of the data below the lower quartile\n",
    "# - 1 array containing all of the data above the upper quartile\n",
    "\n",
    "x_values_excluded_low = np.arange(0, index_lower)\n",
    "excluded_low = arr[x_values_excluded_low]\n",
    "\n",
    "x_values_included = np.arange(index_lower, index_upper + 1)\n",
    "included = arr[x_values_included]\n",
    "\n",
    "x_values_excluded_high = np.arange(index_upper + 1, length)\n",
    "excluded_high = arr[x_values_excluded_high]\n",
    "\n",
    "print(excluded_low)\n",
    "print(included)\n",
    "print(excluded_high)"
   ]
  },
  {
   "cell_type": "code",
   "execution_count": 7,
   "metadata": {},
   "outputs": [
    {
     "data": {
      "image/png": "[encoded data removed]",
      "text/plain": [
       "<matplotlib.figure.Figure at 0x10aae8a58>"
      ]
     },
     "metadata": {},
     "output_type": "display_data"
    }
   ],
   "source": [
    "# Create a plot displaying included and excluded data\n",
    "plt.scatter(x_values_included, included, marker='o', color='b',\n",
    "            label='Included data')\n",
    "plt.scatter(x_values_excluded_low, excluded_low, marker='o',\n",
    "            edgecolors='r', facecolors='', label='Excluded data')\n",
    "plt.scatter(x_values_excluded_high, excluded_high, marker='o',\n",
    "            edgecolors='r', facecolors='')\n",
    "plt.legend()\n",
    "plt.show()"
   ]
  },
  {
   "cell_type": "markdown",
   "metadata": {
    "collapsed": true
   },
   "source": [
    "# Method 2\n",
    "\n",
    "In this method, we use numpy to calculate the median, lower and upper quartiles. We then select the excluded and included data based on these values."
   ]
  },
  {
   "cell_type": "code",
   "execution_count": 8,
   "metadata": {},
   "outputs": [
    {
     "name": "stdout",
     "output_type": "stream",
     "text": [
      "Lower quartile: 17.0\n",
      "Median: 54.0\n",
      "Upper quartile: 89.0\n"
     ]
    }
   ],
   "source": [
    "lower, median, upper = np.percentile(arr, [25, 50, 75])\n",
    "\n",
    "print(f'Lower quartile: {lower}')\n",
    "print(f'Median: {median}')\n",
    "print(f'Upper quartile: {upper}')"
   ]
  },
  {
   "cell_type": "code",
   "execution_count": 9,
   "metadata": {},
   "outputs": [
    {
     "name": "stdout",
     "output_type": "stream",
     "text": [
      "[0 1] [8 8]\n",
      "[2 3 4 5 6] [17 24 54 78 89]\n",
      "[7 8] [102 132]\n"
     ]
    }
   ],
   "source": [
    "x_values = np.arange(len(arr))\n",
    "\n",
    "x_values_excluded_low = x_values[arr < lower]\n",
    "excluded_low = arr[arr < lower]\n",
    "\n",
    "x_values_excluded_high = x_values[arr > upper]\n",
    "excluded_high = arr[arr > upper]\n",
    "\n",
    "x_values_included = x_values[(arr >= lower) & (arr <= upper)]\n",
    "included = arr[(arr >= lower) & (arr <= upper)]\n",
    "\n",
    "print(x_values_excluded_low, excluded_low)\n",
    "print(x_values_included, included)\n",
    "print(x_values_excluded_high, excluded_high)"
   ]
  },
  {
   "cell_type": "code",
   "execution_count": 10,
   "metadata": {},
   "outputs": [
    {
     "data": {
      "image/png": "[encoded data removed]",
      "text/plain": [
       "<matplotlib.figure.Figure at 0x1070ac748>"
      ]
     },
     "metadata": {},
     "output_type": "display_data"
    }
   ],
   "source": [
    "# Create a plot displaying included and excluded data\n",
    "plt.scatter(x_values_included, included, marker='o', color='b',\n",
    "            label='Included data')\n",
    "plt.scatter(x_values_excluded_low, excluded_low, marker='o',\n",
    "            edgecolors='r', facecolors='', label='Excluded data')\n",
    "plt.scatter(x_values_excluded_high, excluded_high, marker='o',\n",
    "            edgecolors='r', facecolors='')\n",
    "plt.legend()\n",
    "plt.show()"
   ]
  },
  {
   "cell_type": "code",
   "execution_count": null,
   "metadata": {
    "collapsed": true
   },
   "outputs": [],
   "source": []
  }
 ],
 "metadata": {
  "kernelspec": {
   "display_name": "Python [conda env:PythonData]",
   "language": "python",
   "name": "conda-env-PythonData-py"
  },
  "language_info": {
   "codemirror_mode": {
    "name": "ipython",
    "version": 3
   },
   "file_extension": ".py",
   "mimetype": "text/x-python",
   "name": "python",
   "nbconvert_exporter": "python",
   "pygments_lexer": "ipython3",
   "version": "3.6.2"
  }
 },
 "nbformat": 4,
 "nbformat_minor": 2
}
