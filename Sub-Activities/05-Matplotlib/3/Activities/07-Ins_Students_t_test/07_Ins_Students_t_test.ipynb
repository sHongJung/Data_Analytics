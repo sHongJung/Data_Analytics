{
 "cells": [
  {
   "cell_type": "markdown",
   "metadata": {},
   "source": [
    "## T-test"
   ]
  },
  {
   "cell_type": "code",
   "execution_count": 1,
   "metadata": {
    "collapsed": true
   },
   "outputs": [],
   "source": [
    "# Imports\n",
    "import numpy as np\n",
    "import os\n",
    "import pandas as pd\n",
    "import matplotlib.pyplot as plt\n",
    "import scipy.stats as stats"
   ]
  },
  {
   "cell_type": "code",
   "execution_count": 2,
   "metadata": {},
   "outputs": [
    {
     "data": {
      "text/html": [
       "<div>\n",
       "<style>\n",
       "    .dataframe thead tr:only-child th {\n",
       "        text-align: right;\n",
       "    }\n",
       "\n",
       "    .dataframe thead th {\n",
       "        text-align: left;\n",
       "    }\n",
       "\n",
       "    .dataframe tbody tr th {\n",
       "        vertical-align: top;\n",
       "    }\n",
       "</style>\n",
       "<table border=\"1\" class=\"dataframe\">\n",
       "  <thead>\n",
       "    <tr style=\"text-align: right;\">\n",
       "      <th></th>\n",
       "      <th>Home Value</th>\n",
       "    </tr>\n",
       "  </thead>\n",
       "  <tbody>\n",
       "    <tr>\n",
       "      <th>0</th>\n",
       "      <td>24.0</td>\n",
       "    </tr>\n",
       "    <tr>\n",
       "      <th>1</th>\n",
       "      <td>21.6</td>\n",
       "    </tr>\n",
       "    <tr>\n",
       "      <th>2</th>\n",
       "      <td>34.7</td>\n",
       "    </tr>\n",
       "    <tr>\n",
       "      <th>3</th>\n",
       "      <td>33.4</td>\n",
       "    </tr>\n",
       "    <tr>\n",
       "      <th>4</th>\n",
       "      <td>36.2</td>\n",
       "    </tr>\n",
       "  </tbody>\n",
       "</table>\n",
       "</div>"
      ],
      "text/plain": [
       "   Home Value\n",
       "0        24.0\n",
       "1        21.6\n",
       "2        34.7\n",
       "3        33.4\n",
       "4        36.2"
      ]
     },
     "execution_count": 2,
     "metadata": {},
     "output_type": "execute_result"
    }
   ],
   "source": [
    "# Read csv file, only import column corresponding to home values\n",
    "csvpath = os.path.join('Resources', 'housing_data.csv')\n",
    "housing_data = pd.read_csv(csvpath, header=None,\n",
    "                           usecols=[13], names=['Home Value'])\n",
    "housing_data.head()"
   ]
  },
  {
   "cell_type": "code",
   "execution_count": 3,
   "metadata": {
    "scrolled": true
   },
   "outputs": [
    {
     "data": {
      "text/html": [
       "<div>\n",
       "<style>\n",
       "    .dataframe thead tr:only-child th {\n",
       "        text-align: right;\n",
       "    }\n",
       "\n",
       "    .dataframe thead th {\n",
       "        text-align: left;\n",
       "    }\n",
       "\n",
       "    .dataframe tbody tr th {\n",
       "        vertical-align: top;\n",
       "    }\n",
       "</style>\n",
       "<table border=\"1\" class=\"dataframe\">\n",
       "  <thead>\n",
       "    <tr style=\"text-align: right;\">\n",
       "      <th></th>\n",
       "      <th>Sample 1</th>\n",
       "      <th>Sample 2</th>\n",
       "      <th>Sample 3</th>\n",
       "    </tr>\n",
       "  </thead>\n",
       "  <tbody>\n",
       "    <tr>\n",
       "      <th>0</th>\n",
       "      <td>25.2</td>\n",
       "      <td>20.8</td>\n",
       "      <td>6.3</td>\n",
       "    </tr>\n",
       "    <tr>\n",
       "      <th>1</th>\n",
       "      <td>24.0</td>\n",
       "      <td>22.6</td>\n",
       "      <td>8.8</td>\n",
       "    </tr>\n",
       "    <tr>\n",
       "      <th>2</th>\n",
       "      <td>30.1</td>\n",
       "      <td>20.6</td>\n",
       "      <td>15.6</td>\n",
       "    </tr>\n",
       "    <tr>\n",
       "      <th>3</th>\n",
       "      <td>50.0</td>\n",
       "      <td>19.3</td>\n",
       "      <td>13.4</td>\n",
       "    </tr>\n",
       "    <tr>\n",
       "      <th>4</th>\n",
       "      <td>31.7</td>\n",
       "      <td>22.6</td>\n",
       "      <td>14.6</td>\n",
       "    </tr>\n",
       "  </tbody>\n",
       "</table>\n",
       "</div>"
      ],
      "text/plain": [
       "   Sample 1  Sample 2  Sample 3\n",
       "0      25.2      20.8       6.3\n",
       "1      24.0      22.6       8.8\n",
       "2      30.1      20.6      15.6\n",
       "3      50.0      19.3      13.4\n",
       "4      31.7      22.6      14.6"
      ]
     },
     "execution_count": 3,
     "metadata": {},
     "output_type": "execute_result"
    }
   ],
   "source": [
    "# Create samples with high values, mid values and low values\n",
    "sample_size = 25\n",
    "home_values = housing_data['Home Value']\n",
    "\n",
    "low_limit, high_limit = home_values.quantile([0.33, 0.66])\n",
    "\n",
    "high_prices = housing_data.loc[home_values > high_limit, 'Home Value']\n",
    "medium_prices = housing_data.loc[(low_limit < home_values) &\n",
    "                                 (home_values < high_limit),\n",
    "                                 'Home Value']\n",
    "low_prices = housing_data.loc[low_limit > home_values, 'Home Value']\n",
    "\n",
    "samples = {'Sample 1': np.random.choice(high_prices, sample_size),\n",
    "           'Sample 2': np.random.choice(medium_prices, sample_size),\n",
    "           'Sample 3': np.random.choice(low_prices, sample_size)}\n",
    "\n",
    "# Create a DataFrame from dictionary of samples\n",
    "samples_df = pd.DataFrame(samples)\n",
    "samples_df.head()"
   ]
  },
  {
   "cell_type": "code",
   "execution_count": 4,
   "metadata": {},
   "outputs": [
    {
     "data": {
      "text/plain": [
       "Sample 1    30.404\n",
       "Sample 2    21.276\n",
       "Sample 3    14.568\n",
       "dtype: float64"
      ]
     },
     "execution_count": 4,
     "metadata": {},
     "output_type": "execute_result"
    }
   ],
   "source": [
    "# Calculate the means\n",
    "\n",
    "means = samples_df.mean()\n",
    "means"
   ]
  },
  {
   "cell_type": "code",
   "execution_count": 5,
   "metadata": {},
   "outputs": [
    {
     "data": {
      "text/plain": [
       "Sample 1    1.544339\n",
       "Sample 2    0.242850\n",
       "Sample 3    0.633107\n",
       "dtype: float64"
      ]
     },
     "execution_count": 5,
     "metadata": {},
     "output_type": "execute_result"
    }
   ],
   "source": [
    "# Calculate the standard errors\n",
    "\n",
    "standard_errors = samples_df.sem()\n",
    "standard_errors"
   ]
  },
  {
   "cell_type": "code",
   "execution_count": 6,
   "metadata": {},
   "outputs": [
    {
     "data": {
      "image/png": "[encoded data removed]",
      "text/plain": [
       "<matplotlib.figure.Figure at 0x115aea6a0>"
      ]
     },
     "metadata": {},
     "output_type": "display_data"
    }
   ],
   "source": [
    "# Plot the means and the standard errors\n",
    "x_values = np.arange(3)\n",
    "plt.errorbar(x_values, means, standard_errors, fmt='o')\n",
    "\n",
    "plt.xlabel(\"Sample Number\")\n",
    "plt.ylabel(\"Mean of median home value\")\n",
    "\n",
    "plt.show()"
   ]
  },
  {
   "cell_type": "code",
   "execution_count": 7,
   "metadata": {},
   "outputs": [
    {
     "name": "stdout",
     "output_type": "stream",
     "text": [
      "t-score:  9.48789798377\n",
      "p-value:  8.47327777648e-11\n"
     ]
    }
   ],
   "source": [
    "# Perform t-test to find out if the differences between two samples\n",
    "# are are due to chance and therefore if the two samples represent the\n",
    "# same underlying population.\n",
    "\n",
    "# The t score is a ratio between the difference between two samples\n",
    "# and the difference within the samples.\n",
    "\n",
    "# p-value is the probability that the differences occurred by chance.\n",
    "\n",
    "# equal_var must be False with samples that have different variances\n",
    "tscore, pvalue = stats.ttest_ind(samples_df['Sample 1'],\n",
    "                                 samples_df['Sample 3'],\n",
    "                                 equal_var=False)\n",
    "print('t-score: ', tscore)\n",
    "print('p-value: ', pvalue)"
   ]
  },
  {
   "cell_type": "code",
   "execution_count": 8,
   "metadata": {},
   "outputs": [
    {
     "name": "stdout",
     "output_type": "stream",
     "text": [
      "t-score:  -1.68306786197\n",
      "p-value:  0.102121348885\n"
     ]
    }
   ],
   "source": [
    "# If we now select two random samples\n",
    "sample1 = np.random.choice(home_values, sample_size)\n",
    "sample2 = np.random.choice(home_values, sample_size)\n",
    "\n",
    "tscore, pvalue = stats.ttest_ind(sample1, sample2, equal_var=False)\n",
    "print('t-score: ', tscore)\n",
    "print('p-value: ', pvalue)"
   ]
  },
  {
   "cell_type": "code",
   "execution_count": null,
   "metadata": {
    "collapsed": true
   },
   "outputs": [],
   "source": []
  }
 ],
 "metadata": {
  "kernelspec": {
   "display_name": "Python [conda env:PythonData]",
   "language": "python",
   "name": "conda-env-PythonData-py"
  },
  "language_info": {
   "codemirror_mode": {
    "name": "ipython",
    "version": 3
   },
   "file_extension": ".py",
   "mimetype": "text/x-python",
   "name": "python",
   "nbconvert_exporter": "python",
   "pygments_lexer": "ipython3",
   "version": "3.6.2"
  }
 },
 "nbformat": 4,
 "nbformat_minor": 2
}
